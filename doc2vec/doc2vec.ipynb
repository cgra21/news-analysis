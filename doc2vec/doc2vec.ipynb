{
 "cells": [
  {
   "cell_type": "code",
   "execution_count": 1,
   "id": "c51cfcf1-bf3a-4d1f-976d-664e41b9bb27",
   "metadata": {},
   "outputs": [
    {
     "name": "stdout",
     "output_type": "stream",
     "text": [
      "2.0.1\n"
     ]
    }
   ],
   "source": [
    "import gensim\n",
    "import spacy\n",
    "import pandas as pd\n",
    "import numpy as np\n",
    "from tqdm import tqdm\n",
    "import multiprocessing as mp\n",
    "tqdm.pandas()\n",
    "print(pd.__version__)"
   ]
  },
  {
   "cell_type": "markdown",
   "id": "0ac95ac8-8704-4471-ad5e-e6e2fe6b79aa",
   "metadata": {
    "tags": []
   },
   "source": [
    "# Data Preprocessing\n"
   ]
  },
  {
   "cell_type": "markdown",
   "id": "6d764689-a6f1-4e96-b9f7-7a08b575ea79",
   "metadata": {},
   "source": [
    "## Load the Data"
   ]
  },
  {
   "cell_type": "code",
   "execution_count": 2,
   "id": "83182a9d-bf6b-4bc3-bc12-e41733ad0bef",
   "metadata": {},
   "outputs": [],
   "source": [
    "# Intial data cleaning step\n",
    "data = pd.read_csv('all-the-news-2-1.csv')\n",
    "data = data[data['publication'].isna() == False]\n",
    "data = data[data['article'].isna() == False].reset_index(drop = True)"
   ]
  },
  {
   "cell_type": "code",
   "execution_count": 3,
   "id": "a45e9071-700a-4d63-a10a-6a5b8896b8d4",
   "metadata": {},
   "outputs": [
    {
     "data": {
      "text/plain": [
       "Index(['date', 'year', 'month', 'day', 'author', 'title', 'article', 'url',\n",
       "       'section', 'publication'],\n",
       "      dtype='object')"
      ]
     },
     "execution_count": 3,
     "metadata": {},
     "output_type": "execute_result"
    }
   ],
   "source": [
    "data.columns"
   ]
  },
  {
   "cell_type": "code",
   "execution_count": 4,
   "id": "56147c62-1a77-41b2-a1c5-7bc993f0ce60",
   "metadata": {},
   "outputs": [],
   "source": [
    "test_data = data[0:10000]"
   ]
  },
  {
   "cell_type": "code",
   "execution_count": 3,
   "id": "c1612187-6b21-467e-ab87-3064bdc8eee9",
   "metadata": {},
   "outputs": [],
   "source": [
    "from spacy.tokenizer import Tokenizer\n",
    "from spacy.lang.en import English\n",
    "nlp = spacy.load('en_core_web_sm', disable=['parser', 'ner', 'tagger'])"
   ]
  },
  {
   "cell_type": "code",
   "execution_count": 27,
   "id": "38684456-b9f3-4bbf-8bf9-0cbd2f9c4e05",
   "metadata": {},
   "outputs": [
    {
     "name": "stderr",
     "output_type": "stream",
     "text": [
      "30000it [00:44, 675.24it/s]\n"
     ]
    },
    {
     "name": "stdout",
     "output_type": "stream",
     "text": [
      "without Batching took 44.4306 seconds\n",
      "other parts disabled took 114.1044 seconds\n"
     ]
    }
   ],
   "source": [
    "#Tokenization speed test\n",
    "from tqdm import tqdm\n",
    "import time\n",
    "docs = test_data['article']\n",
    "#batches = np.array_split(docs, 100)\n",
    "final_tokens = []\n",
    "# t1 = time.time()\n",
    "# for doc in tqdm(nlp.pipe(docs, batch_size=50)):\n",
    "#     tokens = [token.text for token in doc]\n",
    "#     final_tokens.append(tokens)\n",
    "# t2 = time.time()\n",
    "# print(f'Batching took {t2-t1:0.04f} seconds')\n",
    "t1 = time.time()\n",
    "final_tokens = []\n",
    "for doc in tqdm(nlp.pipe(docs,disable=[\"tok2vec\", \"tagger\", \"parser\", \"attribute_ruler\", \"lemmatizer\",\"ner\"])):\n",
    "    tokens = [token.text for token in doc]\n",
    "    final_tokens.append(tokens)\n",
    "t2 = time.time()\n",
    "print(f'without Batching took {t2-t1:0.04f} seconds')\n",
    "t1 = time.time()\n",
    "final_tokens = []\n",
    "for doc in nlp.pipe(docs, disable=[\"tok2vec\", \"tagger\", \"parser\", \"attribute_ruler\", \"lemmatizer\",\"ner\"], n_process = 2, batch_size = 2000):\n",
    "    tokens = [token.text for token in doc]\n",
    "    final_tokens.append(tokens)\n",
    "t2 = time.time()\n",
    "print(f'other parts disabled took {t2-t1:0.04f} seconds')    "
   ]
  },
  {
   "cell_type": "code",
   "execution_count": null,
   "id": "18ca81b1-51a4-4430-ac68-b5c0f1862b2a",
   "metadata": {
    "collapsed": true,
    "jupyter": {
     "outputs_hidden": true
    },
    "tags": []
   },
   "outputs": [
    {
     "name": "stderr",
     "output_type": "stream",
     "text": [
      "25842it [00:31, 826.78it/s]\n",
      "25842it [00:33, 768.38it/s]\n",
      "25842it [00:32, 792.19it/s]\n",
      "25842it [00:31, 820.47it/s]\n",
      "25842it [00:32, 797.57it/s]\n",
      "25842it [00:30, 843.84it/s] \n",
      "25842it [00:30, 838.06it/s]\n",
      "25842it [00:16, 1538.18it/s]\n",
      "25842it [00:26, 982.05it/s] \n",
      "25842it [00:28, 912.38it/s] \n",
      "25842it [00:25, 1028.01it/s]\n",
      "25842it [00:18, 1424.39it/s]\n",
      "25842it [00:22, 1157.12it/s]\n",
      "25842it [00:24, 1056.85it/s]\n",
      "25842it [00:21, 1196.06it/s]\n",
      "25842it [00:22, 1136.00it/s]\n",
      "25842it [00:22, 1155.93it/s]\n",
      "25842it [00:25, 1000.09it/s]\n",
      "25842it [00:25, 1026.49it/s]\n",
      "25842it [00:19, 1358.57it/s]\n",
      "25842it [00:22, 1164.87it/s]\n",
      "25842it [00:27, 938.04it/s] \n",
      "25842it [00:21, 1214.84it/s]\n",
      "25842it [00:19, 1292.81it/s]\n",
      "25842it [00:55, 467.55it/s] \n",
      "25842it [00:28, 912.13it/s] \n",
      "25842it [00:24, 1069.77it/s]\n",
      "25842it [00:20, 1268.76it/s]\n",
      "25842it [00:20, 1272.50it/s]\n",
      "25842it [00:20, 1262.20it/s]\n",
      "25842it [00:21, 1227.23it/s]\n",
      "25842it [00:19, 1293.96it/s]\n",
      "25842it [00:22, 1132.53it/s]\n",
      "25842it [00:23, 1123.24it/s]\n",
      "25842it [00:24, 1071.07it/s]\n",
      "25842it [00:24, 1040.86it/s]\n",
      "25842it [00:26, 958.30it/s] \n",
      "25842it [06:19, 68.12it/s]  \n",
      "25842it [00:30, 843.59it/s] \n",
      "25842it [00:26, 986.90it/s] \n",
      "25842it [00:20, 1260.65it/s]\n",
      "25842it [00:19, 1354.03it/s]\n",
      "25842it [00:29, 889.72it/s] \n",
      "25842it [00:27, 949.12it/s] \n",
      "25842it [00:16, 1583.68it/s]\n",
      "25842it [00:14, 1739.25it/s]\n",
      "25842it [00:21, 1190.55it/s]\n",
      "25842it [00:22, 1127.10it/s]\n",
      "25842it [00:13, 1860.33it/s]\n",
      "25842it [00:14, 1757.21it/s]\n",
      "25842it [00:14, 1792.58it/s]\n",
      "25842it [00:20, 1283.52it/s]\n",
      "25842it [00:19, 1306.98it/s]\n",
      "25842it [00:19, 1330.79it/s]\n",
      "25842it [09:39, 44.60it/s]  \n",
      "25842it [00:32, 783.71it/s] \n",
      "25842it [00:35, 731.35it/s] \n",
      "25842it [00:24, 1045.85it/s]\n",
      "25842it [00:26, 974.86it/s] \n",
      "25842it [00:27, 928.06it/s] \n",
      "25842it [00:26, 967.47it/s] \n",
      "25842it [00:26, 961.94it/s] \n",
      "25842it [00:23, 1079.31it/s]\n",
      "25842it [00:30, 859.84it/s] \n",
      "25842it [00:31, 826.52it/s]\n",
      "25841it [00:28, 898.84it/s]\n",
      "25841it [00:27, 945.85it/s] \n",
      "25841it [00:30, 834.12it/s]\n",
      "25841it [00:33, 771.82it/s]\n",
      "25841it [00:38, 678.00it/s]\n",
      "25841it [00:38, 666.98it/s]\n",
      "25841it [00:38, 680.02it/s]\n",
      "25841it [00:35, 724.42it/s] \n",
      "25841it [00:42, 602.49it/s]\n",
      "25841it [00:42, 611.42it/s] \n",
      "25841it [17:28, 24.64it/s] \n",
      "25841it [00:54, 477.59it/s]\n",
      "25841it [00:52, 495.40it/s]\n",
      "25841it [00:54, 474.82it/s]\n",
      "25841it [00:58, 444.26it/s]\n",
      "25841it [01:04, 399.10it/s]\n",
      "25841it [01:01, 420.39it/s]\n",
      "25841it [01:00, 427.74it/s] \n",
      "25841it [00:30, 857.33it/s] \n",
      "25841it [00:33, 781.33it/s] \n",
      "25841it [00:36, 698.87it/s] \n",
      "25841it [00:47, 548.82it/s] \n",
      "25841it [00:41, 622.30it/s] \n",
      "25841it [00:45, 573.41it/s] \n",
      "25841it [00:52, 489.63it/s] \n",
      "25841it [00:42, 605.76it/s] \n",
      "25841it [00:44, 580.14it/s] \n",
      "25841it [00:45, 563.69it/s] \n",
      "25841it [00:40, 642.64it/s] \n",
      "25841it [00:48, 527.85it/s] \n",
      "25841it [00:31, 809.53it/s] \n",
      "25841it [00:40, 632.02it/s] \n",
      "5487it [00:07, 644.06it/s]"
     ]
    }
   ],
   "source": [
    "#Tokenization\n",
    "from tqdm import tqdm\n",
    "docs = data['article']\n",
    "batches = np.array_split(docs, 100)\n",
    "final_tokens = []\n",
    "for batch in batches:\n",
    "    for doc in tqdm(nlp.pipe(batch,disable=[\"tok2vec\", \"tagger\", \"parser\", \"attribute_ruler\", \"lemmatizer\",\"ner\"])):\n",
    "        tokens = [token.text for token in doc]\n",
    "        final_tokens.append(tokens)"
   ]
  },
  {
   "cell_type": "markdown",
   "id": "a8ff782b-0570-4c11-b5c9-9b0549f541c2",
   "metadata": {},
   "source": [
    "## Doc2vec model"
   ]
  },
  {
   "cell_type": "code",
   "execution_count": 6,
   "id": "a2ad33c0-724e-446e-a3fe-39c7c3d4361f",
   "metadata": {},
   "outputs": [
    {
     "name": "stderr",
     "output_type": "stream",
     "text": [
      "100%|██████████████████████████████████████████████████████████████████████████████████| 26/26 [00:00<00:00, 39.96it/s]\n"
     ]
    }
   ],
   "source": [
    "# First will try on downsampled corpus\n",
    "from gensim.models.doc2vec import Doc2Vec, TaggedDocument\n",
    "df_resample = data.groupby('publication', as_index = False).progress_apply(lambda x: x.sample(3332))\n",
    "df_resample = df_resample.reset_index(drop = True)"
   ]
  },
  {
   "cell_type": "code",
   "execution_count": 77,
   "id": "a93778c8-591a-4c22-9c48-385cc13d0290",
   "metadata": {
    "tags": []
   },
   "outputs": [
    {
     "name": "stderr",
     "output_type": "stream",
     "text": [
      "86632it [02:25, 595.47it/s] \n"
     ]
    }
   ],
   "source": [
    "# tokenize our documents\n",
    "final_tokens= []\n",
    "docs = df_resample['article']\n",
    "for doc in tqdm(nlp.pipe(docs,disable=[\"tok2vec\", \"tagger\", \"parser\", \"attribute_ruler\", \"lemmatizer\",\"ner\"])):\n",
    "    tokens = [token.text.lower() for token in doc]\n",
    "    final_tokens.append(tokens)\n",
    "df_resample['tokens'] = final_tokens"
   ]
  },
  {
   "cell_type": "code",
   "execution_count": 9,
   "id": "452324a0-57bf-4e37-8bc6-57ffd16f17dd",
   "metadata": {
    "tags": []
   },
   "outputs": [],
   "source": [
    "# Intialize logging to see progress\n",
    "import logging\n",
    "logging.basicConfig(format='%(asctime)s : %(levelname)s : %(message)s', level=logging.INFO)"
   ]
  },
  {
   "cell_type": "code",
   "execution_count": 80,
   "id": "dfeb8681-57e8-4c11-b15a-bb765d191a91",
   "metadata": {},
   "outputs": [],
   "source": [
    "# create tagged documents\n",
    "# Note: since this is already a small sample of our original data, I have not created a train-test split, because\n",
    "# I can pull more documents from the full data to create testing data\n",
    "documents = [TaggedDocument(article[0], [i,article[1]]) for i, article in enumerate(zip(df_resample.tokens, df_resample.publication))]"
   ]
  },
  {
   "cell_type": "code",
   "execution_count": 81,
   "id": "0983f468-3c81-43a5-a903-d5a0ba98c512",
   "metadata": {
    "tags": []
   },
   "outputs": [],
   "source": [
    "# Rename\n",
    "train_corpus = documents"
   ]
  },
  {
   "cell_type": "code",
   "execution_count": 83,
   "id": "86037794-ce5c-4ba8-b8db-2aa5749f9a30",
   "metadata": {
    "tags": []
   },
   "outputs": [
    {
     "name": "stderr",
     "output_type": "stream",
     "text": [
      "2023-05-15 15:58:19,487 : INFO : Doc2Vec lifecycle event {'params': 'Doc2Vec<dm/m,d50,n5,w2,mc2,s0.001,t16>', 'datetime': '2023-05-15T15:58:19.487430', 'gensim': '4.3.1', 'python': '3.11.3 | packaged by Anaconda, Inc. | (main, Apr 19 2023, 23:46:34) [MSC v.1916 64 bit (AMD64)]', 'platform': 'Windows-10-10.0.19044-SP0', 'event': 'created'}\n"
     ]
    }
   ],
   "source": [
    "model = Doc2Vec(vector_size=50, window=2, min_count=2, workers=16, epochs=25)"
   ]
  },
  {
   "cell_type": "code",
   "execution_count": 84,
   "id": "2a34ede3-b141-4da2-9ec9-751ccfcb8e28",
   "metadata": {
    "collapsed": true,
    "jupyter": {
     "outputs_hidden": true
    },
    "tags": []
   },
   "outputs": [
    {
     "name": "stderr",
     "output_type": "stream",
     "text": [
      "2023-05-15 15:58:20,561 : INFO : collecting all words and their counts\n",
      "2023-05-15 15:58:20,561 : INFO : PROGRESS: at example #0, processed 0 words (0 words/s), 0 word types, 0 tags\n",
      "2023-05-15 15:58:21,732 : INFO : PROGRESS: at example #10000, processed 7222590 words (6170069 words/s), 104582 word types, 4 tags\n",
      "2023-05-15 15:58:22,954 : INFO : PROGRESS: at example #20000, processed 14856279 words (6252672 words/s), 150504 word types, 7 tags\n",
      "2023-05-15 15:58:24,302 : INFO : PROGRESS: at example #30000, processed 22807456 words (5900340 words/s), 216028 word types, 10 tags\n",
      "2023-05-15 15:58:26,616 : INFO : PROGRESS: at example #40000, processed 36819116 words (6057233 words/s), 279756 word types, 13 tags\n",
      "2023-05-15 15:58:27,684 : INFO : PROGRESS: at example #50000, processed 43323200 words (6089949 words/s), 299827 word types, 16 tags\n",
      "2023-05-15 15:58:28,337 : INFO : PROGRESS: at example #60000, processed 47275519 words (6062764 words/s), 319858 word types, 19 tags\n",
      "2023-05-15 15:58:29,673 : INFO : PROGRESS: at example #70000, processed 55297186 words (6005596 words/s), 348618 word types, 22 tags\n",
      "2023-05-15 15:58:31,435 : INFO : PROGRESS: at example #80000, processed 66193460 words (6189556 words/s), 374251 word types, 25 tags\n",
      "2023-05-15 15:58:32,213 : INFO : collected 397682 word types and 86658 unique tags from a corpus of 86632 examples and 70790138 words\n",
      "2023-05-15 15:58:32,214 : INFO : Creating a fresh vocabulary\n",
      "2023-05-15 15:58:32,911 : INFO : Doc2Vec lifecycle event {'msg': 'effective_min_count=2 retains 194541 unique words (48.92% of original 397682, drops 203141)', 'datetime': '2023-05-15T15:58:32.911770', 'gensim': '4.3.1', 'python': '3.11.3 | packaged by Anaconda, Inc. | (main, Apr 19 2023, 23:46:34) [MSC v.1916 64 bit (AMD64)]', 'platform': 'Windows-10-10.0.19044-SP0', 'event': 'prepare_vocab'}\n",
      "2023-05-15 15:58:32,912 : INFO : Doc2Vec lifecycle event {'msg': 'effective_min_count=2 leaves 70586997 word corpus (99.71% of original 70790138, drops 203141)', 'datetime': '2023-05-15T15:58:32.912290', 'gensim': '4.3.1', 'python': '3.11.3 | packaged by Anaconda, Inc. | (main, Apr 19 2023, 23:46:34) [MSC v.1916 64 bit (AMD64)]', 'platform': 'Windows-10-10.0.19044-SP0', 'event': 'prepare_vocab'}\n",
      "2023-05-15 15:58:33,876 : INFO : deleting the raw counts dictionary of 397682 items\n",
      "2023-05-15 15:58:33,887 : INFO : sample=0.001 downsamples 43 most-common words\n",
      "2023-05-15 15:58:33,887 : INFO : Doc2Vec lifecycle event {'msg': 'downsampling leaves estimated 53033586.637058884 word corpus (75.1%% of prior 70586997)', 'datetime': '2023-05-15T15:58:33.887661', 'gensim': '4.3.1', 'python': '3.11.3 | packaged by Anaconda, Inc. | (main, Apr 19 2023, 23:46:34) [MSC v.1916 64 bit (AMD64)]', 'platform': 'Windows-10-10.0.19044-SP0', 'event': 'prepare_vocab'}\n",
      "2023-05-15 15:58:35,386 : INFO : estimated required memory for 194541 words and 50 dimensions: 209750100 bytes\n",
      "2023-05-15 15:58:35,387 : INFO : resetting layer weights\n"
     ]
    }
   ],
   "source": [
    "model.build_vocab(train_corpus)"
   ]
  },
  {
   "cell_type": "code",
   "execution_count": 85,
   "id": "c98c9c36-bf33-4bd3-ad48-19bbce30c9c6",
   "metadata": {
    "collapsed": true,
    "jupyter": {
     "outputs_hidden": true
    },
    "tags": []
   },
   "outputs": [
    {
     "name": "stderr",
     "output_type": "stream",
     "text": [
      "2023-05-15 15:58:35,444 : INFO : Doc2Vec lifecycle event {'msg': 'training model with 16 workers on 194541 vocabulary and 50 features, using sg=0 hs=0 sample=0.001 negative=5 window=2 shrink_windows=True', 'datetime': '2023-05-15T15:58:35.444338', 'gensim': '4.3.1', 'python': '3.11.3 | packaged by Anaconda, Inc. | (main, Apr 19 2023, 23:46:34) [MSC v.1916 64 bit (AMD64)]', 'platform': 'Windows-10-10.0.19044-SP0', 'event': 'train'}\n",
      "2023-05-15 15:58:36,456 : INFO : EPOCH 0 - PROGRESS: at 5.30% examples, 1618667 words/s, in_qsize 30, out_qsize 1\n",
      "2023-05-15 15:58:37,458 : INFO : EPOCH 0 - PROGRESS: at 8.34% examples, 1719191 words/s, in_qsize 31, out_qsize 0\n",
      "2023-05-15 15:58:38,458 : INFO : EPOCH 0 - PROGRESS: at 11.22% examples, 1763469 words/s, in_qsize 31, out_qsize 0\n",
      "2023-05-15 15:58:39,460 : INFO : EPOCH 0 - PROGRESS: at 15.63% examples, 1746591 words/s, in_qsize 30, out_qsize 1\n",
      "2023-05-15 15:58:40,462 : INFO : EPOCH 0 - PROGRESS: at 19.23% examples, 1774572 words/s, in_qsize 31, out_qsize 0\n",
      "2023-05-15 15:58:41,469 : INFO : EPOCH 0 - PROGRESS: at 22.32% examples, 1789910 words/s, in_qsize 31, out_qsize 0\n",
      "2023-05-15 15:58:42,470 : INFO : EPOCH 0 - PROGRESS: at 26.05% examples, 1807549 words/s, in_qsize 31, out_qsize 0\n",
      "2023-05-15 15:58:43,473 : INFO : EPOCH 0 - PROGRESS: at 30.23% examples, 1806840 words/s, in_qsize 31, out_qsize 0\n",
      "2023-05-15 15:58:44,473 : INFO : EPOCH 0 - PROGRESS: at 33.32% examples, 1813144 words/s, in_qsize 31, out_qsize 0\n",
      "2023-05-15 15:58:45,477 : INFO : EPOCH 0 - PROGRESS: at 37.33% examples, 1811911 words/s, in_qsize 31, out_qsize 0\n",
      "2023-05-15 15:58:46,480 : INFO : EPOCH 0 - PROGRESS: at 40.69% examples, 1823591 words/s, in_qsize 31, out_qsize 0\n",
      "2023-05-15 15:58:47,483 : INFO : EPOCH 0 - PROGRESS: at 42.86% examples, 1841204 words/s, in_qsize 30, out_qsize 1\n",
      "2023-05-15 15:58:48,483 : INFO : EPOCH 0 - PROGRESS: at 44.20% examples, 1865495 words/s, in_qsize 31, out_qsize 0\n",
      "2023-05-15 15:58:49,486 : INFO : EPOCH 0 - PROGRESS: at 45.52% examples, 1887004 words/s, in_qsize 31, out_qsize 0\n",
      "2023-05-15 15:58:50,488 : INFO : EPOCH 0 - PROGRESS: at 48.86% examples, 1886987 words/s, in_qsize 31, out_qsize 0\n",
      "2023-05-15 15:58:51,493 : INFO : EPOCH 0 - PROGRESS: at 52.62% examples, 1886233 words/s, in_qsize 31, out_qsize 0\n",
      "2023-05-15 15:58:52,502 : INFO : EPOCH 0 - PROGRESS: at 57.04% examples, 1883203 words/s, in_qsize 31, out_qsize 0\n",
      "2023-05-15 15:58:53,510 : INFO : EPOCH 0 - PROGRESS: at 63.62% examples, 1855337 words/s, in_qsize 31, out_qsize 0\n",
      "2023-05-15 15:58:54,511 : INFO : EPOCH 0 - PROGRESS: at 68.88% examples, 1848845 words/s, in_qsize 31, out_qsize 0\n",
      "2023-05-15 15:58:55,522 : INFO : EPOCH 0 - PROGRESS: at 72.98% examples, 1850752 words/s, in_qsize 32, out_qsize 0\n",
      "2023-05-15 15:58:56,526 : INFO : EPOCH 0 - PROGRESS: at 75.86% examples, 1857688 words/s, in_qsize 31, out_qsize 0\n",
      "2023-05-15 15:58:57,527 : INFO : EPOCH 0 - PROGRESS: at 79.67% examples, 1856899 words/s, in_qsize 31, out_qsize 0\n",
      "2023-05-15 15:58:58,527 : INFO : EPOCH 0 - PROGRESS: at 83.17% examples, 1860594 words/s, in_qsize 31, out_qsize 0\n",
      "2023-05-15 15:58:59,528 : INFO : EPOCH 0 - PROGRESS: at 86.39% examples, 1865533 words/s, in_qsize 31, out_qsize 0\n",
      "2023-05-15 15:59:00,531 : INFO : EPOCH 0 - PROGRESS: at 89.31% examples, 1872444 words/s, in_qsize 31, out_qsize 0\n",
      "2023-05-15 15:59:01,533 : INFO : EPOCH 0 - PROGRESS: at 91.70% examples, 1882371 words/s, in_qsize 31, out_qsize 0\n",
      "2023-05-15 15:59:02,533 : INFO : EPOCH 0 - PROGRESS: at 95.03% examples, 1885713 words/s, in_qsize 31, out_qsize 0\n",
      "2023-05-15 15:59:03,534 : INFO : EPOCH 0 - PROGRESS: at 99.43% examples, 1882387 words/s, in_qsize 31, out_qsize 0\n",
      "2023-05-15 15:59:03,631 : INFO : EPOCH 0: training on 70790138 raw words (53072564 effective words) took 28.2s, 1883398 effective words/s\n",
      "2023-05-15 15:59:04,639 : INFO : EPOCH 1 - PROGRESS: at 5.25% examples, 1590164 words/s, in_qsize 31, out_qsize 0\n",
      "2023-05-15 15:59:05,642 : INFO : EPOCH 1 - PROGRESS: at 8.50% examples, 1762494 words/s, in_qsize 31, out_qsize 0\n",
      "2023-05-15 15:59:06,643 : INFO : EPOCH 1 - PROGRESS: at 11.68% examples, 1840301 words/s, in_qsize 31, out_qsize 0\n",
      "2023-05-15 15:59:07,647 : INFO : EPOCH 1 - PROGRESS: at 16.27% examples, 1834082 words/s, in_qsize 31, out_qsize 0\n",
      "2023-05-15 15:59:08,646 : INFO : EPOCH 1 - PROGRESS: at 19.81% examples, 1845867 words/s, in_qsize 31, out_qsize 0\n",
      "2023-05-15 15:59:09,647 : INFO : EPOCH 1 - PROGRESS: at 22.91% examples, 1852976 words/s, in_qsize 31, out_qsize 0\n",
      "2023-05-15 15:59:10,648 : INFO : EPOCH 1 - PROGRESS: at 26.79% examples, 1858604 words/s, in_qsize 31, out_qsize 0\n",
      "2023-05-15 15:59:11,650 : INFO : EPOCH 1 - PROGRESS: at 30.91% examples, 1849867 words/s, in_qsize 30, out_qsize 1\n",
      "2023-05-15 15:59:12,650 : INFO : EPOCH 1 - PROGRESS: at 33.87% examples, 1855263 words/s, in_qsize 31, out_qsize 0\n",
      "2023-05-15 15:59:13,659 : INFO : EPOCH 1 - PROGRESS: at 38.20% examples, 1845236 words/s, in_qsize 31, out_qsize 0\n",
      "2023-05-15 15:59:14,661 : INFO : EPOCH 1 - PROGRESS: at 41.25% examples, 1857655 words/s, in_qsize 30, out_qsize 1\n",
      "2023-05-15 15:59:15,662 : INFO : EPOCH 1 - PROGRESS: at 43.17% examples, 1879371 words/s, in_qsize 31, out_qsize 0\n",
      "2023-05-15 15:59:16,665 : INFO : EPOCH 1 - PROGRESS: at 44.53% examples, 1903623 words/s, in_qsize 30, out_qsize 1\n",
      "2023-05-15 15:59:17,670 : INFO : EPOCH 1 - PROGRESS: at 45.86% examples, 1924497 words/s, in_qsize 31, out_qsize 0\n",
      "2023-05-15 15:59:18,672 : INFO : EPOCH 1 - PROGRESS: at 49.97% examples, 1914588 words/s, in_qsize 31, out_qsize 0\n",
      "2023-05-15 15:59:19,674 : INFO : EPOCH 1 - PROGRESS: at 53.50% examples, 1916839 words/s, in_qsize 31, out_qsize 0\n",
      "2023-05-15 15:59:20,678 : INFO : EPOCH 1 - PROGRESS: at 58.17% examples, 1905337 words/s, in_qsize 31, out_qsize 0\n",
      "2023-05-15 15:59:21,683 : INFO : EPOCH 1 - PROGRESS: at 65.60% examples, 1874087 words/s, in_qsize 31, out_qsize 0\n",
      "2023-05-15 15:59:22,691 : INFO : EPOCH 1 - PROGRESS: at 69.84% examples, 1871981 words/s, in_qsize 31, out_qsize 0\n",
      "2023-05-15 15:59:23,694 : INFO : EPOCH 1 - PROGRESS: at 73.54% examples, 1870753 words/s, in_qsize 30, out_qsize 1\n",
      "2023-05-15 15:59:24,695 : INFO : EPOCH 1 - PROGRESS: at 76.33% examples, 1874122 words/s, in_qsize 31, out_qsize 0\n",
      "2023-05-15 15:59:25,697 : INFO : EPOCH 1 - PROGRESS: at 80.44% examples, 1872416 words/s, in_qsize 31, out_qsize 0\n",
      "2023-05-15 15:59:26,701 : INFO : EPOCH 1 - PROGRESS: at 83.69% examples, 1875119 words/s, in_qsize 30, out_qsize 1\n",
      "2023-05-15 15:59:27,705 : INFO : EPOCH 1 - PROGRESS: at 86.93% examples, 1880758 words/s, in_qsize 32, out_qsize 0\n",
      "2023-05-15 15:59:28,708 : INFO : EPOCH 1 - PROGRESS: at 89.76% examples, 1888773 words/s, in_qsize 31, out_qsize 0\n",
      "2023-05-15 15:59:29,710 : INFO : EPOCH 1 - PROGRESS: at 92.17% examples, 1898237 words/s, in_qsize 31, out_qsize 0\n",
      "2023-05-15 15:59:30,711 : INFO : EPOCH 1 - PROGRESS: at 95.72% examples, 1899407 words/s, in_qsize 31, out_qsize 0\n",
      "2023-05-15 15:59:31,626 : INFO : EPOCH 1: training on 70790138 raw words (53078709 effective words) took 28.0s, 1896497 effective words/s\n",
      "2023-05-15 15:59:32,634 : INFO : EPOCH 2 - PROGRESS: at 5.28% examples, 1608959 words/s, in_qsize 31, out_qsize 0\n",
      "2023-05-15 15:59:33,639 : INFO : EPOCH 2 - PROGRESS: at 8.64% examples, 1799934 words/s, in_qsize 31, out_qsize 0\n",
      "2023-05-15 15:59:34,648 : INFO : EPOCH 2 - PROGRESS: at 11.84% examples, 1854190 words/s, in_qsize 31, out_qsize 0\n",
      "2023-05-15 15:59:35,650 : INFO : EPOCH 2 - PROGRESS: at 16.36% examples, 1840074 words/s, in_qsize 31, out_qsize 0\n",
      "2023-05-15 15:59:36,651 : INFO : EPOCH 2 - PROGRESS: at 19.92% examples, 1854474 words/s, in_qsize 31, out_qsize 0\n",
      "2023-05-15 15:59:37,653 : INFO : EPOCH 2 - PROGRESS: at 23.04% examples, 1863198 words/s, in_qsize 31, out_qsize 0\n",
      "2023-05-15 15:59:38,659 : INFO : EPOCH 2 - PROGRESS: at 26.82% examples, 1856281 words/s, in_qsize 31, out_qsize 0\n",
      "2023-05-15 15:59:39,661 : INFO : EPOCH 2 - PROGRESS: at 30.92% examples, 1846814 words/s, in_qsize 31, out_qsize 0\n",
      "2023-05-15 15:59:40,662 : INFO : EPOCH 2 - PROGRESS: at 33.86% examples, 1850866 words/s, in_qsize 31, out_qsize 0\n",
      "2023-05-15 15:59:41,670 : INFO : EPOCH 2 - PROGRESS: at 38.20% examples, 1842171 words/s, in_qsize 31, out_qsize 0\n",
      "2023-05-15 15:59:42,671 : INFO : EPOCH 2 - PROGRESS: at 41.27% examples, 1856841 words/s, in_qsize 31, out_qsize 0\n",
      "2023-05-15 15:59:43,674 : INFO : EPOCH 2 - PROGRESS: at 43.17% examples, 1876740 words/s, in_qsize 31, out_qsize 0\n",
      "2023-05-15 15:59:44,676 : INFO : EPOCH 2 - PROGRESS: at 44.51% examples, 1900490 words/s, in_qsize 31, out_qsize 0\n",
      "2023-05-15 15:59:45,683 : INFO : EPOCH 2 - PROGRESS: at 45.86% examples, 1922108 words/s, in_qsize 31, out_qsize 0\n",
      "2023-05-15 15:59:46,683 : INFO : EPOCH 2 - PROGRESS: at 49.97% examples, 1912486 words/s, in_qsize 32, out_qsize 0\n",
      "2023-05-15 15:59:47,687 : INFO : EPOCH 2 - PROGRESS: at 53.51% examples, 1915133 words/s, in_qsize 31, out_qsize 0\n",
      "2023-05-15 15:59:48,696 : INFO : EPOCH 2 - PROGRESS: at 58.21% examples, 1903267 words/s, in_qsize 30, out_qsize 1\n",
      "2023-05-15 15:59:49,698 : INFO : EPOCH 2 - PROGRESS: at 65.71% examples, 1874536 words/s, in_qsize 31, out_qsize 0\n",
      "2023-05-15 15:59:50,701 : INFO : EPOCH 2 - PROGRESS: at 69.85% examples, 1871166 words/s, in_qsize 31, out_qsize 0\n",
      "2023-05-15 15:59:51,703 : INFO : EPOCH 2 - PROGRESS: at 73.66% examples, 1873223 words/s, in_qsize 31, out_qsize 0\n",
      "2023-05-15 15:59:52,713 : INFO : EPOCH 2 - PROGRESS: at 76.48% examples, 1877838 words/s, in_qsize 30, out_qsize 1\n",
      "2023-05-15 15:59:53,718 : INFO : EPOCH 2 - PROGRESS: at 80.62% examples, 1874140 words/s, in_qsize 31, out_qsize 0\n",
      "2023-05-15 15:59:54,720 : INFO : EPOCH 2 - PROGRESS: at 83.89% examples, 1878016 words/s, in_qsize 31, out_qsize 0\n",
      "2023-05-15 15:59:55,722 : INFO : EPOCH 2 - PROGRESS: at 87.10% examples, 1883467 words/s, in_qsize 31, out_qsize 0\n",
      "2023-05-15 15:59:56,727 : INFO : EPOCH 2 - PROGRESS: at 89.88% examples, 1891568 words/s, in_qsize 31, out_qsize 0\n",
      "2023-05-15 15:59:57,730 : INFO : EPOCH 2 - PROGRESS: at 92.30% examples, 1900649 words/s, in_qsize 31, out_qsize 0\n",
      "2023-05-15 15:59:58,733 : INFO : EPOCH 2 - PROGRESS: at 95.92% examples, 1901800 words/s, in_qsize 31, out_qsize 0\n",
      "2023-05-15 15:59:59,586 : INFO : EPOCH 2: training on 70790138 raw words (53080052 effective words) took 28.0s, 1898885 effective words/s\n",
      "2023-05-15 16:00:00,603 : INFO : EPOCH 3 - PROGRESS: at 5.29% examples, 1601178 words/s, in_qsize 31, out_qsize 0\n",
      "2023-05-15 16:00:01,605 : INFO : EPOCH 3 - PROGRESS: at 8.65% examples, 1798347 words/s, in_qsize 32, out_qsize 0\n",
      "2023-05-15 16:00:02,616 : INFO : EPOCH 3 - PROGRESS: at 11.85% examples, 1851698 words/s, in_qsize 32, out_qsize 0\n",
      "2023-05-15 16:00:03,624 : INFO : EPOCH 3 - PROGRESS: at 16.42% examples, 1840444 words/s, in_qsize 31, out_qsize 0\n",
      "2023-05-15 16:00:04,627 : INFO : EPOCH 3 - PROGRESS: at 19.99% examples, 1856721 words/s, in_qsize 30, out_qsize 1\n",
      "2023-05-15 16:00:05,630 : INFO : EPOCH 3 - PROGRESS: at 23.08% examples, 1862572 words/s, in_qsize 31, out_qsize 0\n",
      "2023-05-15 16:00:06,633 : INFO : EPOCH 3 - PROGRESS: at 27.05% examples, 1865925 words/s, in_qsize 31, out_qsize 0\n",
      "2023-05-15 16:00:07,637 : INFO : EPOCH 3 - PROGRESS: at 31.11% examples, 1858992 words/s, in_qsize 31, out_qsize 0\n",
      "2023-05-15 16:00:08,637 : INFO : EPOCH 3 - PROGRESS: at 34.00% examples, 1858992 words/s, in_qsize 31, out_qsize 0\n",
      "2023-05-15 16:00:09,637 : INFO : EPOCH 3 - PROGRESS: at 38.33% examples, 1846525 words/s, in_qsize 31, out_qsize 0\n",
      "2023-05-15 16:00:10,644 : INFO : EPOCH 3 - PROGRESS: at 41.33% examples, 1858330 words/s, in_qsize 31, out_qsize 0\n",
      "2023-05-15 16:00:11,646 : INFO : EPOCH 3 - PROGRESS: at 43.23% examples, 1883471 words/s, in_qsize 31, out_qsize 0\n",
      "2023-05-15 16:00:12,647 : INFO : EPOCH 3 - PROGRESS: at 44.58% examples, 1905331 words/s, in_qsize 31, out_qsize 0\n",
      "2023-05-15 16:00:13,651 : INFO : EPOCH 3 - PROGRESS: at 45.90% examples, 1925204 words/s, in_qsize 30, out_qsize 1\n",
      "2023-05-15 16:00:14,651 : INFO : EPOCH 3 - PROGRESS: at 50.13% examples, 1915565 words/s, in_qsize 31, out_qsize 0\n",
      "2023-05-15 16:00:15,652 : INFO : EPOCH 3 - PROGRESS: at 53.60% examples, 1918093 words/s, in_qsize 30, out_qsize 1\n",
      "2023-05-15 16:00:16,657 : INFO : EPOCH 3 - PROGRESS: at 58.39% examples, 1905717 words/s, in_qsize 31, out_qsize 0\n",
      "2023-05-15 16:00:17,659 : INFO : EPOCH 3 - PROGRESS: at 65.76% examples, 1875537 words/s, in_qsize 31, out_qsize 0\n",
      "2023-05-15 16:00:18,660 : INFO : EPOCH 3 - PROGRESS: at 69.98% examples, 1874180 words/s, in_qsize 31, out_qsize 0\n",
      "2023-05-15 16:00:19,665 : INFO : EPOCH 3 - PROGRESS: at 73.74% examples, 1875858 words/s, in_qsize 31, out_qsize 0\n",
      "2023-05-15 16:00:20,675 : INFO : EPOCH 3 - PROGRESS: at 76.52% examples, 1879002 words/s, in_qsize 31, out_qsize 0\n",
      "2023-05-15 16:00:21,675 : INFO : EPOCH 3 - PROGRESS: at 80.53% examples, 1872397 words/s, in_qsize 31, out_qsize 0\n",
      "2023-05-15 16:00:22,677 : INFO : EPOCH 3 - PROGRESS: at 83.77% examples, 1875541 words/s, in_qsize 31, out_qsize 0\n",
      "2023-05-15 16:00:23,681 : INFO : EPOCH 3 - PROGRESS: at 86.96% examples, 1879768 words/s, in_qsize 30, out_qsize 1\n",
      "2023-05-15 16:00:24,683 : INFO : EPOCH 3 - PROGRESS: at 89.75% examples, 1887108 words/s, in_qsize 31, out_qsize 0\n",
      "2023-05-15 16:00:25,687 : INFO : EPOCH 3 - PROGRESS: at 92.16% examples, 1896320 words/s, in_qsize 31, out_qsize 0\n",
      "2023-05-15 16:00:26,691 : INFO : EPOCH 3 - PROGRESS: at 95.61% examples, 1895661 words/s, in_qsize 31, out_qsize 0\n",
      "2023-05-15 16:00:27,628 : INFO : EPOCH 3: training on 70790138 raw words (53080177 effective words) took 28.0s, 1893289 effective words/s\n",
      "2023-05-15 16:00:28,637 : INFO : EPOCH 4 - PROGRESS: at 5.29% examples, 1615153 words/s, in_qsize 31, out_qsize 0\n",
      "2023-05-15 16:00:29,639 : INFO : EPOCH 4 - PROGRESS: at 8.62% examples, 1799509 words/s, in_qsize 31, out_qsize 0\n",
      "2023-05-15 16:00:30,642 : INFO : EPOCH 4 - PROGRESS: at 11.84% examples, 1859814 words/s, in_qsize 31, out_qsize 0\n",
      "2023-05-15 16:00:31,649 : INFO : EPOCH 4 - PROGRESS: at 16.32% examples, 1836306 words/s, in_qsize 31, out_qsize 0\n",
      "2023-05-15 16:00:32,651 : INFO : EPOCH 4 - PROGRESS: at 19.88% examples, 1851139 words/s, in_qsize 30, out_qsize 1\n",
      "2023-05-15 16:00:33,653 : INFO : EPOCH 4 - PROGRESS: at 23.01% examples, 1860515 words/s, in_qsize 31, out_qsize 0\n",
      "2023-05-15 16:00:34,661 : INFO : EPOCH 4 - PROGRESS: at 26.85% examples, 1858491 words/s, in_qsize 31, out_qsize 0\n",
      "2023-05-15 16:00:35,661 : INFO : EPOCH 4 - PROGRESS: at 30.99% examples, 1852930 words/s, in_qsize 31, out_qsize 0\n",
      "2023-05-15 16:00:36,671 : INFO : EPOCH 4 - PROGRESS: at 33.91% examples, 1854020 words/s, in_qsize 30, out_qsize 1\n",
      "2023-05-15 16:00:37,672 : INFO : EPOCH 4 - PROGRESS: at 38.27% examples, 1845341 words/s, in_qsize 30, out_qsize 1\n",
      "2023-05-15 16:00:38,680 : INFO : EPOCH 4 - PROGRESS: at 41.30% examples, 1858108 words/s, in_qsize 31, out_qsize 0\n",
      "2023-05-15 16:00:39,681 : INFO : EPOCH 4 - PROGRESS: at 43.18% examples, 1877772 words/s, in_qsize 31, out_qsize 0\n",
      "2023-05-15 16:00:40,684 : INFO : EPOCH 4 - PROGRESS: at 44.51% examples, 1899102 words/s, in_qsize 31, out_qsize 0\n",
      "2023-05-15 16:00:41,685 : INFO : EPOCH 4 - PROGRESS: at 45.85% examples, 1920836 words/s, in_qsize 31, out_qsize 0\n",
      "2023-05-15 16:00:42,686 : INFO : EPOCH 4 - PROGRESS: at 49.84% examples, 1909093 words/s, in_qsize 31, out_qsize 0\n",
      "2023-05-15 16:00:43,699 : INFO : EPOCH 4 - PROGRESS: at 53.50% examples, 1913663 words/s, in_qsize 31, out_qsize 0\n",
      "2023-05-15 16:00:44,708 : INFO : EPOCH 4 - PROGRESS: at 58.21% examples, 1902253 words/s, in_qsize 31, out_qsize 0\n",
      "2023-05-15 16:00:45,708 : INFO : EPOCH 4 - PROGRESS: at 65.71% examples, 1873643 words/s, in_qsize 31, out_qsize 0\n",
      "2023-05-15 16:00:46,710 : INFO : EPOCH 4 - PROGRESS: at 69.85% examples, 1870500 words/s, in_qsize 31, out_qsize 0\n",
      "2023-05-15 16:00:47,711 : INFO : EPOCH 4 - PROGRESS: at 73.65% examples, 1872578 words/s, in_qsize 31, out_qsize 0\n",
      "2023-05-15 16:00:48,714 : INFO : EPOCH 4 - PROGRESS: at 76.46% examples, 1877263 words/s, in_qsize 31, out_qsize 0\n",
      "2023-05-15 16:00:49,720 : INFO : EPOCH 4 - PROGRESS: at 80.56% examples, 1873242 words/s, in_qsize 31, out_qsize 0\n",
      "2023-05-15 16:00:50,720 : INFO : EPOCH 4 - PROGRESS: at 83.86% examples, 1877586 words/s, in_qsize 32, out_qsize 0\n",
      "2023-05-15 16:00:51,721 : INFO : EPOCH 4 - PROGRESS: at 87.07% examples, 1882798 words/s, in_qsize 30, out_qsize 1\n",
      "2023-05-15 16:00:52,723 : INFO : EPOCH 4 - PROGRESS: at 89.82% examples, 1890327 words/s, in_qsize 31, out_qsize 0\n",
      "2023-05-15 16:00:53,732 : INFO : EPOCH 4 - PROGRESS: at 92.26% examples, 1899546 words/s, in_qsize 31, out_qsize 0\n",
      "2023-05-15 16:00:54,734 : INFO : EPOCH 4 - PROGRESS: at 95.86% examples, 1900459 words/s, in_qsize 31, out_qsize 0\n",
      "2023-05-15 16:00:55,604 : INFO : EPOCH 4: training on 70790138 raw words (53079423 effective words) took 28.0s, 1897824 effective words/s\n",
      "2023-05-15 16:00:56,612 : INFO : EPOCH 5 - PROGRESS: at 5.29% examples, 1615662 words/s, in_qsize 31, out_qsize 0\n",
      "2023-05-15 16:00:57,623 : INFO : EPOCH 5 - PROGRESS: at 8.65% examples, 1798729 words/s, in_qsize 31, out_qsize 0\n",
      "2023-05-15 16:00:58,629 : INFO : EPOCH 5 - PROGRESS: at 11.85% examples, 1855219 words/s, in_qsize 31, out_qsize 0\n",
      "2023-05-15 16:00:59,634 : INFO : EPOCH 5 - PROGRESS: at 16.40% examples, 1842729 words/s, in_qsize 31, out_qsize 0\n",
      "2023-05-15 16:01:00,634 : INFO : EPOCH 5 - PROGRESS: at 19.82% examples, 1841315 words/s, in_qsize 31, out_qsize 0\n",
      "2023-05-15 16:01:01,634 : INFO : EPOCH 5 - PROGRESS: at 22.91% examples, 1847699 words/s, in_qsize 31, out_qsize 0\n",
      "2023-05-15 16:01:02,638 : INFO : EPOCH 5 - PROGRESS: at 26.79% examples, 1853862 words/s, in_qsize 31, out_qsize 0\n",
      "2023-05-15 16:01:03,642 : INFO : EPOCH 5 - PROGRESS: at 30.88% examples, 1842228 words/s, in_qsize 31, out_qsize 0\n",
      "2023-05-15 16:01:04,646 : INFO : EPOCH 5 - PROGRESS: at 33.87% examples, 1850059 words/s, in_qsize 31, out_qsize 0\n",
      "2023-05-15 16:01:05,657 : INFO : EPOCH 5 - PROGRESS: at 38.20% examples, 1840413 words/s, in_qsize 31, out_qsize 0\n",
      "2023-05-15 16:01:06,657 : INFO : EPOCH 5 - PROGRESS: at 41.26% examples, 1854664 words/s, in_qsize 31, out_qsize 0\n",
      "2023-05-15 16:01:07,662 : INFO : EPOCH 5 - PROGRESS: at 43.16% examples, 1874605 words/s, in_qsize 31, out_qsize 0\n",
      "2023-05-15 16:01:08,663 : INFO : EPOCH 5 - PROGRESS: at 44.51% examples, 1897985 words/s, in_qsize 31, out_qsize 0\n",
      "2023-05-15 16:01:09,671 : INFO : EPOCH 5 - PROGRESS: at 45.84% examples, 1918551 words/s, in_qsize 32, out_qsize 0\n",
      "2023-05-15 16:01:10,675 : INFO : EPOCH 5 - PROGRESS: at 49.84% examples, 1907143 words/s, in_qsize 31, out_qsize 0\n",
      "2023-05-15 16:01:11,677 : INFO : EPOCH 5 - PROGRESS: at 53.44% examples, 1910928 words/s, in_qsize 31, out_qsize 0\n",
      "2023-05-15 16:01:12,680 : INFO : EPOCH 5 - PROGRESS: at 57.88% examples, 1898135 words/s, in_qsize 30, out_qsize 1\n",
      "2023-05-15 16:01:13,691 : INFO : EPOCH 5 - PROGRESS: at 65.32% examples, 1867114 words/s, in_qsize 31, out_qsize 0\n",
      "2023-05-15 16:01:14,696 : INFO : EPOCH 5 - PROGRESS: at 69.51% examples, 1860771 words/s, in_qsize 31, out_qsize 0\n",
      "2023-05-15 16:01:15,699 : INFO : EPOCH 5 - PROGRESS: at 73.37% examples, 1861867 words/s, in_qsize 32, out_qsize 0\n",
      "2023-05-15 16:01:16,704 : INFO : EPOCH 5 - PROGRESS: at 76.17% examples, 1866114 words/s, in_qsize 31, out_qsize 0\n",
      "2023-05-15 16:01:17,706 : INFO : EPOCH 5 - PROGRESS: at 80.18% examples, 1864553 words/s, in_qsize 31, out_qsize 0\n",
      "2023-05-15 16:01:18,711 : INFO : EPOCH 5 - PROGRESS: at 83.50% examples, 1867088 words/s, in_qsize 31, out_qsize 0\n",
      "2023-05-15 16:01:19,713 : INFO : EPOCH 5 - PROGRESS: at 86.76% examples, 1873264 words/s, in_qsize 31, out_qsize 0\n",
      "2023-05-15 16:01:20,715 : INFO : EPOCH 5 - PROGRESS: at 89.60% examples, 1880304 words/s, in_qsize 31, out_qsize 0\n",
      "2023-05-15 16:01:21,717 : INFO : EPOCH 5 - PROGRESS: at 91.98% examples, 1889717 words/s, in_qsize 31, out_qsize 0\n",
      "2023-05-15 16:01:22,720 : INFO : EPOCH 5 - PROGRESS: at 95.44% examples, 1891560 words/s, in_qsize 31, out_qsize 0\n",
      "2023-05-15 16:01:23,702 : INFO : EPOCH 5: training on 70790138 raw words (53076924 effective words) took 28.1s, 1889333 effective words/s\n",
      "2023-05-15 16:01:24,710 : INFO : EPOCH 6 - PROGRESS: at 5.28% examples, 1610736 words/s, in_qsize 31, out_qsize 0\n",
      "2023-05-15 16:01:25,716 : INFO : EPOCH 6 - PROGRESS: at 8.64% examples, 1801111 words/s, in_qsize 31, out_qsize 0\n",
      "2023-05-15 16:01:26,717 : INFO : EPOCH 6 - PROGRESS: at 11.84% examples, 1859897 words/s, in_qsize 31, out_qsize 0\n",
      "2023-05-15 16:01:27,720 : INFO : EPOCH 6 - PROGRESS: at 16.34% examples, 1841913 words/s, in_qsize 31, out_qsize 0\n",
      "2023-05-15 16:01:28,721 : INFO : EPOCH 6 - PROGRESS: at 19.92% examples, 1857097 words/s, in_qsize 31, out_qsize 0\n",
      "2023-05-15 16:01:29,725 : INFO : EPOCH 6 - PROGRESS: at 23.04% examples, 1864467 words/s, in_qsize 31, out_qsize 0\n",
      "2023-05-15 16:01:30,730 : INFO : EPOCH 6 - PROGRESS: at 26.86% examples, 1860268 words/s, in_qsize 31, out_qsize 0\n",
      "2023-05-15 16:01:31,733 : INFO : EPOCH 6 - PROGRESS: at 30.98% examples, 1853011 words/s, in_qsize 31, out_qsize 0\n",
      "2023-05-15 16:01:32,736 : INFO : EPOCH 6 - PROGRESS: at 33.92% examples, 1855838 words/s, in_qsize 31, out_qsize 0\n",
      "2023-05-15 16:01:33,739 : INFO : EPOCH 6 - PROGRESS: at 38.27% examples, 1846515 words/s, in_qsize 30, out_qsize 1\n",
      "2023-05-15 16:01:34,741 : INFO : EPOCH 6 - PROGRESS: at 41.31% examples, 1860899 words/s, in_qsize 31, out_qsize 0\n",
      "2023-05-15 16:01:35,741 : INFO : EPOCH 6 - PROGRESS: at 43.18% examples, 1880059 words/s, in_qsize 32, out_qsize 0\n",
      "2023-05-15 16:01:36,743 : INFO : EPOCH 6 - PROGRESS: at 44.52% examples, 1902017 words/s, in_qsize 31, out_qsize 0\n",
      "2023-05-15 16:01:37,749 : INFO : EPOCH 6 - PROGRESS: at 45.86% examples, 1923526 words/s, in_qsize 31, out_qsize 0\n",
      "2023-05-15 16:01:38,750 : INFO : EPOCH 6 - PROGRESS: at 49.85% examples, 1910257 words/s, in_qsize 31, out_qsize 0\n",
      "2023-05-15 16:01:39,751 : INFO : EPOCH 6 - PROGRESS: at 53.43% examples, 1913569 words/s, in_qsize 31, out_qsize 0\n",
      "2023-05-15 16:01:40,752 : INFO : EPOCH 6 - PROGRESS: at 58.03% examples, 1903366 words/s, in_qsize 31, out_qsize 0\n",
      "2023-05-15 16:01:41,752 : INFO : EPOCH 6 - PROGRESS: at 65.32% examples, 1871060 words/s, in_qsize 31, out_qsize 0\n",
      "2023-05-15 16:01:42,754 : INFO : EPOCH 6 - PROGRESS: at 69.69% examples, 1869062 words/s, in_qsize 31, out_qsize 0\n",
      "2023-05-15 16:01:43,758 : INFO : EPOCH 6 - PROGRESS: at 73.54% examples, 1871451 words/s, in_qsize 31, out_qsize 0\n",
      "2023-05-15 16:01:44,757 : INFO : EPOCH 6 - PROGRESS: at 76.34% examples, 1875844 words/s, in_qsize 31, out_qsize 0\n",
      "2023-05-15 16:01:45,764 : INFO : EPOCH 6 - PROGRESS: at 80.47% examples, 1873471 words/s, in_qsize 31, out_qsize 0\n",
      "2023-05-15 16:01:46,766 : INFO : EPOCH 6 - PROGRESS: at 83.73% examples, 1876498 words/s, in_qsize 31, out_qsize 0\n",
      "2023-05-15 16:01:47,768 : INFO : EPOCH 6 - PROGRESS: at 86.95% examples, 1881931 words/s, in_qsize 30, out_qsize 1\n",
      "2023-05-15 16:01:48,769 : INFO : EPOCH 6 - PROGRESS: at 89.77% examples, 1890271 words/s, in_qsize 31, out_qsize 0\n",
      "2023-05-15 16:01:49,774 : INFO : EPOCH 6 - PROGRESS: at 92.21% examples, 1899936 words/s, in_qsize 31, out_qsize 0\n",
      "2023-05-15 16:01:50,779 : INFO : EPOCH 6 - PROGRESS: at 95.75% examples, 1900055 words/s, in_qsize 31, out_qsize 0\n",
      "2023-05-15 16:01:51,679 : INFO : EPOCH 6: training on 70790138 raw words (53077549 effective words) took 28.0s, 1897665 effective words/s\n",
      "2023-05-15 16:01:52,691 : INFO : EPOCH 7 - PROGRESS: at 5.14% examples, 1513868 words/s, in_qsize 31, out_qsize 0\n",
      "2023-05-15 16:01:53,699 : INFO : EPOCH 7 - PROGRESS: at 8.50% examples, 1753996 words/s, in_qsize 31, out_qsize 0\n",
      "2023-05-15 16:01:54,702 : INFO : EPOCH 7 - PROGRESS: at 11.59% examples, 1823598 words/s, in_qsize 32, out_qsize 0\n",
      "2023-05-15 16:01:55,703 : INFO : EPOCH 7 - PROGRESS: at 16.19% examples, 1816414 words/s, in_qsize 31, out_qsize 0\n",
      "2023-05-15 16:01:56,706 : INFO : EPOCH 7 - PROGRESS: at 19.63% examples, 1820666 words/s, in_qsize 31, out_qsize 0\n",
      "2023-05-15 16:01:57,709 : INFO : EPOCH 7 - PROGRESS: at 22.69% examples, 1825539 words/s, in_qsize 32, out_qsize 0\n",
      "2023-05-15 16:01:58,711 : INFO : EPOCH 7 - PROGRESS: at 26.53% examples, 1838151 words/s, in_qsize 31, out_qsize 0\n",
      "2023-05-15 16:01:59,720 : INFO : EPOCH 7 - PROGRESS: at 30.66% examples, 1827527 words/s, in_qsize 31, out_qsize 0\n",
      "2023-05-15 16:02:00,724 : INFO : EPOCH 7 - PROGRESS: at 33.69% examples, 1836159 words/s, in_qsize 31, out_qsize 0\n",
      "2023-05-15 16:02:01,731 : INFO : EPOCH 7 - PROGRESS: at 37.88% examples, 1828646 words/s, in_qsize 31, out_qsize 0\n",
      "2023-05-15 16:02:02,731 : INFO : EPOCH 7 - PROGRESS: at 41.03% examples, 1841178 words/s, in_qsize 31, out_qsize 0\n",
      "2023-05-15 16:02:03,743 : INFO : EPOCH 7 - PROGRESS: at 43.09% examples, 1862312 words/s, in_qsize 30, out_qsize 1\n",
      "2023-05-15 16:02:04,745 : INFO : EPOCH 7 - PROGRESS: at 44.43% examples, 1888178 words/s, in_qsize 31, out_qsize 0\n",
      "2023-05-15 16:02:05,747 : INFO : EPOCH 7 - PROGRESS: at 45.78% examples, 1910589 words/s, in_qsize 31, out_qsize 0\n",
      "2023-05-15 16:02:06,758 : INFO : EPOCH 7 - PROGRESS: at 49.75% examples, 1903092 words/s, in_qsize 32, out_qsize 0\n",
      "2023-05-15 16:02:07,764 : INFO : EPOCH 7 - PROGRESS: at 53.36% examples, 1906468 words/s, in_qsize 31, out_qsize 0\n",
      "2023-05-15 16:02:08,773 : INFO : EPOCH 7 - PROGRESS: at 57.88% examples, 1896063 words/s, in_qsize 31, out_qsize 0\n",
      "2023-05-15 16:02:09,780 : INFO : EPOCH 7 - PROGRESS: at 65.32% examples, 1865503 words/s, in_qsize 31, out_qsize 0\n",
      "2023-05-15 16:02:10,781 : INFO : EPOCH 7 - PROGRESS: at 69.69% examples, 1864009 words/s, in_qsize 31, out_qsize 0\n",
      "2023-05-15 16:02:11,783 : INFO : EPOCH 7 - PROGRESS: at 73.54% examples, 1866826 words/s, in_qsize 32, out_qsize 0\n",
      "2023-05-15 16:02:12,786 : INFO : EPOCH 7 - PROGRESS: at 76.35% examples, 1871410 words/s, in_qsize 31, out_qsize 0\n",
      "2023-05-15 16:02:13,789 : INFO : EPOCH 7 - PROGRESS: at 80.46% examples, 1869003 words/s, in_qsize 32, out_qsize 0\n",
      "2023-05-15 16:02:14,797 : INFO : EPOCH 7 - PROGRESS: at 83.69% examples, 1871060 words/s, in_qsize 31, out_qsize 0\n",
      "2023-05-15 16:02:15,807 : INFO : EPOCH 7 - PROGRESS: at 86.93% examples, 1876413 words/s, in_qsize 31, out_qsize 0\n",
      "2023-05-15 16:02:16,808 : INFO : EPOCH 7 - PROGRESS: at 89.75% examples, 1884692 words/s, in_qsize 31, out_qsize 0\n",
      "2023-05-15 16:02:17,810 : INFO : EPOCH 7 - PROGRESS: at 92.17% examples, 1894647 words/s, in_qsize 31, out_qsize 0\n",
      "2023-05-15 16:02:18,813 : INFO : EPOCH 7 - PROGRESS: at 95.73% examples, 1895764 words/s, in_qsize 31, out_qsize 0\n",
      "2023-05-15 16:02:19,721 : INFO : EPOCH 7: training on 70790138 raw words (53075484 effective words) took 28.0s, 1893185 effective words/s\n",
      "2023-05-15 16:02:20,730 : INFO : EPOCH 8 - PROGRESS: at 5.29% examples, 1614478 words/s, in_qsize 31, out_qsize 0\n",
      "2023-05-15 16:02:21,730 : INFO : EPOCH 8 - PROGRESS: at 8.64% examples, 1803591 words/s, in_qsize 31, out_qsize 0\n",
      "2023-05-15 16:02:22,733 : INFO : EPOCH 8 - PROGRESS: at 11.78% examples, 1854257 words/s, in_qsize 31, out_qsize 0\n",
      "2023-05-15 16:02:23,734 : INFO : EPOCH 8 - PROGRESS: at 16.30% examples, 1837617 words/s, in_qsize 31, out_qsize 0\n",
      "2023-05-15 16:02:24,736 : INFO : EPOCH 8 - PROGRESS: at 19.84% examples, 1849608 words/s, in_qsize 31, out_qsize 0\n",
      "2023-05-15 16:02:25,736 : INFO : EPOCH 8 - PROGRESS: at 22.92% examples, 1853792 words/s, in_qsize 31, out_qsize 0\n",
      "2023-05-15 16:02:26,737 : INFO : EPOCH 8 - PROGRESS: at 26.82% examples, 1860642 words/s, in_qsize 31, out_qsize 0\n",
      "2023-05-15 16:02:27,739 : INFO : EPOCH 8 - PROGRESS: at 30.95% examples, 1853134 words/s, in_qsize 31, out_qsize 0\n",
      "2023-05-15 16:02:28,739 : INFO : EPOCH 8 - PROGRESS: at 33.89% examples, 1857393 words/s, in_qsize 31, out_qsize 0\n",
      "2023-05-15 16:02:29,744 : INFO : EPOCH 8 - PROGRESS: at 38.19% examples, 1845907 words/s, in_qsize 31, out_qsize 0\n",
      "2023-05-15 16:02:30,745 : INFO : EPOCH 8 - PROGRESS: at 41.23% examples, 1858020 words/s, in_qsize 31, out_qsize 0\n",
      "2023-05-15 16:02:31,754 : INFO : EPOCH 8 - PROGRESS: at 43.16% examples, 1879017 words/s, in_qsize 31, out_qsize 0\n",
      "2023-05-15 16:02:32,757 : INFO : EPOCH 8 - PROGRESS: at 44.52% examples, 1902417 words/s, in_qsize 31, out_qsize 0\n",
      "2023-05-15 16:02:33,757 : INFO : EPOCH 8 - PROGRESS: at 45.86% examples, 1924760 words/s, in_qsize 31, out_qsize 0\n",
      "2023-05-15 16:02:34,759 : INFO : EPOCH 8 - PROGRESS: at 49.92% examples, 1913354 words/s, in_qsize 31, out_qsize 0\n",
      "2023-05-15 16:02:35,767 : INFO : EPOCH 8 - PROGRESS: at 53.51% examples, 1916770 words/s, in_qsize 31, out_qsize 0\n",
      "2023-05-15 16:02:36,774 : INFO : EPOCH 8 - PROGRESS: at 58.17% examples, 1904575 words/s, in_qsize 31, out_qsize 0\n",
      "2023-05-15 16:02:37,778 : INFO : EPOCH 8 - PROGRESS: at 65.62% examples, 1873854 words/s, in_qsize 31, out_qsize 0\n",
      "2023-05-15 16:02:38,779 : INFO : EPOCH 8 - PROGRESS: at 69.83% examples, 1871788 words/s, in_qsize 31, out_qsize 0\n",
      "2023-05-15 16:02:39,781 : INFO : EPOCH 8 - PROGRESS: at 73.55% examples, 1871138 words/s, in_qsize 31, out_qsize 0\n",
      "2023-05-15 16:02:40,783 : INFO : EPOCH 8 - PROGRESS: at 76.34% examples, 1875096 words/s, in_qsize 31, out_qsize 0\n",
      "2023-05-15 16:02:41,789 : INFO : EPOCH 8 - PROGRESS: at 80.25% examples, 1869042 words/s, in_qsize 31, out_qsize 0\n",
      "2023-05-15 16:02:42,793 : INFO : EPOCH 8 - PROGRESS: at 83.44% examples, 1868447 words/s, in_qsize 32, out_qsize 0\n",
      "2023-05-15 16:02:43,795 : INFO : EPOCH 8 - PROGRESS: at 86.70% examples, 1874437 words/s, in_qsize 31, out_qsize 0\n",
      "2023-05-15 16:02:44,799 : INFO : EPOCH 8 - PROGRESS: at 89.59% examples, 1882312 words/s, in_qsize 31, out_qsize 0\n",
      "2023-05-15 16:02:45,801 : INFO : EPOCH 8 - PROGRESS: at 91.96% examples, 1891866 words/s, in_qsize 31, out_qsize 0\n",
      "2023-05-15 16:02:46,807 : INFO : EPOCH 8 - PROGRESS: at 95.44% examples, 1893584 words/s, in_qsize 31, out_qsize 0\n",
      "2023-05-15 16:02:47,790 : INFO : EPOCH 8: training on 70790138 raw words (53075379 effective words) took 28.1s, 1891307 effective words/s\n",
      "2023-05-15 16:02:48,801 : INFO : EPOCH 9 - PROGRESS: at 5.29% examples, 1611475 words/s, in_qsize 31, out_qsize 0\n",
      "2023-05-15 16:02:49,806 : INFO : EPOCH 9 - PROGRESS: at 8.63% examples, 1797345 words/s, in_qsize 31, out_qsize 0\n",
      "2023-05-15 16:02:50,812 : INFO : EPOCH 9 - PROGRESS: at 11.85% examples, 1856915 words/s, in_qsize 31, out_qsize 0\n",
      "2023-05-15 16:02:51,815 : INFO : EPOCH 9 - PROGRESS: at 16.39% examples, 1843240 words/s, in_qsize 32, out_qsize 0\n",
      "2023-05-15 16:02:52,819 : INFO : EPOCH 9 - PROGRESS: at 19.96% examples, 1856989 words/s, in_qsize 30, out_qsize 1\n",
      "2023-05-15 16:02:53,821 : INFO : EPOCH 9 - PROGRESS: at 23.05% examples, 1862843 words/s, in_qsize 31, out_qsize 0\n",
      "2023-05-15 16:02:54,826 : INFO : EPOCH 9 - PROGRESS: at 26.91% examples, 1860400 words/s, in_qsize 31, out_qsize 0\n",
      "2023-05-15 16:02:55,826 : INFO : EPOCH 9 - PROGRESS: at 31.01% examples, 1853687 words/s, in_qsize 31, out_qsize 0\n",
      "2023-05-15 16:02:56,831 : INFO : EPOCH 9 - PROGRESS: at 33.98% examples, 1859699 words/s, in_qsize 31, out_qsize 0\n",
      "2023-05-15 16:02:57,831 : INFO : EPOCH 9 - PROGRESS: at 38.35% examples, 1849839 words/s, in_qsize 31, out_qsize 0\n",
      "2023-05-15 16:02:58,838 : INFO : EPOCH 9 - PROGRESS: at 41.33% examples, 1859687 words/s, in_qsize 31, out_qsize 0\n",
      "2023-05-15 16:02:59,845 : INFO : EPOCH 9 - PROGRESS: at 43.21% examples, 1881259 words/s, in_qsize 31, out_qsize 0\n",
      "2023-05-15 16:03:00,846 : INFO : EPOCH 9 - PROGRESS: at 44.56% examples, 1903664 words/s, in_qsize 31, out_qsize 0\n",
      "2023-05-15 16:03:01,847 : INFO : EPOCH 9 - PROGRESS: at 45.87% examples, 1922812 words/s, in_qsize 31, out_qsize 0\n",
      "2023-05-15 16:03:02,849 : INFO : EPOCH 9 - PROGRESS: at 50.05% examples, 1913991 words/s, in_qsize 31, out_qsize 0\n",
      "2023-05-15 16:03:03,850 : INFO : EPOCH 9 - PROGRESS: at 53.54% examples, 1916055 words/s, in_qsize 31, out_qsize 0\n",
      "2023-05-15 16:03:04,855 : INFO : EPOCH 9 - PROGRESS: at 58.24% examples, 1904273 words/s, in_qsize 31, out_qsize 0\n",
      "2023-05-15 16:03:05,858 : INFO : EPOCH 9 - PROGRESS: at 65.71% examples, 1874859 words/s, in_qsize 31, out_qsize 0\n",
      "2023-05-15 16:03:06,859 : INFO : EPOCH 9 - PROGRESS: at 69.87% examples, 1872048 words/s, in_qsize 31, out_qsize 0\n",
      "2023-05-15 16:03:07,863 : INFO : EPOCH 9 - PROGRESS: at 73.68% examples, 1874446 words/s, in_qsize 30, out_qsize 1\n",
      "2023-05-15 16:03:08,870 : INFO : EPOCH 9 - PROGRESS: at 76.48% examples, 1878430 words/s, in_qsize 30, out_qsize 1\n",
      "2023-05-15 16:03:09,871 : INFO : EPOCH 9 - PROGRESS: at 80.60% examples, 1875151 words/s, in_qsize 32, out_qsize 0\n",
      "2023-05-15 16:03:10,874 : INFO : EPOCH 9 - PROGRESS: at 83.89% examples, 1879056 words/s, in_qsize 31, out_qsize 0\n",
      "2023-05-15 16:03:11,878 : INFO : EPOCH 9 - PROGRESS: at 87.10% examples, 1884058 words/s, in_qsize 31, out_qsize 0\n",
      "2023-05-15 16:03:12,879 : INFO : EPOCH 9 - PROGRESS: at 89.88% examples, 1892458 words/s, in_qsize 31, out_qsize 0\n",
      "2023-05-15 16:03:13,882 : INFO : EPOCH 9 - PROGRESS: at 92.24% examples, 1899895 words/s, in_qsize 31, out_qsize 0\n",
      "2023-05-15 16:03:14,885 : INFO : EPOCH 9 - PROGRESS: at 95.80% examples, 1900038 words/s, in_qsize 31, out_qsize 0\n",
      "2023-05-15 16:03:15,765 : INFO : EPOCH 9: training on 70790138 raw words (53078512 effective words) took 28.0s, 1897807 effective words/s\n",
      "2023-05-15 16:03:16,776 : INFO : EPOCH 10 - PROGRESS: at 5.29% examples, 1611783 words/s, in_qsize 32, out_qsize 0\n",
      "2023-05-15 16:03:17,779 : INFO : EPOCH 10 - PROGRESS: at 8.65% examples, 1804087 words/s, in_qsize 31, out_qsize 0\n",
      "2023-05-15 16:03:18,782 : INFO : EPOCH 10 - PROGRESS: at 11.85% examples, 1860367 words/s, in_qsize 31, out_qsize 0\n",
      "2023-05-15 16:03:19,783 : INFO : EPOCH 10 - PROGRESS: at 16.37% examples, 1844951 words/s, in_qsize 31, out_qsize 0\n",
      "2023-05-15 16:03:20,783 : INFO : EPOCH 10 - PROGRESS: at 19.92% examples, 1857068 words/s, in_qsize 31, out_qsize 0\n",
      "2023-05-15 16:03:21,788 : INFO : EPOCH 10 - PROGRESS: at 23.04% examples, 1864341 words/s, in_qsize 31, out_qsize 0\n",
      "2023-05-15 16:03:22,791 : INFO : EPOCH 10 - PROGRESS: at 26.86% examples, 1860157 words/s, in_qsize 31, out_qsize 0\n",
      "2023-05-15 16:03:23,793 : INFO : EPOCH 10 - PROGRESS: at 31.00% examples, 1854917 words/s, in_qsize 31, out_qsize 0\n",
      "2023-05-15 16:03:24,800 : INFO : EPOCH 10 - PROGRESS: at 33.96% examples, 1859366 words/s, in_qsize 31, out_qsize 0\n",
      "2023-05-15 16:03:25,804 : INFO : EPOCH 10 - PROGRESS: at 38.34% examples, 1848894 words/s, in_qsize 30, out_qsize 1\n",
      "2023-05-15 16:03:26,804 : INFO : EPOCH 10 - PROGRESS: at 41.33% examples, 1860995 words/s, in_qsize 31, out_qsize 0\n",
      "2023-05-15 16:03:27,804 : INFO : EPOCH 10 - PROGRESS: at 43.21% examples, 1883135 words/s, in_qsize 30, out_qsize 1\n",
      "2023-05-15 16:03:28,805 : INFO : EPOCH 10 - PROGRESS: at 44.54% examples, 1904836 words/s, in_qsize 30, out_qsize 1\n",
      "2023-05-15 16:03:29,806 : INFO : EPOCH 10 - PROGRESS: at 45.87% examples, 1924628 words/s, in_qsize 31, out_qsize 0\n",
      "2023-05-15 16:03:30,806 : INFO : EPOCH 10 - PROGRESS: at 50.00% examples, 1915227 words/s, in_qsize 31, out_qsize 0\n",
      "2023-05-15 16:03:31,811 : INFO : EPOCH 10 - PROGRESS: at 53.50% examples, 1916471 words/s, in_qsize 30, out_qsize 1\n",
      "2023-05-15 16:03:32,813 : INFO : EPOCH 10 - PROGRESS: at 58.17% examples, 1905147 words/s, in_qsize 31, out_qsize 0\n",
      "2023-05-15 16:03:33,814 : INFO : EPOCH 10 - PROGRESS: at 65.60% examples, 1874298 words/s, in_qsize 32, out_qsize 0\n",
      "2023-05-15 16:03:34,823 : INFO : EPOCH 10 - PROGRESS: at 69.84% examples, 1872186 words/s, in_qsize 31, out_qsize 0\n",
      "2023-05-15 16:03:35,824 : INFO : EPOCH 10 - PROGRESS: at 73.64% examples, 1874325 words/s, in_qsize 31, out_qsize 0\n",
      "2023-05-15 16:03:36,825 : INFO : EPOCH 10 - PROGRESS: at 76.40% examples, 1877240 words/s, in_qsize 31, out_qsize 0\n",
      "2023-05-15 16:03:37,829 : INFO : EPOCH 10 - PROGRESS: at 80.48% examples, 1873347 words/s, in_qsize 31, out_qsize 0\n",
      "2023-05-15 16:03:38,831 : INFO : EPOCH 10 - PROGRESS: at 83.72% examples, 1875907 words/s, in_qsize 31, out_qsize 0\n",
      "2023-05-15 16:03:39,834 : INFO : EPOCH 10 - PROGRESS: at 86.91% examples, 1880456 words/s, in_qsize 31, out_qsize 0\n",
      "2023-05-15 16:03:40,835 : INFO : EPOCH 10 - PROGRESS: at 89.71% examples, 1887777 words/s, in_qsize 31, out_qsize 0\n",
      "2023-05-15 16:03:41,842 : INFO : EPOCH 10 - PROGRESS: at 92.12% examples, 1896416 words/s, in_qsize 31, out_qsize 0\n",
      "2023-05-15 16:03:42,847 : INFO : EPOCH 10 - PROGRESS: at 95.60% examples, 1897275 words/s, in_qsize 30, out_qsize 1\n",
      "2023-05-15 16:03:43,775 : INFO : EPOCH 10: training on 70790138 raw words (53077338 effective words) took 28.0s, 1895391 effective words/s\n",
      "2023-05-15 16:03:44,790 : INFO : EPOCH 11 - PROGRESS: at 5.29% examples, 1606096 words/s, in_qsize 31, out_qsize 0\n",
      "2023-05-15 16:03:45,790 : INFO : EPOCH 11 - PROGRESS: at 8.62% examples, 1794767 words/s, in_qsize 31, out_qsize 0\n",
      "2023-05-15 16:03:46,792 : INFO : EPOCH 11 - PROGRESS: at 11.80% examples, 1852554 words/s, in_qsize 31, out_qsize 0\n",
      "2023-05-15 16:03:47,796 : INFO : EPOCH 11 - PROGRESS: at 16.32% examples, 1836031 words/s, in_qsize 31, out_qsize 0\n",
      "2023-05-15 16:03:48,797 : INFO : EPOCH 11 - PROGRESS: at 19.89% examples, 1852084 words/s, in_qsize 31, out_qsize 0\n",
      "2023-05-15 16:03:49,802 : INFO : EPOCH 11 - PROGRESS: at 22.98% examples, 1857123 words/s, in_qsize 31, out_qsize 0\n",
      "2023-05-15 16:03:50,804 : INFO : EPOCH 11 - PROGRESS: at 26.85% examples, 1857808 words/s, in_qsize 32, out_qsize 0\n",
      "2023-05-15 16:03:51,807 : INFO : EPOCH 11 - PROGRESS: at 30.96% examples, 1850062 words/s, in_qsize 31, out_qsize 0\n",
      "2023-05-15 16:03:52,811 : INFO : EPOCH 11 - PROGRESS: at 33.87% examples, 1851103 words/s, in_qsize 31, out_qsize 0\n",
      "2023-05-15 16:03:53,817 : INFO : EPOCH 11 - PROGRESS: at 38.20% examples, 1842071 words/s, in_qsize 31, out_qsize 0\n",
      "2023-05-15 16:03:54,820 : INFO : EPOCH 11 - PROGRESS: at 41.24% examples, 1854509 words/s, in_qsize 31, out_qsize 0\n",
      "2023-05-15 16:03:55,822 : INFO : EPOCH 11 - PROGRESS: at 43.15% examples, 1875293 words/s, in_qsize 31, out_qsize 0\n",
      "2023-05-15 16:03:56,826 : INFO : EPOCH 11 - PROGRESS: at 44.49% examples, 1897394 words/s, in_qsize 31, out_qsize 0\n",
      "2023-05-15 16:03:57,827 : INFO : EPOCH 11 - PROGRESS: at 45.82% examples, 1918291 words/s, in_qsize 31, out_qsize 0\n",
      "2023-05-15 16:03:58,846 : INFO : EPOCH 11 - PROGRESS: at 49.85% examples, 1907022 words/s, in_qsize 31, out_qsize 0\n",
      "2023-05-15 16:03:59,847 : INFO : EPOCH 11 - PROGRESS: at 53.44% examples, 1910960 words/s, in_qsize 31, out_qsize 0\n",
      "2023-05-15 16:04:00,847 : INFO : EPOCH 11 - PROGRESS: at 57.94% examples, 1899241 words/s, in_qsize 31, out_qsize 0\n",
      "2023-05-15 16:04:01,852 : INFO : EPOCH 11 - PROGRESS: at 65.32% examples, 1868047 words/s, in_qsize 32, out_qsize 0\n",
      "2023-05-15 16:04:02,858 : INFO : EPOCH 11 - PROGRESS: at 69.71% examples, 1866239 words/s, in_qsize 31, out_qsize 0\n",
      "2023-05-15 16:04:03,859 : INFO : EPOCH 11 - PROGRESS: at 73.53% examples, 1868324 words/s, in_qsize 31, out_qsize 0\n",
      "2023-05-15 16:04:04,862 : INFO : EPOCH 11 - PROGRESS: at 76.32% examples, 1872011 words/s, in_qsize 31, out_qsize 0\n",
      "2023-05-15 16:04:05,864 : INFO : EPOCH 11 - PROGRESS: at 80.44% examples, 1870341 words/s, in_qsize 31, out_qsize 0\n",
      "2023-05-15 16:04:06,869 : INFO : EPOCH 11 - PROGRESS: at 83.70% examples, 1873138 words/s, in_qsize 31, out_qsize 0\n",
      "2023-05-15 16:04:07,873 : INFO : EPOCH 11 - PROGRESS: at 86.93% examples, 1878689 words/s, in_qsize 31, out_qsize 0\n",
      "2023-05-15 16:04:08,873 : INFO : EPOCH 11 - PROGRESS: at 89.75% examples, 1886799 words/s, in_qsize 31, out_qsize 0\n",
      "2023-05-15 16:04:09,876 : INFO : EPOCH 11 - PROGRESS: at 92.16% examples, 1895993 words/s, in_qsize 29, out_qsize 2\n",
      "2023-05-15 16:04:10,877 : INFO : EPOCH 11 - PROGRESS: at 95.70% examples, 1897198 words/s, in_qsize 31, out_qsize 0\n",
      "2023-05-15 16:04:11,801 : INFO : EPOCH 11: training on 70790138 raw words (53074704 effective words) took 28.0s, 1894213 effective words/s\n",
      "2023-05-15 16:04:12,813 : INFO : EPOCH 12 - PROGRESS: at 5.29% examples, 1609795 words/s, in_qsize 31, out_qsize 0\n",
      "2023-05-15 16:04:13,816 : INFO : EPOCH 12 - PROGRESS: at 8.62% examples, 1794477 words/s, in_qsize 31, out_qsize 0\n",
      "2023-05-15 16:04:14,818 : INFO : EPOCH 12 - PROGRESS: at 11.78% examples, 1851511 words/s, in_qsize 31, out_qsize 0\n",
      "2023-05-15 16:04:15,819 : INFO : EPOCH 12 - PROGRESS: at 16.30% examples, 1835725 words/s, in_qsize 31, out_qsize 0\n",
      "2023-05-15 16:04:16,826 : INFO : EPOCH 12 - PROGRESS: at 19.88% examples, 1850239 words/s, in_qsize 31, out_qsize 0\n",
      "2023-05-15 16:04:17,832 : INFO : EPOCH 12 - PROGRESS: at 22.99% examples, 1857222 words/s, in_qsize 31, out_qsize 0\n",
      "2023-05-15 16:04:18,841 : INFO : EPOCH 12 - PROGRESS: at 26.86% examples, 1856407 words/s, in_qsize 31, out_qsize 0\n",
      "2023-05-15 16:04:19,844 : INFO : EPOCH 12 - PROGRESS: at 30.92% examples, 1845576 words/s, in_qsize 31, out_qsize 0\n",
      "2023-05-15 16:04:20,844 : INFO : EPOCH 12 - PROGRESS: at 33.86% examples, 1849308 words/s, in_qsize 31, out_qsize 0\n",
      "2023-05-15 16:04:21,845 : INFO : EPOCH 12 - PROGRESS: at 38.14% examples, 1839830 words/s, in_qsize 31, out_qsize 0\n",
      "2023-05-15 16:04:22,847 : INFO : EPOCH 12 - PROGRESS: at 41.18% examples, 1850331 words/s, in_qsize 31, out_qsize 0\n",
      "2023-05-15 16:04:23,851 : INFO : EPOCH 12 - PROGRESS: at 43.13% examples, 1872227 words/s, in_qsize 31, out_qsize 0\n",
      "2023-05-15 16:04:24,852 : INFO : EPOCH 12 - PROGRESS: at 44.48% examples, 1896688 words/s, in_qsize 31, out_qsize 0\n",
      "2023-05-15 16:04:25,855 : INFO : EPOCH 12 - PROGRESS: at 45.81% examples, 1917064 words/s, in_qsize 31, out_qsize 0\n",
      "2023-05-15 16:04:26,857 : INFO : EPOCH 12 - PROGRESS: at 49.81% examples, 1907531 words/s, in_qsize 31, out_qsize 0\n",
      "2023-05-15 16:04:27,857 : INFO : EPOCH 12 - PROGRESS: at 53.35% examples, 1909593 words/s, in_qsize 31, out_qsize 0\n",
      "2023-05-15 16:04:28,860 : INFO : EPOCH 12 - PROGRESS: at 57.85% examples, 1899579 words/s, in_qsize 31, out_qsize 0\n",
      "2023-05-15 16:04:29,861 : INFO : EPOCH 12 - PROGRESS: at 65.29% examples, 1869156 words/s, in_qsize 31, out_qsize 0\n",
      "2023-05-15 16:04:30,868 : INFO : EPOCH 12 - PROGRESS: at 69.60% examples, 1865180 words/s, in_qsize 31, out_qsize 0\n",
      "2023-05-15 16:04:31,875 : INFO : EPOCH 12 - PROGRESS: at 73.46% examples, 1866988 words/s, in_qsize 31, out_qsize 0\n",
      "2023-05-15 16:04:32,878 : INFO : EPOCH 12 - PROGRESS: at 76.29% examples, 1871843 words/s, in_qsize 31, out_qsize 0\n",
      "2023-05-15 16:04:33,880 : INFO : EPOCH 12 - PROGRESS: at 80.25% examples, 1868194 words/s, in_qsize 31, out_qsize 0\n",
      "2023-05-15 16:04:34,890 : INFO : EPOCH 12 - PROGRESS: at 83.63% examples, 1871273 words/s, in_qsize 31, out_qsize 0\n",
      "2023-05-15 16:04:35,891 : INFO : EPOCH 12 - PROGRESS: at 86.81% examples, 1876199 words/s, in_qsize 31, out_qsize 0\n",
      "2023-05-15 16:04:36,896 : INFO : EPOCH 12 - PROGRESS: at 89.63% examples, 1882375 words/s, in_qsize 30, out_qsize 1\n",
      "2023-05-15 16:04:37,902 : INFO : EPOCH 12 - PROGRESS: at 92.04% examples, 1892261 words/s, in_qsize 31, out_qsize 0\n",
      "2023-05-15 16:04:38,903 : INFO : EPOCH 12 - PROGRESS: at 95.48% examples, 1893517 words/s, in_qsize 31, out_qsize 0\n",
      "2023-05-15 16:04:39,883 : INFO : EPOCH 12: training on 70790138 raw words (53076441 effective words) took 28.1s, 1890495 effective words/s\n",
      "2023-05-15 16:04:40,895 : INFO : EPOCH 13 - PROGRESS: at 5.29% examples, 1610334 words/s, in_qsize 31, out_qsize 0\n",
      "2023-05-15 16:04:41,896 : INFO : EPOCH 13 - PROGRESS: at 8.32% examples, 1714648 words/s, in_qsize 31, out_qsize 0\n",
      "2023-05-15 16:04:42,897 : INFO : EPOCH 13 - PROGRESS: at 11.29% examples, 1776096 words/s, in_qsize 30, out_qsize 1\n",
      "2023-05-15 16:04:43,902 : INFO : EPOCH 13 - PROGRESS: at 15.80% examples, 1768509 words/s, in_qsize 31, out_qsize 0\n",
      "2023-05-15 16:04:44,905 : INFO : EPOCH 13 - PROGRESS: at 19.35% examples, 1786972 words/s, in_qsize 31, out_qsize 0\n",
      "2023-05-15 16:04:45,906 : INFO : EPOCH 13 - PROGRESS: at 22.40% examples, 1799447 words/s, in_qsize 31, out_qsize 0\n",
      "2023-05-15 16:04:46,907 : INFO : EPOCH 13 - PROGRESS: at 25.95% examples, 1802133 words/s, in_qsize 32, out_qsize 0\n",
      "2023-05-15 16:04:47,915 : INFO : EPOCH 13 - PROGRESS: at 30.11% examples, 1798600 words/s, in_qsize 31, out_qsize 0\n",
      "2023-05-15 16:04:48,924 : INFO : EPOCH 13 - PROGRESS: at 33.10% examples, 1796192 words/s, in_qsize 31, out_qsize 0\n",
      "2023-05-15 16:04:49,929 : INFO : EPOCH 13 - PROGRESS: at 36.75% examples, 1790577 words/s, in_qsize 31, out_qsize 0\n",
      "2023-05-15 16:04:50,931 : INFO : EPOCH 13 - PROGRESS: at 40.27% examples, 1795259 words/s, in_qsize 31, out_qsize 0\n",
      "2023-05-15 16:04:51,936 : INFO : EPOCH 13 - PROGRESS: at 42.67% examples, 1810398 words/s, in_qsize 31, out_qsize 0\n",
      "2023-05-15 16:04:52,938 : INFO : EPOCH 13 - PROGRESS: at 43.97% examples, 1835199 words/s, in_qsize 31, out_qsize 0\n",
      "2023-05-15 16:04:53,939 : INFO : EPOCH 13 - PROGRESS: at 45.28% examples, 1857188 words/s, in_qsize 31, out_qsize 0\n",
      "2023-05-15 16:04:54,952 : INFO : EPOCH 13 - PROGRESS: at 47.87% examples, 1861152 words/s, in_qsize 31, out_qsize 0\n",
      "2023-05-15 16:04:55,952 : INFO : EPOCH 13 - PROGRESS: at 51.89% examples, 1857672 words/s, in_qsize 31, out_qsize 0\n",
      "2023-05-15 16:04:56,961 : INFO : EPOCH 13 - PROGRESS: at 55.82% examples, 1854661 words/s, in_qsize 31, out_qsize 0\n",
      "2023-05-15 16:04:57,965 : INFO : EPOCH 13 - PROGRESS: at 61.41% examples, 1837379 words/s, in_qsize 31, out_qsize 0\n",
      "2023-05-15 16:04:58,971 : INFO : EPOCH 13 - PROGRESS: at 67.64% examples, 1818252 words/s, in_qsize 31, out_qsize 0\n",
      "2023-05-15 16:04:59,976 : INFO : EPOCH 13 - PROGRESS: at 71.71% examples, 1819723 words/s, in_qsize 31, out_qsize 0\n",
      "2023-05-15 16:05:00,977 : INFO : EPOCH 13 - PROGRESS: at 74.94% examples, 1825631 words/s, in_qsize 31, out_qsize 0\n",
      "2023-05-15 16:05:01,977 : INFO : EPOCH 13 - PROGRESS: at 78.18% examples, 1828711 words/s, in_qsize 31, out_qsize 0\n",
      "2023-05-15 16:05:02,977 : INFO : EPOCH 13 - PROGRESS: at 82.12% examples, 1830913 words/s, in_qsize 31, out_qsize 0\n",
      "2023-05-15 16:05:03,978 : INFO : EPOCH 13 - PROGRESS: at 85.28% examples, 1836318 words/s, in_qsize 30, out_qsize 1\n",
      "2023-05-15 16:05:04,978 : INFO : EPOCH 13 - PROGRESS: at 88.47% examples, 1843924 words/s, in_qsize 31, out_qsize 0\n",
      "2023-05-15 16:05:05,985 : INFO : EPOCH 13 - PROGRESS: at 90.92% examples, 1854645 words/s, in_qsize 31, out_qsize 0\n",
      "2023-05-15 16:05:06,987 : INFO : EPOCH 13 - PROGRESS: at 93.81% examples, 1861280 words/s, in_qsize 32, out_qsize 0\n",
      "2023-05-15 16:05:07,988 : INFO : EPOCH 13 - PROGRESS: at 97.93% examples, 1861049 words/s, in_qsize 31, out_qsize 0\n",
      "2023-05-15 16:05:08,405 : INFO : EPOCH 13: training on 70790138 raw words (53080707 effective words) took 28.5s, 1861492 effective words/s\n",
      "2023-05-15 16:05:09,412 : INFO : EPOCH 14 - PROGRESS: at 5.27% examples, 1603247 words/s, in_qsize 31, out_qsize 0\n",
      "2023-05-15 16:05:10,414 : INFO : EPOCH 14 - PROGRESS: at 8.59% examples, 1789037 words/s, in_qsize 31, out_qsize 0\n",
      "2023-05-15 16:05:11,415 : INFO : EPOCH 14 - PROGRESS: at 11.74% examples, 1850387 words/s, in_qsize 31, out_qsize 0\n",
      "2023-05-15 16:05:12,418 : INFO : EPOCH 14 - PROGRESS: at 16.29% examples, 1835745 words/s, in_qsize 31, out_qsize 0\n",
      "2023-05-15 16:05:13,419 : INFO : EPOCH 14 - PROGRESS: at 19.83% examples, 1848357 words/s, in_qsize 31, out_qsize 0\n",
      "2023-05-15 16:05:14,423 : INFO : EPOCH 14 - PROGRESS: at 22.92% examples, 1852643 words/s, in_qsize 31, out_qsize 0\n",
      "2023-05-15 16:05:15,425 : INFO : EPOCH 14 - PROGRESS: at 26.81% examples, 1858198 words/s, in_qsize 31, out_qsize 0\n",
      "2023-05-15 16:05:16,427 : INFO : EPOCH 14 - PROGRESS: at 30.93% examples, 1851033 words/s, in_qsize 30, out_qsize 1\n",
      "2023-05-15 16:05:17,429 : INFO : EPOCH 14 - PROGRESS: at 33.91% examples, 1856902 words/s, in_qsize 31, out_qsize 0\n",
      "2023-05-15 16:05:18,429 : INFO : EPOCH 14 - PROGRESS: at 38.21% examples, 1846326 words/s, in_qsize 31, out_qsize 0\n",
      "2023-05-15 16:05:19,431 : INFO : EPOCH 14 - PROGRESS: at 41.24% examples, 1857900 words/s, in_qsize 31, out_qsize 0\n",
      "2023-05-15 16:05:20,432 : INFO : EPOCH 14 - PROGRESS: at 43.14% examples, 1876959 words/s, in_qsize 28, out_qsize 3\n",
      "2023-05-15 16:05:21,432 : INFO : EPOCH 14 - PROGRESS: at 44.48% examples, 1900543 words/s, in_qsize 32, out_qsize 0\n",
      "2023-05-15 16:05:22,435 : INFO : EPOCH 14 - PROGRESS: at 45.82% examples, 1921392 words/s, in_qsize 29, out_qsize 2\n",
      "2023-05-15 16:05:23,450 : INFO : EPOCH 14 - PROGRESS: at 49.84% examples, 1910405 words/s, in_qsize 31, out_qsize 0\n",
      "2023-05-15 16:05:24,450 : INFO : EPOCH 14 - PROGRESS: at 53.48% examples, 1915451 words/s, in_qsize 31, out_qsize 0\n",
      "2023-05-15 16:05:25,453 : INFO : EPOCH 14 - PROGRESS: at 58.10% examples, 1904147 words/s, in_qsize 31, out_qsize 0\n",
      "2023-05-15 16:05:26,454 : INFO : EPOCH 14 - PROGRESS: at 65.36% examples, 1871695 words/s, in_qsize 31, out_qsize 0\n",
      "2023-05-15 16:05:27,457 : INFO : EPOCH 14 - PROGRESS: at 69.68% examples, 1868469 words/s, in_qsize 31, out_qsize 0\n",
      "2023-05-15 16:05:28,458 : INFO : EPOCH 14 - PROGRESS: at 73.55% examples, 1871755 words/s, in_qsize 31, out_qsize 0\n",
      "2023-05-15 16:05:29,459 : INFO : EPOCH 14 - PROGRESS: at 76.32% examples, 1874785 words/s, in_qsize 31, out_qsize 0\n",
      "2023-05-15 16:05:30,461 : INFO : EPOCH 14 - PROGRESS: at 80.41% examples, 1872524 words/s, in_qsize 30, out_qsize 1\n",
      "2023-05-15 16:05:31,468 : INFO : EPOCH 14 - PROGRESS: at 83.70% examples, 1875629 words/s, in_qsize 31, out_qsize 0\n",
      "2023-05-15 16:05:32,469 : INFO : EPOCH 14 - PROGRESS: at 86.92% examples, 1880998 words/s, in_qsize 31, out_qsize 0\n",
      "2023-05-15 16:05:33,469 : INFO : EPOCH 14 - PROGRESS: at 89.73% examples, 1888787 words/s, in_qsize 31, out_qsize 0\n",
      "2023-05-15 16:05:34,470 : INFO : EPOCH 14 - PROGRESS: at 92.12% examples, 1897366 words/s, in_qsize 31, out_qsize 0\n",
      "2023-05-15 16:05:35,470 : INFO : EPOCH 14 - PROGRESS: at 95.61% examples, 1898237 words/s, in_qsize 31, out_qsize 0\n",
      "2023-05-15 16:05:36,398 : INFO : EPOCH 14: training on 70790138 raw words (53074980 effective words) took 28.0s, 1896435 effective words/s\n",
      "2023-05-15 16:05:37,408 : INFO : EPOCH 15 - PROGRESS: at 5.29% examples, 1611495 words/s, in_qsize 32, out_qsize 0\n",
      "2023-05-15 16:05:38,410 : INFO : EPOCH 15 - PROGRESS: at 8.64% examples, 1801691 words/s, in_qsize 31, out_qsize 0\n",
      "2023-05-15 16:05:39,416 : INFO : EPOCH 15 - PROGRESS: at 11.84% examples, 1857270 words/s, in_qsize 31, out_qsize 0\n",
      "2023-05-15 16:05:40,417 : INFO : EPOCH 15 - PROGRESS: at 16.34% examples, 1840331 words/s, in_qsize 31, out_qsize 0\n",
      "2023-05-15 16:05:41,419 : INFO : EPOCH 15 - PROGRESS: at 19.92% examples, 1855620 words/s, in_qsize 31, out_qsize 0\n",
      "2023-05-15 16:05:42,421 : INFO : EPOCH 15 - PROGRESS: at 23.03% examples, 1862976 words/s, in_qsize 31, out_qsize 0\n",
      "2023-05-15 16:05:43,421 : INFO : EPOCH 15 - PROGRESS: at 26.87% examples, 1861742 words/s, in_qsize 31, out_qsize 0\n",
      "2023-05-15 16:05:44,423 : INFO : EPOCH 15 - PROGRESS: at 31.01% examples, 1856409 words/s, in_qsize 31, out_qsize 0\n",
      "2023-05-15 16:05:45,422 : INFO : EPOCH 15 - PROGRESS: at 33.97% examples, 1862149 words/s, in_qsize 30, out_qsize 1\n",
      "2023-05-15 16:05:46,429 : INFO : EPOCH 15 - PROGRESS: at 38.36% examples, 1851423 words/s, in_qsize 31, out_qsize 0\n",
      "2023-05-15 16:05:47,437 : INFO : EPOCH 15 - PROGRESS: at 41.22% examples, 1853872 words/s, in_qsize 31, out_qsize 0\n",
      "2023-05-15 16:05:48,440 : INFO : EPOCH 15 - PROGRESS: at 43.13% examples, 1873388 words/s, in_qsize 31, out_qsize 0\n",
      "2023-05-15 16:05:49,441 : INFO : EPOCH 15 - PROGRESS: at 44.48% examples, 1896960 words/s, in_qsize 31, out_qsize 0\n",
      "2023-05-15 16:05:50,444 : INFO : EPOCH 15 - PROGRESS: at 45.70% examples, 1905947 words/s, in_qsize 30, out_qsize 1\n",
      "2023-05-15 16:05:51,457 : INFO : EPOCH 15 - PROGRESS: at 49.30% examples, 1894964 words/s, in_qsize 32, out_qsize 0\n",
      "2023-05-15 16:05:52,459 : INFO : EPOCH 15 - PROGRESS: at 53.03% examples, 1897845 words/s, in_qsize 31, out_qsize 0\n",
      "2023-05-15 16:05:53,461 : INFO : EPOCH 15 - PROGRESS: at 57.41% examples, 1891209 words/s, in_qsize 31, out_qsize 0\n",
      "2023-05-15 16:05:54,486 : INFO : EPOCH 15 - PROGRESS: at 64.51% examples, 1859299 words/s, in_qsize 31, out_qsize 0\n",
      "2023-05-15 16:05:55,487 : INFO : EPOCH 15 - PROGRESS: at 69.36% examples, 1857408 words/s, in_qsize 32, out_qsize 0\n",
      "2023-05-15 16:05:56,488 : INFO : EPOCH 15 - PROGRESS: at 73.29% examples, 1859082 words/s, in_qsize 31, out_qsize 0\n",
      "2023-05-15 16:05:57,489 : INFO : EPOCH 15 - PROGRESS: at 76.09% examples, 1864074 words/s, in_qsize 31, out_qsize 0\n",
      "2023-05-15 16:05:58,489 : INFO : EPOCH 15 - PROGRESS: at 79.97% examples, 1861364 words/s, in_qsize 30, out_qsize 1\n",
      "2023-05-15 16:05:59,491 : INFO : EPOCH 15 - PROGRESS: at 83.38% examples, 1864987 words/s, in_qsize 32, out_qsize 0\n",
      "2023-05-15 16:06:00,493 : INFO : EPOCH 15 - PROGRESS: at 86.59% examples, 1869828 words/s, in_qsize 31, out_qsize 0\n",
      "2023-05-15 16:06:01,503 : INFO : EPOCH 15 - PROGRESS: at 89.46% examples, 1876423 words/s, in_qsize 31, out_qsize 0\n",
      "2023-05-15 16:06:02,505 : INFO : EPOCH 15 - PROGRESS: at 91.83% examples, 1885923 words/s, in_qsize 30, out_qsize 1\n",
      "2023-05-15 16:06:03,505 : INFO : EPOCH 15 - PROGRESS: at 95.17% examples, 1887201 words/s, in_qsize 31, out_qsize 0\n",
      "2023-05-15 16:06:04,506 : INFO : EPOCH 15 - PROGRESS: at 99.58% examples, 1883277 words/s, in_qsize 23, out_qsize 0\n",
      "2023-05-15 16:06:04,569 : INFO : EPOCH 15: training on 70790138 raw words (53075570 effective words) took 28.2s, 1884532 effective words/s\n",
      "2023-05-15 16:06:05,576 : INFO : EPOCH 16 - PROGRESS: at 5.27% examples, 1602571 words/s, in_qsize 31, out_qsize 0\n",
      "2023-05-15 16:06:06,577 : INFO : EPOCH 16 - PROGRESS: at 8.61% examples, 1797489 words/s, in_qsize 31, out_qsize 0\n",
      "2023-05-15 16:06:07,579 : INFO : EPOCH 16 - PROGRESS: at 11.62% examples, 1833049 words/s, in_qsize 31, out_qsize 0\n",
      "2023-05-15 16:06:08,580 : INFO : EPOCH 16 - PROGRESS: at 16.16% examples, 1820602 words/s, in_qsize 31, out_qsize 0\n",
      "2023-05-15 16:06:09,590 : INFO : EPOCH 16 - PROGRESS: at 19.48% examples, 1802419 words/s, in_qsize 30, out_qsize 1\n",
      "2023-05-15 16:06:10,596 : INFO : EPOCH 16 - PROGRESS: at 22.38% examples, 1795365 words/s, in_qsize 31, out_qsize 0\n",
      "2023-05-15 16:06:11,596 : INFO : EPOCH 16 - PROGRESS: at 25.85% examples, 1795265 words/s, in_qsize 31, out_qsize 0\n",
      "2023-05-15 16:06:12,597 : INFO : EPOCH 16 - PROGRESS: at 29.99% examples, 1793368 words/s, in_qsize 31, out_qsize 0\n",
      "2023-05-15 16:06:13,597 : INFO : EPOCH 16 - PROGRESS: at 33.18% examples, 1803263 words/s, in_qsize 30, out_qsize 1\n",
      "2023-05-15 16:06:14,600 : INFO : EPOCH 16 - PROGRESS: at 37.08% examples, 1803022 words/s, in_qsize 31, out_qsize 0\n",
      "2023-05-15 16:06:15,603 : INFO : EPOCH 16 - PROGRESS: at 40.52% examples, 1813367 words/s, in_qsize 31, out_qsize 0\n",
      "2023-05-15 16:06:16,606 : INFO : EPOCH 16 - PROGRESS: at 42.82% examples, 1834345 words/s, in_qsize 30, out_qsize 1\n",
      "2023-05-15 16:06:17,610 : INFO : EPOCH 16 - PROGRESS: at 44.15% examples, 1859814 words/s, in_qsize 31, out_qsize 0\n",
      "2023-05-15 16:06:18,614 : INFO : EPOCH 16 - PROGRESS: at 45.51% examples, 1883998 words/s, in_qsize 29, out_qsize 2\n",
      "2023-05-15 16:06:19,616 : INFO : EPOCH 16 - PROGRESS: at 48.69% examples, 1882506 words/s, in_qsize 30, out_qsize 1\n",
      "2023-05-15 16:06:20,618 : INFO : EPOCH 16 - PROGRESS: at 52.53% examples, 1882717 words/s, in_qsize 32, out_qsize 0\n",
      "2023-05-15 16:06:21,621 : INFO : EPOCH 16 - PROGRESS: at 56.74% examples, 1877806 words/s, in_qsize 31, out_qsize 0\n",
      "2023-05-15 16:06:22,636 : INFO : EPOCH 16 - PROGRESS: at 63.25% examples, 1852358 words/s, in_qsize 31, out_qsize 0\n",
      "2023-05-15 16:06:23,637 : INFO : EPOCH 16 - PROGRESS: at 68.73% examples, 1845173 words/s, in_qsize 31, out_qsize 0\n",
      "2023-05-15 16:06:24,638 : INFO : EPOCH 16 - PROGRESS: at 72.74% examples, 1845777 words/s, in_qsize 31, out_qsize 0\n",
      "2023-05-15 16:06:25,639 : INFO : EPOCH 16 - PROGRESS: at 75.64% examples, 1851851 words/s, in_qsize 31, out_qsize 0\n",
      "2023-05-15 16:06:26,641 : INFO : EPOCH 16 - PROGRESS: at 79.37% examples, 1851845 words/s, in_qsize 31, out_qsize 0\n",
      "2023-05-15 16:06:27,641 : INFO : EPOCH 16 - PROGRESS: at 82.90% examples, 1854033 words/s, in_qsize 31, out_qsize 0\n",
      "2023-05-15 16:06:28,642 : INFO : EPOCH 16 - PROGRESS: at 86.12% examples, 1859527 words/s, in_qsize 31, out_qsize 0\n",
      "2023-05-15 16:06:29,644 : INFO : EPOCH 16 - PROGRESS: at 89.11% examples, 1866630 words/s, in_qsize 30, out_qsize 1\n",
      "2023-05-15 16:06:30,649 : INFO : EPOCH 16 - PROGRESS: at 91.52% examples, 1877071 words/s, in_qsize 31, out_qsize 0\n",
      "2023-05-15 16:06:31,657 : INFO : EPOCH 16 - PROGRESS: at 94.74% examples, 1880088 words/s, in_qsize 31, out_qsize 0\n",
      "2023-05-15 16:06:32,658 : INFO : EPOCH 16 - PROGRESS: at 99.02% examples, 1877704 words/s, in_qsize 30, out_qsize 1\n",
      "2023-05-15 16:06:32,829 : INFO : EPOCH 16: training on 70790138 raw words (53074518 effective words) took 28.3s, 1878473 effective words/s\n",
      "2023-05-15 16:06:33,841 : INFO : EPOCH 17 - PROGRESS: at 5.29% examples, 1610797 words/s, in_qsize 31, out_qsize 0\n",
      "2023-05-15 16:06:34,847 : INFO : EPOCH 17 - PROGRESS: at 8.65% examples, 1799738 words/s, in_qsize 31, out_qsize 0\n",
      "2023-05-15 16:06:35,854 : INFO : EPOCH 17 - PROGRESS: at 11.85% examples, 1855105 words/s, in_qsize 31, out_qsize 0\n",
      "2023-05-15 16:06:36,858 : INFO : EPOCH 17 - PROGRESS: at 16.36% examples, 1837693 words/s, in_qsize 31, out_qsize 0\n",
      "2023-05-15 16:06:37,860 : INFO : EPOCH 17 - PROGRESS: at 19.92% examples, 1852216 words/s, in_qsize 31, out_qsize 0\n",
      "2023-05-15 16:06:38,860 : INFO : EPOCH 17 - PROGRESS: at 22.98% examples, 1856151 words/s, in_qsize 31, out_qsize 0\n",
      "2023-05-15 16:06:39,868 : INFO : EPOCH 17 - PROGRESS: at 26.85% examples, 1855639 words/s, in_qsize 31, out_qsize 0\n",
      "2023-05-15 16:06:40,869 : INFO : EPOCH 17 - PROGRESS: at 30.93% examples, 1847097 words/s, in_qsize 31, out_qsize 0\n",
      "2023-05-15 16:06:41,874 : INFO : EPOCH 17 - PROGRESS: at 33.90% examples, 1851637 words/s, in_qsize 31, out_qsize 0\n",
      "2023-05-15 16:06:42,875 : INFO : EPOCH 17 - PROGRESS: at 38.22% examples, 1842139 words/s, in_qsize 30, out_qsize 1\n",
      "2023-05-15 16:06:43,877 : INFO : EPOCH 17 - PROGRESS: at 41.30% examples, 1857601 words/s, in_qsize 31, out_qsize 0\n",
      "2023-05-15 16:06:44,882 : INFO : EPOCH 17 - PROGRESS: at 43.16% examples, 1875068 words/s, in_qsize 31, out_qsize 0\n",
      "2023-05-15 16:06:45,883 : INFO : EPOCH 17 - PROGRESS: at 44.51% examples, 1898930 words/s, in_qsize 31, out_qsize 0\n",
      "2023-05-15 16:06:46,885 : INFO : EPOCH 17 - PROGRESS: at 45.85% examples, 1920588 words/s, in_qsize 31, out_qsize 0\n",
      "2023-05-15 16:06:47,888 : INFO : EPOCH 17 - PROGRESS: at 49.84% examples, 1908603 words/s, in_qsize 31, out_qsize 0\n",
      "2023-05-15 16:06:48,890 : INFO : EPOCH 17 - PROGRESS: at 53.49% examples, 1914071 words/s, in_qsize 31, out_qsize 0\n",
      "2023-05-15 16:06:49,894 : INFO : EPOCH 17 - PROGRESS: at 58.14% examples, 1902800 words/s, in_qsize 31, out_qsize 0\n",
      "2023-05-15 16:06:50,896 : INFO : EPOCH 17 - PROGRESS: at 65.52% examples, 1871550 words/s, in_qsize 30, out_qsize 1\n",
      "2023-05-15 16:06:51,913 : INFO : EPOCH 17 - PROGRESS: at 69.84% examples, 1869560 words/s, in_qsize 32, out_qsize 0\n",
      "2023-05-15 16:06:52,917 : INFO : EPOCH 17 - PROGRESS: at 73.66% examples, 1871849 words/s, in_qsize 31, out_qsize 0\n",
      "2023-05-15 16:06:53,920 : INFO : EPOCH 17 - PROGRESS: at 76.43% examples, 1875580 words/s, in_qsize 31, out_qsize 0\n",
      "2023-05-15 16:06:54,930 : INFO : EPOCH 17 - PROGRESS: at 80.56% examples, 1872215 words/s, in_qsize 31, out_qsize 0\n",
      "2023-05-15 16:06:55,933 : INFO : EPOCH 17 - PROGRESS: at 83.82% examples, 1875468 words/s, in_qsize 31, out_qsize 0\n",
      "2023-05-15 16:06:56,939 : INFO : EPOCH 17 - PROGRESS: at 87.08% examples, 1881620 words/s, in_qsize 31, out_qsize 0\n",
      "2023-05-15 16:06:57,940 : INFO : EPOCH 17 - PROGRESS: at 89.77% examples, 1887451 words/s, in_qsize 31, out_qsize 0\n",
      "2023-05-15 16:06:58,940 : INFO : EPOCH 17 - PROGRESS: at 92.11% examples, 1893579 words/s, in_qsize 31, out_qsize 0\n",
      "2023-05-15 16:06:59,940 : INFO : EPOCH 17 - PROGRESS: at 95.57% examples, 1894427 words/s, in_qsize 32, out_qsize 0\n",
      "2023-05-15 16:07:00,885 : INFO : EPOCH 17: training on 70790138 raw words (53074736 effective words) took 28.0s, 1892223 effective words/s\n",
      "2023-05-15 16:07:01,895 : INFO : EPOCH 18 - PROGRESS: at 5.27% examples, 1597714 words/s, in_qsize 31, out_qsize 0\n",
      "2023-05-15 16:07:02,896 : INFO : EPOCH 18 - PROGRESS: at 8.61% examples, 1795346 words/s, in_qsize 31, out_qsize 0\n",
      "2023-05-15 16:07:03,898 : INFO : EPOCH 18 - PROGRESS: at 11.82% examples, 1857379 words/s, in_qsize 31, out_qsize 0\n",
      "2023-05-15 16:07:04,904 : INFO : EPOCH 18 - PROGRESS: at 16.32% examples, 1836585 words/s, in_qsize 32, out_qsize 0\n",
      "2023-05-15 16:07:05,907 : INFO : EPOCH 18 - PROGRESS: at 19.91% examples, 1853839 words/s, in_qsize 31, out_qsize 0\n",
      "2023-05-15 16:07:06,907 : INFO : EPOCH 18 - PROGRESS: at 23.04% examples, 1863913 words/s, in_qsize 31, out_qsize 0\n",
      "2023-05-15 16:07:07,918 : INFO : EPOCH 18 - PROGRESS: at 26.89% examples, 1859945 words/s, in_qsize 31, out_qsize 0\n",
      "2023-05-15 16:07:08,921 : INFO : EPOCH 18 - PROGRESS: at 31.04% examples, 1856248 words/s, in_qsize 31, out_qsize 0\n",
      "2023-05-15 16:07:09,922 : INFO : EPOCH 18 - PROGRESS: at 33.99% examples, 1860921 words/s, in_qsize 31, out_qsize 0\n",
      "2023-05-15 16:07:10,927 : INFO : EPOCH 18 - PROGRESS: at 38.36% examples, 1849280 words/s, in_qsize 31, out_qsize 0\n",
      "2023-05-15 16:07:11,932 : INFO : EPOCH 18 - PROGRESS: at 41.33% examples, 1860090 words/s, in_qsize 31, out_qsize 0\n",
      "2023-05-15 16:07:12,940 : INFO : EPOCH 18 - PROGRESS: at 43.21% examples, 1881661 words/s, in_qsize 31, out_qsize 0\n",
      "2023-05-15 16:07:13,940 : INFO : EPOCH 18 - PROGRESS: at 44.56% examples, 1904629 words/s, in_qsize 31, out_qsize 0\n",
      "2023-05-15 16:07:14,940 : INFO : EPOCH 18 - PROGRESS: at 45.89% examples, 1925709 words/s, in_qsize 31, out_qsize 0\n",
      "2023-05-15 16:07:15,941 : INFO : EPOCH 18 - PROGRESS: at 50.10% examples, 1915512 words/s, in_qsize 32, out_qsize 0\n",
      "2023-05-15 16:07:16,945 : INFO : EPOCH 18 - PROGRESS: at 53.59% examples, 1918059 words/s, in_qsize 31, out_qsize 0\n",
      "2023-05-15 16:07:17,950 : INFO : EPOCH 18 - PROGRESS: at 58.34% examples, 1905253 words/s, in_qsize 31, out_qsize 0\n",
      "2023-05-15 16:07:18,959 : INFO : EPOCH 18 - PROGRESS: at 65.76% examples, 1875190 words/s, in_qsize 30, out_qsize 1\n",
      "2023-05-15 16:07:19,961 : INFO : EPOCH 18 - PROGRESS: at 69.99% examples, 1874115 words/s, in_qsize 32, out_qsize 0\n",
      "2023-05-15 16:07:20,965 : INFO : EPOCH 18 - PROGRESS: at 73.75% examples, 1875912 words/s, in_qsize 31, out_qsize 0\n",
      "2023-05-15 16:07:21,969 : INFO : EPOCH 18 - PROGRESS: at 76.51% examples, 1878836 words/s, in_qsize 31, out_qsize 0\n",
      "2023-05-15 16:07:22,970 : INFO : EPOCH 18 - PROGRESS: at 80.67% examples, 1875763 words/s, in_qsize 31, out_qsize 0\n",
      "2023-05-15 16:07:23,972 : INFO : EPOCH 18 - PROGRESS: at 83.93% examples, 1879660 words/s, in_qsize 31, out_qsize 0\n",
      "2023-05-15 16:07:24,974 : INFO : EPOCH 18 - PROGRESS: at 87.13% examples, 1884544 words/s, in_qsize 30, out_qsize 1\n",
      "2023-05-15 16:07:25,979 : INFO : EPOCH 18 - PROGRESS: at 89.90% examples, 1892821 words/s, in_qsize 31, out_qsize 0\n",
      "2023-05-15 16:07:26,987 : INFO : EPOCH 18 - PROGRESS: at 92.33% examples, 1901083 words/s, in_qsize 31, out_qsize 0\n",
      "2023-05-15 16:07:27,989 : INFO : EPOCH 18 - PROGRESS: at 95.94% examples, 1902699 words/s, in_qsize 31, out_qsize 0\n",
      "2023-05-15 16:07:28,832 : INFO : EPOCH 18: training on 70790138 raw words (53076853 effective words) took 27.9s, 1899595 effective words/s\n",
      "2023-05-15 16:07:29,839 : INFO : EPOCH 19 - PROGRESS: at 5.28% examples, 1609879 words/s, in_qsize 31, out_qsize 0\n",
      "2023-05-15 16:07:30,845 : INFO : EPOCH 19 - PROGRESS: at 8.64% examples, 1800596 words/s, in_qsize 31, out_qsize 0\n",
      "2023-05-15 16:07:31,848 : INFO : EPOCH 19 - PROGRESS: at 11.82% examples, 1855924 words/s, in_qsize 31, out_qsize 0\n",
      "2023-05-15 16:07:32,849 : INFO : EPOCH 19 - PROGRESS: at 16.33% examples, 1839896 words/s, in_qsize 31, out_qsize 0\n",
      "2023-05-15 16:07:33,851 : INFO : EPOCH 19 - PROGRESS: at 19.89% examples, 1853988 words/s, in_qsize 31, out_qsize 0\n",
      "2023-05-15 16:07:34,857 : INFO : EPOCH 19 - PROGRESS: at 23.04% examples, 1863881 words/s, in_qsize 31, out_qsize 0\n",
      "2023-05-15 16:07:35,860 : INFO : EPOCH 19 - PROGRESS: at 26.87% examples, 1860797 words/s, in_qsize 31, out_qsize 0\n",
      "2023-05-15 16:07:36,863 : INFO : EPOCH 19 - PROGRESS: at 31.02% examples, 1856241 words/s, in_qsize 31, out_qsize 0\n",
      "2023-05-15 16:07:37,864 : INFO : EPOCH 19 - PROGRESS: at 34.00% examples, 1863074 words/s, in_qsize 31, out_qsize 0\n",
      "2023-05-15 16:07:38,865 : INFO : EPOCH 19 - PROGRESS: at 38.36% examples, 1851401 words/s, in_qsize 31, out_qsize 0\n",
      "2023-05-15 16:07:39,870 : INFO : EPOCH 19 - PROGRESS: at 41.33% examples, 1861900 words/s, in_qsize 32, out_qsize 0\n",
      "2023-05-15 16:07:40,871 : INFO : EPOCH 19 - PROGRESS: at 43.15% examples, 1876417 words/s, in_qsize 30, out_qsize 1\n",
      "2023-05-15 16:07:41,873 : INFO : EPOCH 19 - PROGRESS: at 44.50% examples, 1900240 words/s, in_qsize 31, out_qsize 0\n",
      "2023-05-15 16:07:42,877 : INFO : EPOCH 19 - PROGRESS: at 45.84% examples, 1921344 words/s, in_qsize 31, out_qsize 0\n",
      "2023-05-15 16:07:43,887 : INFO : EPOCH 19 - PROGRESS: at 49.84% examples, 1909476 words/s, in_qsize 31, out_qsize 0\n",
      "2023-05-15 16:07:44,889 : INFO : EPOCH 19 - PROGRESS: at 53.49% examples, 1914859 words/s, in_qsize 31, out_qsize 0\n",
      "2023-05-15 16:07:45,890 : INFO : EPOCH 19 - PROGRESS: at 58.14% examples, 1903958 words/s, in_qsize 31, out_qsize 0\n",
      "2023-05-15 16:07:46,890 : INFO : EPOCH 19 - PROGRESS: at 65.52% examples, 1872726 words/s, in_qsize 31, out_qsize 0\n",
      "2023-05-15 16:07:47,891 : INFO : EPOCH 19 - PROGRESS: at 69.77% examples, 1870419 words/s, in_qsize 32, out_qsize 0\n",
      "2023-05-15 16:07:48,891 : INFO : EPOCH 19 - PROGRESS: at 73.57% examples, 1872118 words/s, in_qsize 31, out_qsize 0\n",
      "2023-05-15 16:07:49,892 : INFO : EPOCH 19 - PROGRESS: at 76.37% examples, 1876169 words/s, in_qsize 30, out_qsize 1\n",
      "2023-05-15 16:07:50,893 : INFO : EPOCH 19 - PROGRESS: at 80.45% examples, 1873132 words/s, in_qsize 32, out_qsize 1\n",
      "2023-05-15 16:07:51,894 : INFO : EPOCH 19 - PROGRESS: at 83.70% examples, 1875978 words/s, in_qsize 31, out_qsize 0\n",
      "2023-05-15 16:07:52,905 : INFO : EPOCH 19 - PROGRESS: at 86.93% examples, 1880905 words/s, in_qsize 31, out_qsize 0\n",
      "2023-05-15 16:07:53,909 : INFO : EPOCH 19 - PROGRESS: at 89.74% examples, 1888272 words/s, in_qsize 31, out_qsize 0\n",
      "2023-05-15 16:07:54,910 : INFO : EPOCH 19 - PROGRESS: at 92.14% examples, 1897570 words/s, in_qsize 31, out_qsize 0\n",
      "2023-05-15 16:07:55,910 : INFO : EPOCH 19 - PROGRESS: at 95.62% examples, 1897911 words/s, in_qsize 30, out_qsize 1\n",
      "2023-05-15 16:07:56,835 : INFO : EPOCH 19: training on 70790138 raw words (53080853 effective words) took 28.0s, 1895997 effective words/s\n",
      "2023-05-15 16:07:57,844 : INFO : EPOCH 20 - PROGRESS: at 5.29% examples, 1613606 words/s, in_qsize 31, out_qsize 0\n",
      "2023-05-15 16:07:58,848 : INFO : EPOCH 20 - PROGRESS: at 8.65% examples, 1803040 words/s, in_qsize 31, out_qsize 0\n",
      "2023-05-15 16:07:59,857 : INFO : EPOCH 20 - PROGRESS: at 11.85% examples, 1857089 words/s, in_qsize 31, out_qsize 0\n",
      "2023-05-15 16:08:00,857 : INFO : EPOCH 20 - PROGRESS: at 16.36% examples, 1840721 words/s, in_qsize 32, out_qsize 0\n",
      "2023-05-15 16:08:01,863 : INFO : EPOCH 20 - PROGRESS: at 19.92% examples, 1852760 words/s, in_qsize 31, out_qsize 0\n",
      "2023-05-15 16:08:02,867 : INFO : EPOCH 20 - PROGRESS: at 23.04% examples, 1861089 words/s, in_qsize 31, out_qsize 0\n",
      "2023-05-15 16:08:03,870 : INFO : EPOCH 20 - PROGRESS: at 26.87% examples, 1858387 words/s, in_qsize 31, out_qsize 0\n",
      "2023-05-15 16:08:04,878 : INFO : EPOCH 20 - PROGRESS: at 31.02% examples, 1852831 words/s, in_qsize 31, out_qsize 0\n",
      "2023-05-15 16:08:05,884 : INFO : EPOCH 20 - PROGRESS: at 34.00% examples, 1858986 words/s, in_qsize 31, out_qsize 0\n",
      "2023-05-15 16:08:06,885 : INFO : EPOCH 20 - PROGRESS: at 38.38% examples, 1849363 words/s, in_qsize 31, out_qsize 0\n",
      "2023-05-15 16:08:07,887 : INFO : EPOCH 20 - PROGRESS: at 41.37% examples, 1861570 words/s, in_qsize 31, out_qsize 0\n",
      "2023-05-15 16:08:08,889 : INFO : EPOCH 20 - PROGRESS: at 43.23% examples, 1884012 words/s, in_qsize 32, out_qsize 0\n",
      "2023-05-15 16:08:09,890 : INFO : EPOCH 20 - PROGRESS: at 44.57% examples, 1905086 words/s, in_qsize 31, out_qsize 0\n",
      "2023-05-15 16:08:10,893 : INFO : EPOCH 20 - PROGRESS: at 45.89% examples, 1925292 words/s, in_qsize 31, out_qsize 0\n",
      "2023-05-15 16:08:11,898 : INFO : EPOCH 20 - PROGRESS: at 50.12% examples, 1915056 words/s, in_qsize 32, out_qsize 0\n",
      "2023-05-15 16:08:12,903 : INFO : EPOCH 20 - PROGRESS: at 53.55% examples, 1915323 words/s, in_qsize 30, out_qsize 1\n",
      "2023-05-15 16:08:13,905 : INFO : EPOCH 20 - PROGRESS: at 58.24% examples, 1903289 words/s, in_qsize 31, out_qsize 0\n",
      "2023-05-15 16:08:14,910 : INFO : EPOCH 20 - PROGRESS: at 65.71% examples, 1873880 words/s, in_qsize 31, out_qsize 0\n",
      "2023-05-15 16:08:15,915 : INFO : EPOCH 20 - PROGRESS: at 69.87% examples, 1870625 words/s, in_qsize 31, out_qsize 0\n",
      "2023-05-15 16:08:16,915 : INFO : EPOCH 20 - PROGRESS: at 73.69% examples, 1873765 words/s, in_qsize 31, out_qsize 0\n",
      "2023-05-15 16:08:17,919 : INFO : EPOCH 20 - PROGRESS: at 76.48% examples, 1877621 words/s, in_qsize 31, out_qsize 0\n",
      "2023-05-15 16:08:18,922 : INFO : EPOCH 20 - PROGRESS: at 80.61% examples, 1874178 words/s, in_qsize 32, out_qsize 0\n",
      "2023-05-15 16:08:19,921 : INFO : EPOCH 20 - PROGRESS: at 83.89% examples, 1878283 words/s, in_qsize 31, out_qsize 0\n",
      "2023-05-15 16:08:20,924 : INFO : EPOCH 20 - PROGRESS: at 87.09% examples, 1883379 words/s, in_qsize 31, out_qsize 0\n",
      "2023-05-15 16:08:21,925 : INFO : EPOCH 20 - PROGRESS: at 89.85% examples, 1891293 words/s, in_qsize 30, out_qsize 1\n",
      "2023-05-15 16:08:22,932 : INFO : EPOCH 20 - PROGRESS: at 92.26% examples, 1899699 words/s, in_qsize 32, out_qsize 0\n",
      "2023-05-15 16:08:23,934 : INFO : EPOCH 20 - PROGRESS: at 95.85% examples, 1900450 words/s, in_qsize 31, out_qsize 0\n",
      "2023-05-15 16:08:24,802 : INFO : EPOCH 20: training on 70790138 raw words (53072319 effective words) took 28.0s, 1898107 effective words/s\n",
      "2023-05-15 16:08:25,814 : INFO : EPOCH 21 - PROGRESS: at 5.29% examples, 1610549 words/s, in_qsize 31, out_qsize 0\n",
      "2023-05-15 16:08:26,814 : INFO : EPOCH 21 - PROGRESS: at 8.64% examples, 1801257 words/s, in_qsize 31, out_qsize 0\n",
      "2023-05-15 16:08:27,815 : INFO : EPOCH 21 - PROGRESS: at 11.82% examples, 1857525 words/s, in_qsize 31, out_qsize 0\n",
      "2023-05-15 16:08:28,828 : INFO : EPOCH 21 - PROGRESS: at 16.32% examples, 1833553 words/s, in_qsize 31, out_qsize 0\n",
      "2023-05-15 16:08:29,831 : INFO : EPOCH 21 - PROGRESS: at 19.88% examples, 1848744 words/s, in_qsize 31, out_qsize 0\n",
      "2023-05-15 16:08:30,834 : INFO : EPOCH 21 - PROGRESS: at 22.99% examples, 1856926 words/s, in_qsize 31, out_qsize 0\n",
      "2023-05-15 16:08:31,849 : INFO : EPOCH 21 - PROGRESS: at 26.86% examples, 1854802 words/s, in_qsize 32, out_qsize 0\n",
      "2023-05-15 16:08:32,855 : INFO : EPOCH 21 - PROGRESS: at 30.99% examples, 1848243 words/s, in_qsize 31, out_qsize 0\n",
      "2023-05-15 16:08:33,860 : INFO : EPOCH 21 - PROGRESS: at 33.96% examples, 1854648 words/s, in_qsize 31, out_qsize 0\n",
      "2023-05-15 16:08:34,868 : INFO : EPOCH 21 - PROGRESS: at 38.35% examples, 1845110 words/s, in_qsize 30, out_qsize 1\n",
      "2023-05-15 16:08:35,869 : INFO : EPOCH 21 - PROGRESS: at 41.33% examples, 1856854 words/s, in_qsize 31, out_qsize 0\n",
      "2023-05-15 16:08:36,872 : INFO : EPOCH 21 - PROGRESS: at 43.18% examples, 1875044 words/s, in_qsize 31, out_qsize 0\n",
      "2023-05-15 16:08:37,875 : INFO : EPOCH 21 - PROGRESS: at 44.52% examples, 1896774 words/s, in_qsize 31, out_qsize 0\n",
      "2023-05-15 16:08:38,878 : INFO : EPOCH 21 - PROGRESS: at 45.82% examples, 1915005 words/s, in_qsize 31, out_qsize 0\n",
      "2023-05-15 16:08:39,898 : INFO : EPOCH 21 - PROGRESS: at 49.84% examples, 1904280 words/s, in_qsize 31, out_qsize 0\n",
      "2023-05-15 16:08:40,898 : INFO : EPOCH 21 - PROGRESS: at 53.45% examples, 1908769 words/s, in_qsize 31, out_qsize 0\n",
      "2023-05-15 16:08:41,899 : INFO : EPOCH 21 - PROGRESS: at 57.97% examples, 1897293 words/s, in_qsize 32, out_qsize 0\n",
      "2023-05-15 16:08:42,902 : INFO : EPOCH 21 - PROGRESS: at 65.34% examples, 1866288 words/s, in_qsize 31, out_qsize 0\n",
      "2023-05-15 16:08:43,904 : INFO : EPOCH 21 - PROGRESS: at 69.72% examples, 1865030 words/s, in_qsize 31, out_qsize 0\n",
      "2023-05-15 16:08:44,908 : INFO : EPOCH 21 - PROGRESS: at 73.57% examples, 1867750 words/s, in_qsize 31, out_qsize 0\n",
      "2023-05-15 16:08:45,912 : INFO : EPOCH 21 - PROGRESS: at 76.39% examples, 1872313 words/s, in_qsize 31, out_qsize 0\n",
      "2023-05-15 16:08:46,912 : INFO : EPOCH 21 - PROGRESS: at 80.44% examples, 1868829 words/s, in_qsize 31, out_qsize 0\n",
      "2023-05-15 16:08:47,915 : INFO : EPOCH 21 - PROGRESS: at 83.70% examples, 1871788 words/s, in_qsize 31, out_qsize 0\n",
      "2023-05-15 16:08:48,916 : INFO : EPOCH 21 - PROGRESS: at 86.93% examples, 1877622 words/s, in_qsize 32, out_qsize 0\n",
      "2023-05-15 16:08:49,925 : INFO : EPOCH 21 - PROGRESS: at 89.75% examples, 1884952 words/s, in_qsize 30, out_qsize 1\n",
      "2023-05-15 16:08:50,925 : INFO : EPOCH 21 - PROGRESS: at 92.15% examples, 1894494 words/s, in_qsize 31, out_qsize 0\n",
      "2023-05-15 16:08:51,926 : INFO : EPOCH 21 - PROGRESS: at 95.69% examples, 1895781 words/s, in_qsize 31, out_qsize 0\n",
      "2023-05-15 16:08:52,845 : INFO : EPOCH 21: training on 70790138 raw words (53079606 effective words) took 28.0s, 1893261 effective words/s\n",
      "2023-05-15 16:08:53,852 : INFO : EPOCH 22 - PROGRESS: at 5.28% examples, 1610306 words/s, in_qsize 31, out_qsize 0\n",
      "2023-05-15 16:08:54,853 : INFO : EPOCH 22 - PROGRESS: at 8.64% examples, 1804468 words/s, in_qsize 31, out_qsize 0\n",
      "2023-05-15 16:08:55,853 : INFO : EPOCH 22 - PROGRESS: at 11.82% examples, 1860119 words/s, in_qsize 31, out_qsize 0\n",
      "2023-05-15 16:08:56,855 : INFO : EPOCH 22 - PROGRESS: at 16.32% examples, 1840481 words/s, in_qsize 31, out_qsize 0\n",
      "2023-05-15 16:08:57,856 : INFO : EPOCH 22 - PROGRESS: at 19.89% examples, 1856654 words/s, in_qsize 31, out_qsize 0\n",
      "2023-05-15 16:08:58,859 : INFO : EPOCH 22 - PROGRESS: at 22.92% examples, 1854150 words/s, in_qsize 31, out_qsize 0\n",
      "2023-05-15 16:08:59,862 : INFO : EPOCH 22 - PROGRESS: at 26.82% examples, 1860297 words/s, in_qsize 31, out_qsize 0\n",
      "2023-05-15 16:09:00,864 : INFO : EPOCH 22 - PROGRESS: at 30.89% examples, 1847769 words/s, in_qsize 31, out_qsize 0\n",
      "2023-05-15 16:09:01,868 : INFO : EPOCH 22 - PROGRESS: at 33.85% examples, 1852651 words/s, in_qsize 31, out_qsize 0\n",
      "2023-05-15 16:09:02,877 : INFO : EPOCH 22 - PROGRESS: at 38.20% examples, 1844226 words/s, in_qsize 31, out_qsize 0\n",
      "2023-05-15 16:09:03,878 : INFO : EPOCH 22 - PROGRESS: at 41.25% examples, 1856804 words/s, in_qsize 31, out_qsize 0\n",
      "2023-05-15 16:09:04,878 : INFO : EPOCH 22 - PROGRESS: at 43.17% examples, 1878955 words/s, in_qsize 31, out_qsize 0\n",
      "2023-05-15 16:09:05,880 : INFO : EPOCH 22 - PROGRESS: at 44.51% examples, 1901676 words/s, in_qsize 30, out_qsize 1\n",
      "2023-05-15 16:09:06,885 : INFO : EPOCH 22 - PROGRESS: at 45.85% examples, 1922784 words/s, in_qsize 29, out_qsize 2\n",
      "2023-05-15 16:09:07,886 : INFO : EPOCH 22 - PROGRESS: at 49.88% examples, 1911930 words/s, in_qsize 31, out_qsize 0\n",
      "2023-05-15 16:09:08,887 : INFO : EPOCH 22 - PROGRESS: at 53.49% examples, 1916336 words/s, in_qsize 31, out_qsize 0\n",
      "2023-05-15 16:09:09,894 : INFO : EPOCH 22 - PROGRESS: at 58.14% examples, 1904587 words/s, in_qsize 31, out_qsize 0\n",
      "2023-05-15 16:09:10,895 : INFO : EPOCH 22 - PROGRESS: at 65.52% examples, 1873438 words/s, in_qsize 31, out_qsize 0\n",
      "2023-05-15 16:09:11,895 : INFO : EPOCH 22 - PROGRESS: at 69.83% examples, 1872579 words/s, in_qsize 31, out_qsize 0\n",
      "2023-05-15 16:09:12,898 : INFO : EPOCH 22 - PROGRESS: at 73.59% examples, 1873077 words/s, in_qsize 31, out_qsize 0\n",
      "2023-05-15 16:09:13,901 : INFO : EPOCH 22 - PROGRESS: at 76.41% examples, 1877849 words/s, in_qsize 32, out_qsize 0\n",
      "2023-05-15 16:09:14,907 : INFO : EPOCH 22 - PROGRESS: at 80.53% examples, 1874570 words/s, in_qsize 31, out_qsize 0\n",
      "2023-05-15 16:09:15,907 : INFO : EPOCH 22 - PROGRESS: at 83.68% examples, 1875221 words/s, in_qsize 31, out_qsize 0\n",
      "2023-05-15 16:09:16,909 : INFO : EPOCH 22 - PROGRESS: at 86.91% examples, 1880763 words/s, in_qsize 31, out_qsize 0\n",
      "2023-05-15 16:09:17,911 : INFO : EPOCH 22 - PROGRESS: at 89.72% examples, 1888133 words/s, in_qsize 30, out_qsize 1\n",
      "2023-05-15 16:09:18,917 : INFO : EPOCH 22 - PROGRESS: at 92.11% examples, 1896640 words/s, in_qsize 31, out_qsize 0\n",
      "2023-05-15 16:09:19,922 : INFO : EPOCH 22 - PROGRESS: at 95.61% examples, 1897435 words/s, in_qsize 31, out_qsize 0\n",
      "2023-05-15 16:09:20,850 : INFO : EPOCH 22: training on 70790138 raw words (53074889 effective words) took 28.0s, 1895627 effective words/s\n",
      "2023-05-15 16:09:21,860 : INFO : EPOCH 23 - PROGRESS: at 5.27% examples, 1598403 words/s, in_qsize 31, out_qsize 0\n",
      "2023-05-15 16:09:22,864 : INFO : EPOCH 23 - PROGRESS: at 8.56% examples, 1776256 words/s, in_qsize 31, out_qsize 0\n",
      "2023-05-15 16:09:23,866 : INFO : EPOCH 23 - PROGRESS: at 11.72% examples, 1844235 words/s, in_qsize 31, out_qsize 0\n",
      "2023-05-15 16:09:24,868 : INFO : EPOCH 23 - PROGRESS: at 16.27% examples, 1832443 words/s, in_qsize 30, out_qsize 1\n",
      "2023-05-15 16:09:25,870 : INFO : EPOCH 23 - PROGRESS: at 19.84% examples, 1847496 words/s, in_qsize 31, out_qsize 0\n",
      "2023-05-15 16:09:26,875 : INFO : EPOCH 23 - PROGRESS: at 22.92% examples, 1851011 words/s, in_qsize 31, out_qsize 0\n",
      "2023-05-15 16:09:27,876 : INFO : EPOCH 23 - PROGRESS: at 26.79% examples, 1856104 words/s, in_qsize 31, out_qsize 0\n",
      "2023-05-15 16:09:28,878 : INFO : EPOCH 23 - PROGRESS: at 30.93% examples, 1849295 words/s, in_qsize 31, out_qsize 0\n",
      "2023-05-15 16:09:29,879 : INFO : EPOCH 23 - PROGRESS: at 33.86% examples, 1852162 words/s, in_qsize 31, out_qsize 0\n",
      "2023-05-15 16:09:30,885 : INFO : EPOCH 23 - PROGRESS: at 38.20% examples, 1843789 words/s, in_qsize 31, out_qsize 0\n",
      "2023-05-15 16:09:31,889 : INFO : EPOCH 23 - PROGRESS: at 41.24% examples, 1855884 words/s, in_qsize 31, out_qsize 0\n",
      "2023-05-15 16:09:32,897 : INFO : EPOCH 23 - PROGRESS: at 43.16% examples, 1876378 words/s, in_qsize 31, out_qsize 0\n",
      "2023-05-15 16:09:33,898 : INFO : EPOCH 23 - PROGRESS: at 44.51% examples, 1899781 words/s, in_qsize 31, out_qsize 0\n",
      "2023-05-15 16:09:34,898 : INFO : EPOCH 23 - PROGRESS: at 45.84% examples, 1920483 words/s, in_qsize 30, out_qsize 1\n",
      "2023-05-15 16:09:35,904 : INFO : EPOCH 23 - PROGRESS: at 49.84% examples, 1909582 words/s, in_qsize 32, out_qsize 0\n",
      "2023-05-15 16:09:36,905 : INFO : EPOCH 23 - PROGRESS: at 53.49% examples, 1915058 words/s, in_qsize 32, out_qsize 0\n",
      "2023-05-15 16:09:37,911 : INFO : EPOCH 23 - PROGRESS: at 58.17% examples, 1903990 words/s, in_qsize 31, out_qsize 0\n",
      "2023-05-15 16:09:38,914 : INFO : EPOCH 23 - PROGRESS: at 65.64% examples, 1873810 words/s, in_qsize 31, out_qsize 0\n",
      "2023-05-15 16:09:39,917 : INFO : EPOCH 23 - PROGRESS: at 69.84% examples, 1871579 words/s, in_qsize 32, out_qsize 0\n",
      "2023-05-15 16:09:40,918 : INFO : EPOCH 23 - PROGRESS: at 73.63% examples, 1873392 words/s, in_qsize 31, out_qsize 0\n",
      "2023-05-15 16:09:41,918 : INFO : EPOCH 23 - PROGRESS: at 76.42% examples, 1877327 words/s, in_qsize 30, out_qsize 1\n",
      "2023-05-15 16:09:42,919 : INFO : EPOCH 23 - PROGRESS: at 80.48% examples, 1873276 words/s, in_qsize 31, out_qsize 0\n",
      "2023-05-15 16:09:43,919 : INFO : EPOCH 23 - PROGRESS: at 83.73% examples, 1876204 words/s, in_qsize 31, out_qsize 0\n",
      "2023-05-15 16:09:44,923 : INFO : EPOCH 23 - PROGRESS: at 86.94% examples, 1881255 words/s, in_qsize 31, out_qsize 0\n",
      "2023-05-15 16:09:45,924 : INFO : EPOCH 23 - PROGRESS: at 89.75% examples, 1888942 words/s, in_qsize 30, out_qsize 1\n",
      "2023-05-15 16:09:46,925 : INFO : EPOCH 23 - PROGRESS: at 92.19% examples, 1899499 words/s, in_qsize 31, out_qsize 0\n",
      "2023-05-15 16:09:47,926 : INFO : EPOCH 23 - PROGRESS: at 95.73% examples, 1900076 words/s, in_qsize 32, out_qsize 0\n",
      "2023-05-15 16:09:48,830 : INFO : EPOCH 23: training on 70790138 raw words (53084198 effective words) took 28.0s, 1897619 effective words/s\n",
      "2023-05-15 16:09:49,847 : INFO : EPOCH 24 - PROGRESS: at 5.30% examples, 1609670 words/s, in_qsize 31, out_qsize 0\n",
      "2023-05-15 16:09:50,851 : INFO : EPOCH 24 - PROGRESS: at 8.65% examples, 1796786 words/s, in_qsize 31, out_qsize 0\n",
      "2023-05-15 16:09:51,857 : INFO : EPOCH 24 - PROGRESS: at 11.84% examples, 1851808 words/s, in_qsize 31, out_qsize 0\n",
      "2023-05-15 16:09:52,858 : INFO : EPOCH 24 - PROGRESS: at 16.34% examples, 1836132 words/s, in_qsize 31, out_qsize 0\n",
      "2023-05-15 16:09:53,864 : INFO : EPOCH 24 - PROGRESS: at 19.93% examples, 1852455 words/s, in_qsize 31, out_qsize 0\n",
      "2023-05-15 16:09:54,867 : INFO : EPOCH 24 - PROGRESS: at 23.05% examples, 1860997 words/s, in_qsize 31, out_qsize 0\n",
      "2023-05-15 16:09:55,869 : INFO : EPOCH 24 - PROGRESS: at 26.87% examples, 1857712 words/s, in_qsize 31, out_qsize 0\n",
      "2023-05-15 16:09:56,871 : INFO : EPOCH 24 - PROGRESS: at 31.00% examples, 1851985 words/s, in_qsize 31, out_qsize 0\n",
      "2023-05-15 16:09:57,872 : INFO : EPOCH 24 - PROGRESS: at 33.97% examples, 1858678 words/s, in_qsize 30, out_qsize 1\n",
      "2023-05-15 16:09:58,874 : INFO : EPOCH 24 - PROGRESS: at 38.35% examples, 1848463 words/s, in_qsize 31, out_qsize 0\n",
      "2023-05-15 16:09:59,886 : INFO : EPOCH 24 - PROGRESS: at 41.33% examples, 1858576 words/s, in_qsize 31, out_qsize 0\n",
      "2023-05-15 16:10:00,886 : INFO : EPOCH 24 - PROGRESS: at 43.22% examples, 1882802 words/s, in_qsize 31, out_qsize 0\n",
      "2023-05-15 16:10:01,891 : INFO : EPOCH 24 - PROGRESS: at 44.57% examples, 1904489 words/s, in_qsize 30, out_qsize 1\n",
      "2023-05-15 16:10:02,893 : INFO : EPOCH 24 - PROGRESS: at 45.89% examples, 1924930 words/s, in_qsize 31, out_qsize 0\n",
      "2023-05-15 16:10:03,899 : INFO : EPOCH 24 - PROGRESS: at 50.10% examples, 1914086 words/s, in_qsize 31, out_qsize 0\n",
      "2023-05-15 16:10:04,900 : INFO : EPOCH 24 - PROGRESS: at 53.57% examples, 1916362 words/s, in_qsize 31, out_qsize 0\n",
      "2023-05-15 16:10:05,900 : INFO : EPOCH 24 - PROGRESS: at 58.27% examples, 1904107 words/s, in_qsize 31, out_qsize 0\n",
      "2023-05-15 16:10:06,918 : INFO : EPOCH 24 - PROGRESS: at 65.76% examples, 1874031 words/s, in_qsize 31, out_qsize 0\n",
      "2023-05-15 16:10:07,918 : INFO : EPOCH 24 - PROGRESS: at 70.01% examples, 1873539 words/s, in_qsize 31, out_qsize 0\n",
      "2023-05-15 16:10:08,922 : INFO : EPOCH 24 - PROGRESS: at 73.74% examples, 1874688 words/s, in_qsize 31, out_qsize 0\n",
      "2023-05-15 16:10:09,928 : INFO : EPOCH 24 - PROGRESS: at 76.52% examples, 1878037 words/s, in_qsize 30, out_qsize 1\n",
      "2023-05-15 16:10:10,931 : INFO : EPOCH 24 - PROGRESS: at 80.74% examples, 1876110 words/s, in_qsize 32, out_qsize 0\n",
      "2023-05-15 16:10:11,933 : INFO : EPOCH 24 - PROGRESS: at 83.95% examples, 1879075 words/s, in_qsize 31, out_qsize 0\n",
      "2023-05-15 16:10:12,934 : INFO : EPOCH 24 - PROGRESS: at 87.13% examples, 1883532 words/s, in_qsize 31, out_qsize 0\n",
      "2023-05-15 16:10:13,935 : INFO : EPOCH 24 - PROGRESS: at 89.89% examples, 1891686 words/s, in_qsize 31, out_qsize 0\n",
      "2023-05-15 16:10:14,935 : INFO : EPOCH 24 - PROGRESS: at 92.29% examples, 1900132 words/s, in_qsize 31, out_qsize 0\n",
      "2023-05-15 16:10:15,938 : INFO : EPOCH 24 - PROGRESS: at 95.91% examples, 1901667 words/s, in_qsize 31, out_qsize 0\n",
      "2023-05-15 16:10:16,794 : INFO : EPOCH 24: training on 70790138 raw words (53075751 effective words) took 28.0s, 1898498 effective words/s\n",
      "2023-05-15 16:10:16,794 : INFO : Doc2Vec lifecycle event {'msg': 'training on 1769753450 raw words (1326928236 effective words) took 701.3s, 1891963 effective words/s', 'datetime': '2023-05-15T16:10:16.794468', 'gensim': '4.3.1', 'python': '3.11.3 | packaged by Anaconda, Inc. | (main, Apr 19 2023, 23:46:34) [MSC v.1916 64 bit (AMD64)]', 'platform': 'Windows-10-10.0.19044-SP0', 'event': 'train'}\n"
     ]
    }
   ],
   "source": [
    "model.train(train_corpus, total_examples=model.corpus_count, epochs=model.epochs)"
   ]
  },
  {
   "cell_type": "code",
   "execution_count": 86,
   "id": "eb921ed8-9f75-4690-8e12-25385e7988f6",
   "metadata": {
    "tags": []
   },
   "outputs": [
    {
     "name": "stderr",
     "output_type": "stream",
     "text": [
      "2023-05-15 16:15:01,377 : INFO : Doc2Vec lifecycle event {'fname_or_handle': 'sampled_articles.model', 'separately': 'None', 'sep_limit': 10485760, 'ignore': frozenset(), 'datetime': '2023-05-15T16:15:01.377173', 'gensim': '4.3.1', 'python': '3.11.3 | packaged by Anaconda, Inc. | (main, Apr 19 2023, 23:46:34) [MSC v.1916 64 bit (AMD64)]', 'platform': 'Windows-10-10.0.19044-SP0', 'event': 'saving'}\n",
      "2023-05-15 16:15:01,378 : INFO : not storing attribute cum_table\n",
      "2023-05-15 16:15:01,577 : INFO : saved sampled_articles.model\n"
     ]
    }
   ],
   "source": [
    "model.save('sampled_articles.model')"
   ]
  },
  {
   "cell_type": "code",
   "execution_count": 98,
   "id": "d39becf1-0745-4b7e-b411-b88232618bcd",
   "metadata": {
    "tags": []
   },
   "outputs": [
    {
     "name": "stderr",
     "output_type": "stream",
     "text": [
      "2023-05-15 16:18:19,595 : INFO : storing 86658x50 projection weights into doc_tensor.w2v\n"
     ]
    }
   ],
   "source": [
    "model.save_word2vec_format('doc_tensor.w2v', doctag_vec=True, word_vec=False)"
   ]
  },
  {
   "cell_type": "code",
   "execution_count": 81,
   "id": "6ceabbb2-bb2f-434d-b4cf-3a81d698e4c4",
   "metadata": {
    "collapsed": true,
    "jupyter": {
     "outputs_hidden": true
    },
    "tags": []
   },
   "outputs": [
    {
     "name": "stderr",
     "output_type": "stream",
     "text": [
      "2023-05-09 22:38:26,445 : INFO : running ./env/Lib/site-packages/gensim/scripts/word2vec2tensor.py -i doc_tensor.w2v -o sample_articles\n",
      "2023-05-09 22:38:26,446 : INFO : loading projection weights from doc_tensor.w2v\n"
     ]
    },
    {
     "ename": "ValueError",
     "evalue": "could not convert string to float: ''",
     "output_type": "error",
     "traceback": [
      "\u001b[1;31m---------------------------------------------------------------------------\u001b[0m",
      "\u001b[1;31mValueError\u001b[0m                                Traceback (most recent call last)",
      "File \u001b[1;32m~\\Documents\\DATA_340_NLP_HW\\final_project\\env\\Lib\\site-packages\\gensim\\scripts\\word2vec2tensor.py:94\u001b[0m\n\u001b[0;32m     91\u001b[0m args \u001b[38;5;241m=\u001b[39m parser\u001b[38;5;241m.\u001b[39mparse_args()\n\u001b[0;32m     93\u001b[0m logger\u001b[38;5;241m.\u001b[39minfo(\u001b[38;5;124m\"\u001b[39m\u001b[38;5;124mrunning \u001b[39m\u001b[38;5;132;01m%s\u001b[39;00m\u001b[38;5;124m\"\u001b[39m, \u001b[38;5;124m'\u001b[39m\u001b[38;5;124m \u001b[39m\u001b[38;5;124m'\u001b[39m\u001b[38;5;241m.\u001b[39mjoin(sys\u001b[38;5;241m.\u001b[39margv))\n\u001b[1;32m---> 94\u001b[0m \u001b[43mword2vec2tensor\u001b[49m\u001b[43m(\u001b[49m\u001b[43margs\u001b[49m\u001b[38;5;241;43m.\u001b[39;49m\u001b[43minput\u001b[49m\u001b[43m,\u001b[49m\u001b[43m \u001b[49m\u001b[43margs\u001b[49m\u001b[38;5;241;43m.\u001b[39;49m\u001b[43moutput\u001b[49m\u001b[43m,\u001b[49m\u001b[43m \u001b[49m\u001b[43margs\u001b[49m\u001b[38;5;241;43m.\u001b[39;49m\u001b[43mbinary\u001b[49m\u001b[43m)\u001b[49m\n\u001b[0;32m     95\u001b[0m logger\u001b[38;5;241m.\u001b[39minfo(\u001b[38;5;124m\"\u001b[39m\u001b[38;5;124mfinished running \u001b[39m\u001b[38;5;132;01m%s\u001b[39;00m\u001b[38;5;124m\"\u001b[39m, os\u001b[38;5;241m.\u001b[39mpath\u001b[38;5;241m.\u001b[39mbasename(sys\u001b[38;5;241m.\u001b[39margv[\u001b[38;5;241m0\u001b[39m]))\n",
      "File \u001b[1;32m~\\Documents\\DATA_340_NLP_HW\\final_project\\env\\Lib\\site-packages\\gensim\\scripts\\word2vec2tensor.py:68\u001b[0m, in \u001b[0;36mword2vec2tensor\u001b[1;34m(word2vec_model_path, tensor_filename, binary)\u001b[0m\n\u001b[0;32m     53\u001b[0m \u001b[38;5;28;01mdef\u001b[39;00m \u001b[38;5;21mword2vec2tensor\u001b[39m(word2vec_model_path, tensor_filename, binary\u001b[38;5;241m=\u001b[39m\u001b[38;5;28;01mFalse\u001b[39;00m):\n\u001b[0;32m     54\u001b[0m \u001b[38;5;250m    \u001b[39m\u001b[38;5;124;03m\"\"\"Convert file in Word2Vec format and writes two files 2D tensor TSV file.\u001b[39;00m\n\u001b[0;32m     55\u001b[0m \n\u001b[0;32m     56\u001b[0m \u001b[38;5;124;03m    File \"tensor_filename\"_tensor.tsv contains word-vectors, \"tensor_filename\"_metadata.tsv contains words.\u001b[39;00m\n\u001b[1;32m   (...)\u001b[0m\n\u001b[0;32m     66\u001b[0m \n\u001b[0;32m     67\u001b[0m \u001b[38;5;124;03m    \"\"\"\u001b[39;00m\n\u001b[1;32m---> 68\u001b[0m     model \u001b[38;5;241m=\u001b[39m \u001b[43mgensim\u001b[49m\u001b[38;5;241;43m.\u001b[39;49m\u001b[43mmodels\u001b[49m\u001b[38;5;241;43m.\u001b[39;49m\u001b[43mKeyedVectors\u001b[49m\u001b[38;5;241;43m.\u001b[39;49m\u001b[43mload_word2vec_format\u001b[49m\u001b[43m(\u001b[49m\u001b[43mword2vec_model_path\u001b[49m\u001b[43m,\u001b[49m\u001b[43m \u001b[49m\u001b[43mbinary\u001b[49m\u001b[38;5;241;43m=\u001b[39;49m\u001b[43mbinary\u001b[49m\u001b[43m)\u001b[49m\n\u001b[0;32m     69\u001b[0m     outfiletsv \u001b[38;5;241m=\u001b[39m tensor_filename \u001b[38;5;241m+\u001b[39m \u001b[38;5;124m'\u001b[39m\u001b[38;5;124m_tensor.tsv\u001b[39m\u001b[38;5;124m'\u001b[39m\n\u001b[0;32m     70\u001b[0m     outfiletsvmeta \u001b[38;5;241m=\u001b[39m tensor_filename \u001b[38;5;241m+\u001b[39m \u001b[38;5;124m'\u001b[39m\u001b[38;5;124m_metadata.tsv\u001b[39m\u001b[38;5;124m'\u001b[39m\n",
      "File \u001b[1;32m~\\Documents\\DATA_340_NLP_HW\\final_project\\env\\lib\\site-packages\\gensim\\models\\keyedvectors.py:1719\u001b[0m, in \u001b[0;36mKeyedVectors.load_word2vec_format\u001b[1;34m(cls, fname, fvocab, binary, encoding, unicode_errors, limit, datatype, no_header)\u001b[0m\n\u001b[0;32m   1672\u001b[0m \u001b[38;5;129m@classmethod\u001b[39m\n\u001b[0;32m   1673\u001b[0m \u001b[38;5;28;01mdef\u001b[39;00m \u001b[38;5;21mload_word2vec_format\u001b[39m(\n\u001b[0;32m   1674\u001b[0m         \u001b[38;5;28mcls\u001b[39m, fname, fvocab\u001b[38;5;241m=\u001b[39m\u001b[38;5;28;01mNone\u001b[39;00m, binary\u001b[38;5;241m=\u001b[39m\u001b[38;5;28;01mFalse\u001b[39;00m, encoding\u001b[38;5;241m=\u001b[39m\u001b[38;5;124m'\u001b[39m\u001b[38;5;124mutf8\u001b[39m\u001b[38;5;124m'\u001b[39m, unicode_errors\u001b[38;5;241m=\u001b[39m\u001b[38;5;124m'\u001b[39m\u001b[38;5;124mstrict\u001b[39m\u001b[38;5;124m'\u001b[39m,\n\u001b[0;32m   1675\u001b[0m         limit\u001b[38;5;241m=\u001b[39m\u001b[38;5;28;01mNone\u001b[39;00m, datatype\u001b[38;5;241m=\u001b[39mREAL, no_header\u001b[38;5;241m=\u001b[39m\u001b[38;5;28;01mFalse\u001b[39;00m,\n\u001b[0;32m   1676\u001b[0m     ):\n\u001b[0;32m   1677\u001b[0m \u001b[38;5;250m    \u001b[39m\u001b[38;5;124;03m\"\"\"Load KeyedVectors from a file produced by the original C word2vec-tool format.\u001b[39;00m\n\u001b[0;32m   1678\u001b[0m \n\u001b[0;32m   1679\u001b[0m \u001b[38;5;124;03m    Warnings\u001b[39;00m\n\u001b[1;32m   (...)\u001b[0m\n\u001b[0;32m   1717\u001b[0m \n\u001b[0;32m   1718\u001b[0m \u001b[38;5;124;03m    \"\"\"\u001b[39;00m\n\u001b[1;32m-> 1719\u001b[0m     \u001b[38;5;28;01mreturn\u001b[39;00m \u001b[43m_load_word2vec_format\u001b[49m\u001b[43m(\u001b[49m\n\u001b[0;32m   1720\u001b[0m \u001b[43m        \u001b[49m\u001b[38;5;28;43mcls\u001b[39;49m\u001b[43m,\u001b[49m\u001b[43m \u001b[49m\u001b[43mfname\u001b[49m\u001b[43m,\u001b[49m\u001b[43m \u001b[49m\u001b[43mfvocab\u001b[49m\u001b[38;5;241;43m=\u001b[39;49m\u001b[43mfvocab\u001b[49m\u001b[43m,\u001b[49m\u001b[43m \u001b[49m\u001b[43mbinary\u001b[49m\u001b[38;5;241;43m=\u001b[39;49m\u001b[43mbinary\u001b[49m\u001b[43m,\u001b[49m\u001b[43m \u001b[49m\u001b[43mencoding\u001b[49m\u001b[38;5;241;43m=\u001b[39;49m\u001b[43mencoding\u001b[49m\u001b[43m,\u001b[49m\u001b[43m \u001b[49m\u001b[43municode_errors\u001b[49m\u001b[38;5;241;43m=\u001b[39;49m\u001b[43municode_errors\u001b[49m\u001b[43m,\u001b[49m\n\u001b[0;32m   1721\u001b[0m \u001b[43m        \u001b[49m\u001b[43mlimit\u001b[49m\u001b[38;5;241;43m=\u001b[39;49m\u001b[43mlimit\u001b[49m\u001b[43m,\u001b[49m\u001b[43m \u001b[49m\u001b[43mdatatype\u001b[49m\u001b[38;5;241;43m=\u001b[39;49m\u001b[43mdatatype\u001b[49m\u001b[43m,\u001b[49m\u001b[43m \u001b[49m\u001b[43mno_header\u001b[49m\u001b[38;5;241;43m=\u001b[39;49m\u001b[43mno_header\u001b[49m\u001b[43m,\u001b[49m\n\u001b[0;32m   1722\u001b[0m \u001b[43m    \u001b[49m\u001b[43m)\u001b[49m\n",
      "File \u001b[1;32m~\\Documents\\DATA_340_NLP_HW\\final_project\\env\\lib\\site-packages\\gensim\\models\\keyedvectors.py:2069\u001b[0m, in \u001b[0;36m_load_word2vec_format\u001b[1;34m(cls, fname, fvocab, binary, encoding, unicode_errors, limit, datatype, no_header, binary_chunk_size)\u001b[0m\n\u001b[0;32m   2065\u001b[0m         _word2vec_read_binary(\n\u001b[0;32m   2066\u001b[0m             fin, kv, counts, vocab_size, vector_size, datatype, unicode_errors, binary_chunk_size, encoding\n\u001b[0;32m   2067\u001b[0m         )\n\u001b[0;32m   2068\u001b[0m     \u001b[38;5;28;01melse\u001b[39;00m:\n\u001b[1;32m-> 2069\u001b[0m         \u001b[43m_word2vec_read_text\u001b[49m\u001b[43m(\u001b[49m\u001b[43mfin\u001b[49m\u001b[43m,\u001b[49m\u001b[43m \u001b[49m\u001b[43mkv\u001b[49m\u001b[43m,\u001b[49m\u001b[43m \u001b[49m\u001b[43mcounts\u001b[49m\u001b[43m,\u001b[49m\u001b[43m \u001b[49m\u001b[43mvocab_size\u001b[49m\u001b[43m,\u001b[49m\u001b[43m \u001b[49m\u001b[43mvector_size\u001b[49m\u001b[43m,\u001b[49m\u001b[43m \u001b[49m\u001b[43mdatatype\u001b[49m\u001b[43m,\u001b[49m\u001b[43m \u001b[49m\u001b[43municode_errors\u001b[49m\u001b[43m,\u001b[49m\u001b[43m \u001b[49m\u001b[43mencoding\u001b[49m\u001b[43m)\u001b[49m\n\u001b[0;32m   2070\u001b[0m \u001b[38;5;28;01mif\u001b[39;00m kv\u001b[38;5;241m.\u001b[39mvectors\u001b[38;5;241m.\u001b[39mshape[\u001b[38;5;241m0\u001b[39m] \u001b[38;5;241m!=\u001b[39m \u001b[38;5;28mlen\u001b[39m(kv):\n\u001b[0;32m   2071\u001b[0m     logger\u001b[38;5;241m.\u001b[39minfo(\n\u001b[0;32m   2072\u001b[0m         \u001b[38;5;124m\"\u001b[39m\u001b[38;5;124mduplicate words detected, shrinking matrix size from \u001b[39m\u001b[38;5;132;01m%i\u001b[39;00m\u001b[38;5;124m to \u001b[39m\u001b[38;5;132;01m%i\u001b[39;00m\u001b[38;5;124m\"\u001b[39m,\n\u001b[0;32m   2073\u001b[0m         kv\u001b[38;5;241m.\u001b[39mvectors\u001b[38;5;241m.\u001b[39mshape[\u001b[38;5;241m0\u001b[39m], \u001b[38;5;28mlen\u001b[39m(kv),\n\u001b[0;32m   2074\u001b[0m     )\n",
      "File \u001b[1;32m~\\Documents\\DATA_340_NLP_HW\\final_project\\env\\lib\\site-packages\\gensim\\models\\keyedvectors.py:1974\u001b[0m, in \u001b[0;36m_word2vec_read_text\u001b[1;34m(fin, kv, counts, vocab_size, vector_size, datatype, unicode_errors, encoding)\u001b[0m\n\u001b[0;32m   1972\u001b[0m \u001b[38;5;28;01mif\u001b[39;00m line \u001b[38;5;241m==\u001b[39m \u001b[38;5;124mb\u001b[39m\u001b[38;5;124m'\u001b[39m\u001b[38;5;124m'\u001b[39m:\n\u001b[0;32m   1973\u001b[0m     \u001b[38;5;28;01mraise\u001b[39;00m \u001b[38;5;167;01mEOFError\u001b[39;00m(\u001b[38;5;124m\"\u001b[39m\u001b[38;5;124munexpected end of input; is count incorrect or file otherwise damaged?\u001b[39m\u001b[38;5;124m\"\u001b[39m)\n\u001b[1;32m-> 1974\u001b[0m word, weights \u001b[38;5;241m=\u001b[39m \u001b[43m_word2vec_line_to_vector\u001b[49m\u001b[43m(\u001b[49m\u001b[43mline\u001b[49m\u001b[43m,\u001b[49m\u001b[43m \u001b[49m\u001b[43mdatatype\u001b[49m\u001b[43m,\u001b[49m\u001b[43m \u001b[49m\u001b[43municode_errors\u001b[49m\u001b[43m,\u001b[49m\u001b[43m \u001b[49m\u001b[43mencoding\u001b[49m\u001b[43m)\u001b[49m\n\u001b[0;32m   1975\u001b[0m _add_word_to_kv(kv, counts, word, weights, vocab_size)\n",
      "File \u001b[1;32m~\\Documents\\DATA_340_NLP_HW\\final_project\\env\\lib\\site-packages\\gensim\\models\\keyedvectors.py:1980\u001b[0m, in \u001b[0;36m_word2vec_line_to_vector\u001b[1;34m(line, datatype, unicode_errors, encoding)\u001b[0m\n\u001b[0;32m   1978\u001b[0m \u001b[38;5;28;01mdef\u001b[39;00m \u001b[38;5;21m_word2vec_line_to_vector\u001b[39m(line, datatype, unicode_errors, encoding):\n\u001b[0;32m   1979\u001b[0m     parts \u001b[38;5;241m=\u001b[39m utils\u001b[38;5;241m.\u001b[39mto_unicode(line\u001b[38;5;241m.\u001b[39mrstrip(), encoding\u001b[38;5;241m=\u001b[39mencoding, errors\u001b[38;5;241m=\u001b[39municode_errors)\u001b[38;5;241m.\u001b[39msplit(\u001b[38;5;124m\"\u001b[39m\u001b[38;5;124m \u001b[39m\u001b[38;5;124m\"\u001b[39m)\n\u001b[1;32m-> 1980\u001b[0m     word, weights \u001b[38;5;241m=\u001b[39m parts[\u001b[38;5;241m0\u001b[39m], [datatype(x) \u001b[38;5;28;01mfor\u001b[39;00m x \u001b[38;5;129;01min\u001b[39;00m parts[\u001b[38;5;241m1\u001b[39m:]]\n\u001b[0;32m   1981\u001b[0m     \u001b[38;5;28;01mreturn\u001b[39;00m word, weights\n",
      "File \u001b[1;32m~\\Documents\\DATA_340_NLP_HW\\final_project\\env\\lib\\site-packages\\gensim\\models\\keyedvectors.py:1980\u001b[0m, in \u001b[0;36m<listcomp>\u001b[1;34m(.0)\u001b[0m\n\u001b[0;32m   1978\u001b[0m \u001b[38;5;28;01mdef\u001b[39;00m \u001b[38;5;21m_word2vec_line_to_vector\u001b[39m(line, datatype, unicode_errors, encoding):\n\u001b[0;32m   1979\u001b[0m     parts \u001b[38;5;241m=\u001b[39m utils\u001b[38;5;241m.\u001b[39mto_unicode(line\u001b[38;5;241m.\u001b[39mrstrip(), encoding\u001b[38;5;241m=\u001b[39mencoding, errors\u001b[38;5;241m=\u001b[39municode_errors)\u001b[38;5;241m.\u001b[39msplit(\u001b[38;5;124m\"\u001b[39m\u001b[38;5;124m \u001b[39m\u001b[38;5;124m\"\u001b[39m)\n\u001b[1;32m-> 1980\u001b[0m     word, weights \u001b[38;5;241m=\u001b[39m parts[\u001b[38;5;241m0\u001b[39m], [\u001b[43mdatatype\u001b[49m\u001b[43m(\u001b[49m\u001b[43mx\u001b[49m\u001b[43m)\u001b[49m \u001b[38;5;28;01mfor\u001b[39;00m x \u001b[38;5;129;01min\u001b[39;00m parts[\u001b[38;5;241m1\u001b[39m:]]\n\u001b[0;32m   1981\u001b[0m     \u001b[38;5;28;01mreturn\u001b[39;00m word, weights\n",
      "\u001b[1;31mValueError\u001b[0m: could not convert string to float: ''"
     ]
    }
   ],
   "source": [
    "%run ./env/Lib/site-packages/gensim/scripts/word2vec2tensor.py -i doc_tensor.w2v -o sample_articles"
   ]
  },
  {
   "cell_type": "markdown",
   "id": "24b984aa-6203-4f5e-91f6-a990c8fda3e9",
   "metadata": {},
   "source": [
    "## Now we need to get a sample from each publication\n",
    "Then find the most related articles to that sample, and pull those out\n",
    "\n",
    "Then, see if the publications are the same, or authors are the same\n",
    "\n",
    "Then, compare NER to see if we can find a similar topic - this delves into topic modeling, which is another NLP technique that I need to do more research on"
   ]
  },
  {
   "cell_type": "code",
   "execution_count": 100,
   "id": "b4e10ddb-b626-4126-ad48-85a8c36aa749",
   "metadata": {},
   "outputs": [
    {
     "name": "stderr",
     "output_type": "stream",
     "text": [
      "100%|█████████████████████████████████████████████████████████████████████████████████| 26/26 [00:00<00:00, 331.35it/s]\n"
     ]
    }
   ],
   "source": [
    "# Grab a sample from each publication\n",
    "sample = df_resample.groupby('publication', as_index = False).progress_apply(lambda x: x.sample(10, random_state = 123))"
   ]
  },
  {
   "cell_type": "code",
   "execution_count": 102,
   "id": "c55bb8b8-70be-4895-a68c-7b46e5ae2068",
   "metadata": {},
   "outputs": [],
   "source": [
    "sample = sample.reset_index().drop('level_0',axis =1).rename(columns={'level_1':'tag'})"
   ]
  },
  {
   "cell_type": "code",
   "execution_count": null,
   "id": "b8f83603-97d8-4fda-ad34-6bf2d50ffbe2",
   "metadata": {},
   "outputs": [],
   "source": []
  },
  {
   "cell_type": "code",
   "execution_count": 201,
   "id": "bdc95e27-6cba-4b66-a780-a6740965a070",
   "metadata": {},
   "outputs": [],
   "source": [
    "# Compute top 10 similar documents to each sample, insert in new dataframe\n",
    "rows = []\n",
    "for index, row in sample.iterrows():\n",
    "    tag = row.tag\n",
    "    original_author = row.author\n",
    "    original_pub = row.publication\n",
    "    original_article = row.article\n",
    "    for i in model.dv.most_similar(tag,topn = 10):\n",
    "        data = df_resample.iloc[i[0]]\n",
    "        author = data.author\n",
    "        article = data.article\n",
    "        publication = data.publication\n",
    "        rows.append([i[0],author,article,publication,tag,i[1],original_author, original_pub,original_article])\n",
    "most_similar = pd.DataFrame(rows, columns = ['tag','author','article','publication','similar_to','cos_sim','original_author','original_pub','original_article'])"
   ]
  },
  {
   "cell_type": "code",
   "execution_count": 202,
   "id": "fbe6e152-5de7-420e-9042-c8a76038f329",
   "metadata": {},
   "outputs": [
    {
     "data": {
      "text/html": [
       "<div>\n",
       "<style scoped>\n",
       "    .dataframe tbody tr th:only-of-type {\n",
       "        vertical-align: middle;\n",
       "    }\n",
       "\n",
       "    .dataframe tbody tr th {\n",
       "        vertical-align: top;\n",
       "    }\n",
       "\n",
       "    .dataframe thead th {\n",
       "        text-align: right;\n",
       "    }\n",
       "</style>\n",
       "<table border=\"1\" class=\"dataframe\">\n",
       "  <thead>\n",
       "    <tr style=\"text-align: right;\">\n",
       "      <th></th>\n",
       "      <th>tag</th>\n",
       "      <th>author</th>\n",
       "      <th>article</th>\n",
       "      <th>publication</th>\n",
       "      <th>similar_to</th>\n",
       "      <th>cos_sim</th>\n",
       "      <th>original_author</th>\n",
       "      <th>original_pub</th>\n",
       "      <th>original_article</th>\n",
       "    </tr>\n",
       "  </thead>\n",
       "  <tbody>\n",
       "    <tr>\n",
       "      <th>0</th>\n",
       "      <td>22</td>\n",
       "      <td>Alison Snyder</td>\n",
       "      <td>Major companies are bringing together new mach...</td>\n",
       "      <td>Axios</td>\n",
       "      <td>465</td>\n",
       "      <td>0.744940</td>\n",
       "      <td>Jeff Nesbit (contributor)</td>\n",
       "      <td>Axios</td>\n",
       "      <td>Scientists have developed a way to pull water ...</td>\n",
       "    </tr>\n",
       "    <tr>\n",
       "      <th>1</th>\n",
       "      <td>2983</td>\n",
       "      <td>Erin Ross</td>\n",
       "      <td>Bats are world-class echolocators, capable of ...</td>\n",
       "      <td>Axios</td>\n",
       "      <td>465</td>\n",
       "      <td>0.741492</td>\n",
       "      <td>Jeff Nesbit (contributor)</td>\n",
       "      <td>Axios</td>\n",
       "      <td>Scientists have developed a way to pull water ...</td>\n",
       "    </tr>\n",
       "    <tr>\n",
       "      <th>2</th>\n",
       "      <td>65475</td>\n",
       "      <td>Knvul Sheikh</td>\n",
       "      <td>Trilobites Scientists have created “soft” magn...</td>\n",
       "      <td>The New York Times</td>\n",
       "      <td>465</td>\n",
       "      <td>0.725941</td>\n",
       "      <td>Jeff Nesbit (contributor)</td>\n",
       "      <td>Axios</td>\n",
       "      <td>Scientists have developed a way to pull water ...</td>\n",
       "    </tr>\n",
       "    <tr>\n",
       "      <th>3</th>\n",
       "      <td>2525</td>\n",
       "      <td>Alison Snyder</td>\n",
       "      <td>When it comes to computing, much of the focus ...</td>\n",
       "      <td>Axios</td>\n",
       "      <td>465</td>\n",
       "      <td>0.721293</td>\n",
       "      <td>Jeff Nesbit (contributor)</td>\n",
       "      <td>Axios</td>\n",
       "      <td>Scientists have developed a way to pull water ...</td>\n",
       "    </tr>\n",
       "    <tr>\n",
       "      <th>4</th>\n",
       "      <td>21208</td>\n",
       "      <td>Chris Ciaccia</td>\n",
       "      <td>close Video Phone charging clothes in our futu...</td>\n",
       "      <td>Fox News</td>\n",
       "      <td>465</td>\n",
       "      <td>0.718649</td>\n",
       "      <td>Jeff Nesbit (contributor)</td>\n",
       "      <td>Axios</td>\n",
       "      <td>Scientists have developed a way to pull water ...</td>\n",
       "    </tr>\n",
       "  </tbody>\n",
       "</table>\n",
       "</div>"
      ],
      "text/plain": [
       "     tag         author                                            article   \n",
       "0     22  Alison Snyder  Major companies are bringing together new mach...  \\\n",
       "1   2983      Erin Ross  Bats are world-class echolocators, capable of ...   \n",
       "2  65475   Knvul Sheikh  Trilobites Scientists have created “soft” magn...   \n",
       "3   2525  Alison Snyder  When it comes to computing, much of the focus ...   \n",
       "4  21208  Chris Ciaccia  close Video Phone charging clothes in our futu...   \n",
       "\n",
       "          publication  similar_to   cos_sim            original_author   \n",
       "0               Axios         465  0.744940  Jeff Nesbit (contributor)  \\\n",
       "1               Axios         465  0.741492  Jeff Nesbit (contributor)   \n",
       "2  The New York Times         465  0.725941  Jeff Nesbit (contributor)   \n",
       "3               Axios         465  0.721293  Jeff Nesbit (contributor)   \n",
       "4            Fox News         465  0.718649  Jeff Nesbit (contributor)   \n",
       "\n",
       "  original_pub                                   original_article  \n",
       "0        Axios  Scientists have developed a way to pull water ...  \n",
       "1        Axios  Scientists have developed a way to pull water ...  \n",
       "2        Axios  Scientists have developed a way to pull water ...  \n",
       "3        Axios  Scientists have developed a way to pull water ...  \n",
       "4        Axios  Scientists have developed a way to pull water ...  "
      ]
     },
     "execution_count": 202,
     "metadata": {},
     "output_type": "execute_result"
    }
   ],
   "source": [
    "most_similar.head(5)"
   ]
  },
  {
   "cell_type": "code",
   "execution_count": 192,
   "id": "b3026180-f62c-4b3e-87a4-eaa5341bc8ca",
   "metadata": {},
   "outputs": [],
   "source": [
    "pub_grouped = most_similar.groupby(['similar_to'])"
   ]
  },
  {
   "cell_type": "markdown",
   "id": "3db7f644-e25e-418c-9575-03cdc7f5c1e8",
   "metadata": {},
   "source": [
    "## Now, we must figure out if the authors are the same\n",
    "This will give us an idea as to whether or not authorship is a key bias point"
   ]
  },
  {
   "cell_type": "code",
   "execution_count": 212,
   "id": "ce0e978d-31c1-420c-95bb-80f8d3840216",
   "metadata": {},
   "outputs": [
    {
     "name": "stdout",
     "output_type": "stream",
     "text": [
      "5.73% of authors are the same, or 149 authors\n"
     ]
    }
   ],
   "source": [
    "# Simple test to see number of similar authors\n",
    "same_author = 0\n",
    "for index, row in most_similar.iterrows():\n",
    "    if row.author == row.original_author:\n",
    "        same_author+=1\n",
    "print(f'{(same_author/len(most_similar))*100:0.2f}% of authors are the same, or {same_author} authors')"
   ]
  },
  {
   "cell_type": "code",
   "execution_count": 211,
   "id": "d09136c4-8b8f-426c-b02f-0027a022cdc9",
   "metadata": {},
   "outputs": [
    {
     "name": "stdout",
     "output_type": "stream",
     "text": [
      "24.23% of publications are the same, or 630 publishers\n"
     ]
    }
   ],
   "source": [
    "same_pub = 0\n",
    "for index, row in most_similar.iterrows():\n",
    "    if row.publication == row.original_pub:\n",
    "        same_pub+=1\n",
    "same_pub\n",
    "print(f'{(same_pub/len(most_similar))*100:0.2f}% of publications are the same, or {same_pub} publishers')"
   ]
  },
  {
   "cell_type": "markdown",
   "id": "2ad449c1-9922-4e30-b90a-743e301c794e",
   "metadata": {},
   "source": [
    "According to these results, publication seems to matter more than authorship, which is very suprising to me"
   ]
  },
  {
   "cell_type": "markdown",
   "id": "08a2d852-6268-4db9-95fe-b009687163b3",
   "metadata": {},
   "source": [
    "## We should now investigate if the topics of these articles are similar, and we can perhaps attempt to pull out important words"
   ]
  },
  {
   "cell_type": "code",
   "execution_count": null,
   "id": "560c2744-df84-4394-9878-4a2e9f5862f2",
   "metadata": {},
   "outputs": [],
   "source": []
  },
  {
   "cell_type": "markdown",
   "id": "7fd328f2-201f-485f-95d1-f56b65cbfaa8",
   "metadata": {
    "tags": []
   },
   "source": [
    "## Attempted tensorboard sample visualization\n",
    "This is completely seperate from the rest, but if you want a cool interactive visualization you can find it here:\n",
    "\n"
   ]
  },
  {
   "cell_type": "code",
   "execution_count": 7,
   "id": "7213f014-2d83-4a35-8c45-f0d2bce34510",
   "metadata": {
    "tags": []
   },
   "outputs": [],
   "source": [
    "def read_corpus(documents):\n",
    "    for i, article in enumerate(documents):\n",
    "        yield gensim.models.doc2vec.TaggedDocument(gensim.utils.simple_preprocess(article, max_len=30), [i])"
   ]
  },
  {
   "cell_type": "code",
   "execution_count": 4,
   "id": "8f6d750c-c8d1-4ab5-a59d-9390209667ef",
   "metadata": {
    "tags": []
   },
   "outputs": [
    {
     "name": "stderr",
     "output_type": "stream",
     "text": [
      "100%|██████████████████████████████████████████████████████████████████████████████████| 26/26 [00:00<00:00, 39.65it/s]\n"
     ]
    }
   ],
   "source": [
    "df_resample2 = data.groupby('publication', as_index = False).progress_apply(lambda x: x.sample(3323))\n",
    "df_resample2 = df_resample2.reset_index(drop = True)"
   ]
  },
  {
   "cell_type": "code",
   "execution_count": 59,
   "id": "f4aa48ee-72c3-41c9-8341-49bc98f3f7c9",
   "metadata": {
    "tags": []
   },
   "outputs": [],
   "source": [
    "df_resample2.to_csv('downsampled_data.csv')"
   ]
  },
  {
   "cell_type": "code",
   "execution_count": 58,
   "id": "d309e0f7-7ab4-4625-a391-2dd533db3de4",
   "metadata": {
    "tags": []
   },
   "outputs": [
    {
     "data": {
      "text/plain": [
       "13000"
      ]
     },
     "execution_count": 58,
     "metadata": {},
     "output_type": "execute_result"
    }
   ],
   "source": [
    "len(df_resample2)"
   ]
  },
  {
   "cell_type": "code",
   "execution_count": 71,
   "id": "28104e8b-6a0a-4244-9505-4a66f38caeba",
   "metadata": {
    "tags": []
   },
   "outputs": [],
   "source": [
    "train_corpus = list(read_corpus(df_resample2.article))"
   ]
  },
  {
   "cell_type": "code",
   "execution_count": null,
   "id": "b44ab21c-53d5-491c-a9b7-b91df0a3d624",
   "metadata": {},
   "outputs": [],
   "source": [
    "len(train_corpus)"
   ]
  },
  {
   "cell_type": "code",
   "execution_count": 61,
   "id": "3919115a-acf1-4069-843c-a746beac07d3",
   "metadata": {
    "collapsed": true,
    "jupyter": {
     "outputs_hidden": true
    },
    "tags": []
   },
   "outputs": [
    {
     "name": "stderr",
     "output_type": "stream",
     "text": [
      "2023-05-14 00:21:20,179 : INFO : Doc2Vec lifecycle event {'params': 'Doc2Vec<dm/m,d25,n5,w5,mc2,s0.001,t3>', 'datetime': '2023-05-14T00:21:20.179941', 'gensim': '4.3.1', 'python': '3.10.11 (tags/v3.10.11:7d4cc5a, Apr  5 2023, 00:38:17) [MSC v.1929 64 bit (AMD64)]', 'platform': 'Windows-10-10.0.19044-SP0', 'event': 'created'}\n",
      "2023-05-14 00:21:20,384 : INFO : collecting all words and their counts\n",
      "2023-05-14 00:21:20,385 : INFO : PROGRESS: at example #0, processed 0 words (0 words/s), 0 word types, 0 tags\n",
      "2023-05-14 00:21:21,303 : INFO : PROGRESS: at example #10000, processed 6418079 words (6994058 words/s), 102443 word types, 0 tags\n",
      "2023-05-14 00:21:21,585 : INFO : collected 115561 word types and 13000 unique tags from a corpus of 13000 examples and 8557376 words\n",
      "2023-05-14 00:21:21,586 : INFO : Creating a fresh vocabulary\n",
      "2023-05-14 00:21:21,774 : INFO : Doc2Vec lifecycle event {'msg': 'effective_min_count=2 retains 71665 unique words (62.01% of original 115561, drops 43896)', 'datetime': '2023-05-14T00:21:21.774428', 'gensim': '4.3.1', 'python': '3.10.11 (tags/v3.10.11:7d4cc5a, Apr  5 2023, 00:38:17) [MSC v.1929 64 bit (AMD64)]', 'platform': 'Windows-10-10.0.19044-SP0', 'event': 'prepare_vocab'}\n",
      "2023-05-14 00:21:21,774 : INFO : Doc2Vec lifecycle event {'msg': 'effective_min_count=2 leaves 8513480 word corpus (99.49% of original 8557376, drops 43896)', 'datetime': '2023-05-14T00:21:21.774428', 'gensim': '4.3.1', 'python': '3.10.11 (tags/v3.10.11:7d4cc5a, Apr  5 2023, 00:38:17) [MSC v.1929 64 bit (AMD64)]', 'platform': 'Windows-10-10.0.19044-SP0', 'event': 'prepare_vocab'}\n",
      "2023-05-14 00:21:22,063 : INFO : deleting the raw counts dictionary of 115561 items\n",
      "2023-05-14 00:21:22,066 : INFO : sample=0.001 downsamples 39 most-common words\n",
      "2023-05-14 00:21:22,066 : INFO : Doc2Vec lifecycle event {'msg': 'downsampling leaves estimated 6863471.175464727 word corpus (80.6%% of prior 8513480)', 'datetime': '2023-05-14T00:21:22.066500', 'gensim': '4.3.1', 'python': '3.10.11 (tags/v3.10.11:7d4cc5a, Apr  5 2023, 00:38:17) [MSC v.1929 64 bit (AMD64)]', 'platform': 'Windows-10-10.0.19044-SP0', 'event': 'prepare_vocab'}\n",
      "2023-05-14 00:21:22,532 : INFO : estimated required memory for 71665 words and 25 dimensions: 54065500 bytes\n",
      "2023-05-14 00:21:22,533 : INFO : resetting layer weights\n",
      "2023-05-14 00:21:22,541 : INFO : Doc2Vec lifecycle event {'msg': 'training model with 3 workers on 71665 vocabulary and 25 features, using sg=0 hs=0 sample=0.001 negative=5 window=5 shrink_windows=True', 'datetime': '2023-05-14T00:21:22.541642', 'gensim': '4.3.1', 'python': '3.10.11 (tags/v3.10.11:7d4cc5a, Apr  5 2023, 00:38:17) [MSC v.1929 64 bit (AMD64)]', 'platform': 'Windows-10-10.0.19044-SP0', 'event': 'train'}\n",
      "2023-05-14 00:21:23,545 : INFO : EPOCH 0 - PROGRESS: at 28.39% examples, 1809473 words/s, in_qsize 6, out_qsize 0\n",
      "2023-05-14 00:21:24,549 : INFO : EPOCH 0 - PROGRESS: at 45.15% examples, 1693470 words/s, in_qsize 5, out_qsize 0\n",
      "2023-05-14 00:21:25,553 : INFO : EPOCH 0 - PROGRESS: at 77.77% examples, 1730259 words/s, in_qsize 5, out_qsize 0\n",
      "2023-05-14 00:21:26,435 : INFO : EPOCH 0: training on 8557376 raw words (6876198 effective words) took 3.9s, 1767105 effective words/s\n",
      "2023-05-14 00:21:27,442 : INFO : EPOCH 1 - PROGRESS: at 29.80% examples, 1871584 words/s, in_qsize 5, out_qsize 0\n",
      "2023-05-14 00:21:28,445 : INFO : EPOCH 1 - PROGRESS: at 48.52% examples, 1840200 words/s, in_qsize 5, out_qsize 0\n",
      "2023-05-14 00:21:29,446 : INFO : EPOCH 1 - PROGRESS: at 83.35% examples, 1854401 words/s, in_qsize 5, out_qsize 0\n",
      "2023-05-14 00:21:30,136 : INFO : EPOCH 1: training on 8557376 raw words (6874708 effective words) took 3.7s, 1858571 effective words/s\n",
      "2023-05-14 00:21:31,140 : INFO : EPOCH 2 - PROGRESS: at 29.80% examples, 1876138 words/s, in_qsize 5, out_qsize 0\n",
      "2023-05-14 00:21:32,144 : INFO : EPOCH 2 - PROGRESS: at 46.22% examples, 1795295 words/s, in_qsize 5, out_qsize 0\n",
      "2023-05-14 00:21:33,144 : INFO : EPOCH 2 - PROGRESS: at 82.19% examples, 1823513 words/s, in_qsize 5, out_qsize 0\n",
      "2023-05-14 00:21:33,886 : INFO : EPOCH 2: training on 8557376 raw words (6874386 effective words) took 3.7s, 1834373 effective words/s\n",
      "2023-05-14 00:21:34,890 : INFO : EPOCH 3 - PROGRESS: at 30.14% examples, 1898002 words/s, in_qsize 5, out_qsize 0\n",
      "2023-05-14 00:21:35,890 : INFO : EPOCH 3 - PROGRESS: at 48.52% examples, 1844733 words/s, in_qsize 5, out_qsize 0\n",
      "2023-05-14 00:21:36,892 : INFO : EPOCH 3 - PROGRESS: at 83.35% examples, 1856522 words/s, in_qsize 6, out_qsize 0\n",
      "2023-05-14 00:21:37,665 : INFO : EPOCH 3: training on 8557376 raw words (6875422 effective words) took 3.8s, 1820030 effective words/s\n",
      "2023-05-14 00:21:38,668 : INFO : EPOCH 4 - PROGRESS: at 28.82% examples, 1832755 words/s, in_qsize 5, out_qsize 0\n",
      "2023-05-14 00:21:39,671 : INFO : EPOCH 4 - PROGRESS: at 47.37% examples, 1820400 words/s, in_qsize 5, out_qsize 0\n",
      "2023-05-14 00:21:40,673 : INFO : EPOCH 4 - PROGRESS: at 82.94% examples, 1847099 words/s, in_qsize 5, out_qsize 0\n",
      "2023-05-14 00:21:41,366 : INFO : EPOCH 4: training on 8557376 raw words (6875549 effective words) took 3.7s, 1859426 effective words/s\n",
      "2023-05-14 00:21:42,374 : INFO : EPOCH 5 - PROGRESS: at 30.52% examples, 1914513 words/s, in_qsize 5, out_qsize 0\n",
      "2023-05-14 00:21:43,376 : INFO : EPOCH 5 - PROGRESS: at 48.72% examples, 1844116 words/s, in_qsize 5, out_qsize 0\n",
      "2023-05-14 00:21:44,376 : INFO : EPOCH 5 - PROGRESS: at 82.94% examples, 1844798 words/s, in_qsize 5, out_qsize 0\n",
      "2023-05-14 00:21:45,112 : INFO : EPOCH 5: training on 8557376 raw words (6875128 effective words) took 3.7s, 1836168 effective words/s\n",
      "2023-05-14 00:21:46,115 : INFO : EPOCH 6 - PROGRESS: at 27.22% examples, 1738991 words/s, in_qsize 5, out_qsize 0\n",
      "2023-05-14 00:21:47,118 : INFO : EPOCH 6 - PROGRESS: at 45.55% examples, 1729278 words/s, in_qsize 5, out_qsize 0\n",
      "2023-05-14 00:21:48,121 : INFO : EPOCH 6 - PROGRESS: at 77.77% examples, 1730654 words/s, in_qsize 5, out_qsize 0\n",
      "2023-05-14 00:21:49,059 : INFO : EPOCH 6: training on 8557376 raw words (6874733 effective words) took 3.9s, 1742868 effective words/s\n",
      "2023-05-14 00:21:50,062 : INFO : EPOCH 7 - PROGRESS: at 24.48% examples, 1586419 words/s, in_qsize 6, out_qsize 0\n",
      "2023-05-14 00:21:51,067 : INFO : EPOCH 7 - PROGRESS: at 44.70% examples, 1629019 words/s, in_qsize 5, out_qsize 0\n",
      "2023-05-14 00:21:52,070 : INFO : EPOCH 7 - PROGRESS: at 75.50% examples, 1667782 words/s, in_qsize 5, out_qsize 0\n",
      "2023-05-14 00:21:53,077 : INFO : EPOCH 7 - PROGRESS: at 98.50% examples, 1693944 words/s, in_qsize 5, out_qsize 0\n",
      "2023-05-14 00:21:53,119 : INFO : EPOCH 7: training on 8557376 raw words (6875453 effective words) took 4.1s, 1694024 effective words/s\n",
      "2023-05-14 00:21:54,122 : INFO : EPOCH 8 - PROGRESS: at 26.59% examples, 1700615 words/s, in_qsize 5, out_qsize 0\n",
      "2023-05-14 00:21:55,123 : INFO : EPOCH 8 - PROGRESS: at 45.25% examples, 1703634 words/s, in_qsize 5, out_qsize 0\n",
      "2023-05-14 00:21:56,124 : INFO : EPOCH 8 - PROGRESS: at 77.19% examples, 1723385 words/s, in_qsize 6, out_qsize 0\n",
      "2023-05-14 00:21:57,112 : INFO : EPOCH 8: training on 8557376 raw words (6874302 effective words) took 4.0s, 1722281 effective words/s\n",
      "2023-05-14 00:21:58,121 : INFO : EPOCH 9 - PROGRESS: at 26.79% examples, 1707718 words/s, in_qsize 6, out_qsize 0\n",
      "2023-05-14 00:21:59,124 : INFO : EPOCH 9 - PROGRESS: at 45.69% examples, 1739173 words/s, in_qsize 5, out_qsize 0\n",
      "2023-05-14 00:22:00,127 : INFO : EPOCH 9 - PROGRESS: at 77.89% examples, 1730020 words/s, in_qsize 5, out_qsize 0\n",
      "2023-05-14 00:22:01,027 : INFO : EPOCH 9: training on 8557376 raw words (6875771 effective words) took 3.9s, 1757673 effective words/s\n",
      "2023-05-14 00:22:02,030 : INFO : EPOCH 10 - PROGRESS: at 30.24% examples, 1908253 words/s, in_qsize 5, out_qsize 0\n",
      "2023-05-14 00:22:03,032 : INFO : EPOCH 10 - PROGRESS: at 49.08% examples, 1856777 words/s, in_qsize 5, out_qsize 0\n",
      "2023-05-14 00:22:04,035 : INFO : EPOCH 10 - PROGRESS: at 81.94% examples, 1815866 words/s, in_qsize 5, out_qsize 0\n",
      "2023-05-14 00:22:04,850 : INFO : EPOCH 10: training on 8557376 raw words (6874953 effective words) took 3.8s, 1799326 effective words/s\n",
      "2023-05-14 00:22:05,857 : INFO : EPOCH 11 - PROGRESS: at 26.06% examples, 1663181 words/s, in_qsize 6, out_qsize 0\n",
      "2023-05-14 00:22:06,859 : INFO : EPOCH 11 - PROGRESS: at 44.92% examples, 1654635 words/s, in_qsize 5, out_qsize 0\n",
      "2023-05-14 00:22:07,863 : INFO : EPOCH 11 - PROGRESS: at 72.97% examples, 1596390 words/s, in_qsize 5, out_qsize 0\n",
      "2023-05-14 00:22:08,866 : INFO : EPOCH 11 - PROGRESS: at 95.14% examples, 1648289 words/s, in_qsize 5, out_qsize 0\n",
      "2023-05-14 00:22:09,006 : INFO : EPOCH 11: training on 8557376 raw words (6875579 effective words) took 4.2s, 1655345 effective words/s\n",
      "2023-05-14 00:22:10,010 : INFO : EPOCH 12 - PROGRESS: at 28.82% examples, 1830276 words/s, in_qsize 5, out_qsize 0\n",
      "2023-05-14 00:22:11,012 : INFO : EPOCH 12 - PROGRESS: at 47.20% examples, 1816282 words/s, in_qsize 5, out_qsize 0\n",
      "2023-05-14 00:22:12,015 : INFO : EPOCH 12 - PROGRESS: at 82.77% examples, 1837840 words/s, in_qsize 5, out_qsize 0\n",
      "2023-05-14 00:22:12,779 : INFO : EPOCH 12: training on 8557376 raw words (6874911 effective words) took 3.8s, 1822934 effective words/s\n",
      "2023-05-14 00:22:13,783 : INFO : EPOCH 13 - PROGRESS: at 29.95% examples, 1885077 words/s, in_qsize 5, out_qsize 0\n",
      "2023-05-14 00:22:14,783 : INFO : EPOCH 13 - PROGRESS: at 45.87% examples, 1768603 words/s, in_qsize 5, out_qsize 0\n",
      "2023-05-14 00:22:15,788 : INFO : EPOCH 13 - PROGRESS: at 78.52% examples, 1745506 words/s, in_qsize 5, out_qsize 0\n",
      "2023-05-14 00:22:16,750 : INFO : EPOCH 13: training on 8557376 raw words (6875130 effective words) took 4.0s, 1732533 effective words/s\n",
      "2023-05-14 00:22:17,755 : INFO : EPOCH 14 - PROGRESS: at 28.82% examples, 1829873 words/s, in_qsize 5, out_qsize 0\n",
      "2023-05-14 00:22:18,756 : INFO : EPOCH 14 - PROGRESS: at 46.78% examples, 1808630 words/s, in_qsize 5, out_qsize 0\n",
      "2023-05-14 00:22:19,759 : INFO : EPOCH 14 - PROGRESS: at 82.77% examples, 1838233 words/s, in_qsize 5, out_qsize 0\n",
      "2023-05-14 00:22:20,476 : INFO : EPOCH 14: training on 8557376 raw words (6875409 effective words) took 3.7s, 1846720 effective words/s\n",
      "2023-05-14 00:22:21,482 : INFO : EPOCH 15 - PROGRESS: at 30.69% examples, 1927712 words/s, in_qsize 5, out_qsize 0\n",
      "2023-05-14 00:22:22,483 : INFO : EPOCH 15 - PROGRESS: at 45.95% examples, 1772805 words/s, in_qsize 5, out_qsize 0\n",
      "2023-05-14 00:22:23,484 : INFO : EPOCH 15 - PROGRESS: at 78.68% examples, 1748943 words/s, in_qsize 5, out_qsize 0\n",
      "2023-05-14 00:22:24,472 : INFO : EPOCH 15: training on 8557376 raw words (6876534 effective words) took 4.0s, 1722007 effective words/s\n",
      "2023-05-14 00:22:25,475 : INFO : EPOCH 16 - PROGRESS: at 26.28% examples, 1677851 words/s, in_qsize 5, out_qsize 0\n",
      "2023-05-14 00:22:26,479 : INFO : EPOCH 16 - PROGRESS: at 45.69% examples, 1742425 words/s, in_qsize 5, out_qsize 0\n",
      "2023-05-14 00:22:27,486 : INFO : EPOCH 16 - PROGRESS: at 79.99% examples, 1770106 words/s, in_qsize 5, out_qsize 0\n",
      "2023-05-14 00:22:28,302 : INFO : EPOCH 16: training on 8557376 raw words (6874684 effective words) took 3.8s, 1795816 effective words/s\n",
      "2023-05-14 00:22:29,309 : INFO : EPOCH 17 - PROGRESS: at 29.89% examples, 1879414 words/s, in_qsize 5, out_qsize 0\n",
      "2023-05-14 00:22:30,309 : INFO : EPOCH 17 - PROGRESS: at 46.02% examples, 1783521 words/s, in_qsize 5, out_qsize 0\n",
      "2023-05-14 00:22:31,310 : INFO : EPOCH 17 - PROGRESS: at 78.68% examples, 1748783 words/s, in_qsize 5, out_qsize 0\n",
      "2023-05-14 00:22:32,210 : INFO : EPOCH 17: training on 8557376 raw words (6874895 effective words) took 3.9s, 1760524 effective words/s\n",
      "2023-05-14 00:22:33,213 : INFO : EPOCH 18 - PROGRESS: at 25.18% examples, 1619971 words/s, in_qsize 5, out_qsize 0\n",
      "2023-05-14 00:22:34,219 : INFO : EPOCH 18 - PROGRESS: at 44.82% examples, 1635758 words/s, in_qsize 5, out_qsize 0\n",
      "2023-05-14 00:22:35,220 : INFO : EPOCH 18 - PROGRESS: at 72.30% examples, 1585319 words/s, in_qsize 5, out_qsize 0\n",
      "2023-05-14 00:22:36,221 : INFO : EPOCH 18 - PROGRESS: at 92.68% examples, 1610545 words/s, in_qsize 5, out_qsize 0\n",
      "2023-05-14 00:22:36,472 : INFO : EPOCH 18: training on 8557376 raw words (6875715 effective words) took 4.3s, 1613835 effective words/s\n",
      "2023-05-14 00:22:37,482 : INFO : EPOCH 19 - PROGRESS: at 27.35% examples, 1735573 words/s, in_qsize 4, out_qsize 1\n",
      "2023-05-14 00:22:38,482 : INFO : EPOCH 19 - PROGRESS: at 45.35% examples, 1706063 words/s, in_qsize 5, out_qsize 0\n",
      "2023-05-14 00:22:39,483 : INFO : EPOCH 19 - PROGRESS: at 76.56% examples, 1701755 words/s, in_qsize 5, out_qsize 0\n",
      "2023-05-14 00:22:40,464 : INFO : EPOCH 19: training on 8557376 raw words (6874238 effective words) took 4.0s, 1723291 effective words/s\n",
      "2023-05-14 00:22:40,465 : INFO : Doc2Vec lifecycle event {'msg': 'training on 171147520 raw words (137503698 effective words) took 77.9s, 1764614 effective words/s', 'datetime': '2023-05-14T00:22:40.465727', 'gensim': '4.3.1', 'python': '3.10.11 (tags/v3.10.11:7d4cc5a, Apr  5 2023, 00:38:17) [MSC v.1929 64 bit (AMD64)]', 'platform': 'Windows-10-10.0.19044-SP0', 'event': 'train'}\n"
     ]
    }
   ],
   "source": [
    "model = gensim.models.doc2vec.Doc2Vec(vector_size=25, min_count=2, epochs=20)\n",
    "model.build_vocab(train_corpus)\n",
    "model.train(train_corpus, total_examples=model.corpus_count, epochs=model.epochs)"
   ]
  },
  {
   "cell_type": "code",
   "execution_count": 64,
   "id": "b6ffe80c-9502-4823-adb9-620b6d582175",
   "metadata": {
    "tags": []
   },
   "outputs": [
    {
     "name": "stderr",
     "output_type": "stream",
     "text": [
      "2023-05-14 00:24:18,538 : WARNING : attribute doc_count not present in KeyedVectors<vector_size=25, 13000 keys>; will store in internal index_to_key order\n",
      "2023-05-14 00:24:18,539 : INFO : storing 13000x25 projection weights into doc_tensor2.w2v\n"
     ]
    }
   ],
   "source": [
    "model.save_word2vec_format('doc_tensor2.w2v', doctag_vec=True, word_vec=False)"
   ]
  },
  {
   "cell_type": "code",
   "execution_count": 65,
   "id": "9a12c099-26d8-46bb-af30-cb71da37de5e",
   "metadata": {
    "tags": []
   },
   "outputs": [
    {
     "name": "stderr",
     "output_type": "stream",
     "text": [
      "2023-05-14 00:24:33,892 : INFO : running ./env/Lib/site-packages/gensim/scripts/word2vec2tensor.py -i doc_tensor2.w2v -o downsampled\n",
      "2023-05-14 00:24:33,893 : INFO : loading projection weights from doc_tensor2.w2v\n",
      "2023-05-14 00:24:34,145 : INFO : KeyedVectors lifecycle event {'msg': 'loaded (13000, 25) matrix of type float32 from doc_tensor2.w2v', 'binary': False, 'encoding': 'utf8', 'datetime': '2023-05-14T00:24:34.145676', 'gensim': '4.3.1', 'python': '3.10.11 (tags/v3.10.11:7d4cc5a, Apr  5 2023, 00:38:17) [MSC v.1929 64 bit (AMD64)]', 'platform': 'Windows-10-10.0.19044-SP0', 'event': 'load_word2vec_format'}\n",
      "2023-05-14 00:24:34,326 : INFO : 2D tensor file saved to downsampled_tensor.tsv\n",
      "2023-05-14 00:24:34,327 : INFO : Tensor metadata file saved to downsampled_metadata.tsv\n",
      "2023-05-14 00:24:34,327 : INFO : finished running word2vec2tensor.py\n"
     ]
    }
   ],
   "source": [
    "%run ./env/Lib/site-packages/gensim/scripts/word2vec2tensor.py -i doc_tensor2.w2v -o downsampled"
   ]
  },
  {
   "cell_type": "code",
   "execution_count": 98,
   "id": "406d29fe-c8af-4af8-805b-b7b3ff16ad05",
   "metadata": {
    "tags": []
   },
   "outputs": [
    {
     "data": {
      "text/plain": [
       "0                     Orion Rummler\n",
       "1                  Kia Kokalitcheva\n",
       "2                         Ben Geman\n",
       "3                     Haley Britzky\n",
       "4                     Ursula Perano\n",
       "                    ...            \n",
       "12995               Aarian Marshall\n",
       "12996                   WIRED Staff\n",
       "12997                   WIRED Staff\n",
       "12998    Will Bedingfield, WIRED UK\n",
       "12999                   WIRED Staff\n",
       "Name: author, Length: 13000, dtype: object"
      ]
     },
     "execution_count": 98,
     "metadata": {},
     "output_type": "execute_result"
    }
   ],
   "source": [
    "df_resample2['author']"
   ]
  },
  {
   "cell_type": "code",
   "execution_count": 89,
   "id": "4db531b8-b048-4425-bd0e-0331e9d72bab",
   "metadata": {
    "tags": []
   },
   "outputs": [],
   "source": [
    "df_resample2['author'] = df_resample2['author'].fillna('None').astype(str)"
   ]
  },
  {
   "cell_type": "code",
   "execution_count": 100,
   "id": "c2c68556-6bf6-4770-9dc3-22f6dbf7b26d",
   "metadata": {
    "tags": []
   },
   "outputs": [],
   "source": [
    "with open('downsampled_metadata.tsv','w', encoding = \"utf-8\") as w:\n",
    "    w.write('Publication\\tURL\\n')\n",
    "    for i,j in zip(df_resample2.publication,df_resample2.url):\n",
    "        w.write(\"%s\\t%s\\n\" % (i,j))"
   ]
  },
  {
   "cell_type": "code",
   "execution_count": 94,
   "id": "0c5043e3-3977-4fad-ab6e-e02aed7e327b",
   "metadata": {
    "tags": []
   },
   "outputs": [
    {
     "name": "stdout",
     "output_type": "stream",
     "text": [
      "13000\n"
     ]
    }
   ],
   "source": [
    "test = 0\n",
    "for i,j,k in zip(df_resample2.publication,df_resample2.url,df_resample2.author):\n",
    "    test+=1\n",
    "print(test)"
   ]
  },
  {
   "cell_type": "code",
   "execution_count": 81,
   "id": "7fa4b021-0523-46d2-a618-80309c480855",
   "metadata": {},
   "outputs": [
    {
     "data": {
      "text/html": [
       "<div>\n",
       "<style scoped>\n",
       "    .dataframe tbody tr th:only-of-type {\n",
       "        vertical-align: middle;\n",
       "    }\n",
       "\n",
       "    .dataframe tbody tr th {\n",
       "        vertical-align: top;\n",
       "    }\n",
       "\n",
       "    .dataframe thead th {\n",
       "        text-align: right;\n",
       "    }\n",
       "</style>\n",
       "<table border=\"1\" class=\"dataframe\">\n",
       "  <thead>\n",
       "    <tr style=\"text-align: right;\">\n",
       "      <th></th>\n",
       "      <th>Publication\\tAuthor\\tURL</th>\n",
       "    </tr>\n",
       "  </thead>\n",
       "  <tbody>\n",
       "    <tr>\n",
       "      <th>0</th>\n",
       "      <td>Axios\\tOrion Rummler\\thttps://www.axios.com/el...</td>\n",
       "    </tr>\n",
       "    <tr>\n",
       "      <th>1</th>\n",
       "      <td>Axios\\tKia Kokalitcheva\\thttps://www.axios.com...</td>\n",
       "    </tr>\n",
       "    <tr>\n",
       "      <th>2</th>\n",
       "      <td>Axios\\tBen Geman\\thttps://www.axios.com/democr...</td>\n",
       "    </tr>\n",
       "    <tr>\n",
       "      <th>3</th>\n",
       "      <td>Axios\\tHaley Britzky\\thttps://www.axios.com/tr...</td>\n",
       "    </tr>\n",
       "    <tr>\n",
       "      <th>4</th>\n",
       "      <td>Axios\\tUrsula Perano\\thttps://www.axios.com/tr...</td>\n",
       "    </tr>\n",
       "    <tr>\n",
       "      <th>...</th>\n",
       "      <td>...</td>\n",
       "    </tr>\n",
       "    <tr>\n",
       "      <th>12425</th>\n",
       "      <td>Wired\\tWIRED Staff\\thttps://www.wired.com/stor...</td>\n",
       "    </tr>\n",
       "    <tr>\n",
       "      <th>12426</th>\n",
       "      <td>Wired\\tAarian Marshall\\thttps://www.wired.com/...</td>\n",
       "    </tr>\n",
       "    <tr>\n",
       "      <th>12427</th>\n",
       "      <td>Wired\\tWIRED Staff\\thttps://www.wired.com/2016...</td>\n",
       "    </tr>\n",
       "    <tr>\n",
       "      <th>12428</th>\n",
       "      <td>Wired\\tWIRED Staff\\thttps://www.wired.com/stor...</td>\n",
       "    </tr>\n",
       "    <tr>\n",
       "      <th>12429</th>\n",
       "      <td>Wired\\tWIRED Staff\\thttps://www.wired.com/2016...</td>\n",
       "    </tr>\n",
       "  </tbody>\n",
       "</table>\n",
       "<p>12430 rows × 1 columns</p>\n",
       "</div>"
      ],
      "text/plain": [
       "                                Publication\\tAuthor\\tURL\n",
       "0      Axios\\tOrion Rummler\\thttps://www.axios.com/el...\n",
       "1      Axios\\tKia Kokalitcheva\\thttps://www.axios.com...\n",
       "2      Axios\\tBen Geman\\thttps://www.axios.com/democr...\n",
       "3      Axios\\tHaley Britzky\\thttps://www.axios.com/tr...\n",
       "4      Axios\\tUrsula Perano\\thttps://www.axios.com/tr...\n",
       "...                                                  ...\n",
       "12425  Wired\\tWIRED Staff\\thttps://www.wired.com/stor...\n",
       "12426  Wired\\tAarian Marshall\\thttps://www.wired.com/...\n",
       "12427  Wired\\tWIRED Staff\\thttps://www.wired.com/2016...\n",
       "12428  Wired\\tWIRED Staff\\thttps://www.wired.com/stor...\n",
       "12429  Wired\\tWIRED Staff\\thttps://www.wired.com/2016...\n",
       "\n",
       "[12430 rows x 1 columns]"
      ]
     },
     "execution_count": 81,
     "metadata": {},
     "output_type": "execute_result"
    }
   ],
   "source": []
  },
  {
   "cell_type": "code",
   "execution_count": null,
   "id": "26d7652b-f948-4571-b70b-ea6ff29666c1",
   "metadata": {},
   "outputs": [],
   "source": []
  }
 ],
 "metadata": {
  "kernelspec": {
   "display_name": "Python 3 (ipykernel)",
   "language": "python",
   "name": "python3"
  },
  "language_info": {
   "codemirror_mode": {
    "name": "ipython",
    "version": 3
   },
   "file_extension": ".py",
   "mimetype": "text/x-python",
   "name": "python",
   "nbconvert_exporter": "python",
   "pygments_lexer": "ipython3",
   "version": "3.11.3"
  }
 },
 "nbformat": 4,
 "nbformat_minor": 5
}
